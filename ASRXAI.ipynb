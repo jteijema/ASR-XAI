{
 "cells": [
  {
   "cell_type": "code",
   "execution_count": 1,
   "metadata": {},
   "outputs": [
    {
     "name": "stdout",
     "output_type": "stream",
     "text": [
      "2025-06-25 10:01:46,870 SequenceTagger predicts: Dictionary with 47 tags: O, S-NP, B-NP, E-NP, I-NP, S-VP, B-VP, E-VP, I-VP, S-PP, B-PP, E-PP, I-PP, S-ADVP, B-ADVP, E-ADVP, I-ADVP, S-SBAR, B-SBAR, E-SBAR, I-SBAR, S-ADJP, B-ADJP, E-ADJP, I-ADJP, S-PRT, B-PRT, E-PRT, I-PRT, S-CONJP, B-CONJP, E-CONJP, I-CONJP, S-INTJ, B-INTJ, E-INTJ, I-INTJ, S-LST, B-LST, E-LST, I-LST, S-UCP, B-UCP, E-UCP, I-UCP, <START>, <STOP>\n"
     ]
    },
    {
     "name": "stderr",
     "output_type": "stream",
     "text": [
      "[nltk_data] Downloading package punkt to\n",
      "[nltk_data]     C:\\Users\\5927226\\AppData\\Roaming\\nltk_data...\n",
      "[nltk_data]   Package punkt is already up-to-date!\n",
      "[nltk_data] Downloading package punkt to\n",
      "[nltk_data]     C:\\Users\\5927226\\AppData\\Roaming\\nltk_data...\n",
      "[nltk_data]   Package punkt is already up-to-date!\n",
      "[nltk_data] Downloading package punkt_tab to\n",
      "[nltk_data]     C:\\Users\\5927226\\AppData\\Roaming\\nltk_data...\n",
      "[nltk_data]   Package punkt_tab is already up-to-date!\n",
      "[nltk_data] Downloading package stopwords to\n",
      "[nltk_data]     C:\\Users\\5927226\\AppData\\Roaming\\nltk_data...\n",
      "[nltk_data]   Package stopwords is already up-to-date!\n"
     ]
    }
   ],
   "source": [
    "import asreview as asr\n",
    "\n",
    "from asreview.models.balancers import Balanced\n",
    "from asreview.models.queriers import Max\n",
    "\n",
    "from asreview.models.classifiers import SVM\n",
    "from asreviewcontrib.dory.classifiers.neural_networks import DynamicNNClassifier  # noqa:F401\n",
    "from asreviewcontrib.dory.feature_extractors.transformer_embeddings import MXBAI\n",
    "\n",
    "from sklearn.decomposition import NMF\n",
    "from cockatiel.cockatiel.sampling import ScipySobolSequence\n",
    "from cockatiel.cockatiel.sobol import SobolEstimator  # JansenEstimator\n",
    "import matplotlib.pyplot as plt\n",
    "import random\n",
    "\n",
    "import numpy as np\n",
    "import pandas as pd\n",
    "from dataclasses import dataclass, field\n",
    "import os\n",
    "\n",
    "import nltk\n",
    "from nltk.tokenize import sent_tokenize\n",
    "from nltk.corpus import stopwords\n",
    "from nltk.stem import PorterStemmer\n",
    "\n",
    "from collections import Counter\n",
    "import re\n",
    "\n",
    "nltk.download(info_or_id=\"punkt_tab\")\n",
    "nltk.download(\"stopwords\")\n",
    "stop_words = set(stopwords.words(\"english\"))"
   ]
  },
  {
   "cell_type": "code",
   "execution_count": 2,
   "metadata": {},
   "outputs": [],
   "source": [
    "dataset = \"Jeyaraman_2020\"\n",
    "\n",
    "data = asr.load_dataset(f\"data/{dataset}.csv\")\n",
    "\n",
    "alc = asr.ActiveLearningCycle(\n",
    "    # classifier=DynamicNNClassifier(),\n",
    "    classifier=SVM(max_iter=5000, loss=\"squared_hinge\", C=0.067),  # classifier c(x)\n",
    "    feature_extractor=MXBAI(normalize=False),\n",
    "    balancer=Balanced(ratio=9.724),\n",
    "    querier=Max(),\n",
    ")"
   ]
  },
  {
   "cell_type": "code",
   "execution_count": 3,
   "metadata": {},
   "outputs": [],
   "source": [
    "embedding_path = f\"data/{dataset}_embedding_matrix.pkl\"\n",
    "\n",
    "if not os.path.exists(embedding_path):\n",
    "    embedding_matrix = alc.transform(data)\n",
    "    pd.DataFrame(embedding_matrix).to_pickle(embedding_path)\n",
    "    embedding_matrix = np.array(embedding_matrix)\n",
    "else:\n",
    "    embedding_matrix = pd.read_pickle(embedding_path)\n",
    "    embedding_matrix = np.array(embedding_matrix)\n"
   ]
  },
  {
   "cell_type": "code",
   "execution_count": 4,
   "metadata": {},
   "outputs": [],
   "source": [
    "def normalize_embedding(fm) -> np.ndarray:\n",
    "    return (fm - fm.min()) / (fm.max() - fm.min())\n",
    "\n",
    "\n",
    "@dataclass\n",
    "class EmbeddingNormalizer:\n",
    "    base_embedding: np.ndarray\n",
    "    embedding_min: float = field(init=False)\n",
    "    embedding_max: float = field(init=False)\n",
    "\n",
    "    def __post_init__(self):\n",
    "        self.embedding_min = float(self.base_embedding.min())\n",
    "        self.embedding_max = float(self.base_embedding.max())\n",
    "\n",
    "    def normalize(self, embedding) -> np.ndarray:\n",
    "        return (embedding - self.embedding_min) / (\n",
    "            self.embedding_max - self.embedding_min\n",
    "        )\n",
    "\n",
    "\n",
    "embedding_normalizer = EmbeddingNormalizer(embedding_matrix)\n",
    "\n",
    "normalized_embedding_matrix: np.ndarray = embedding_normalizer.normalize(\n",
    "    embedding_matrix\n",
    ")"
   ]
  },
  {
   "cell_type": "code",
   "execution_count": 5,
   "metadata": {},
   "outputs": [
    {
     "data": {
      "text/plain": [
       "6       1\n",
       "19      1\n",
       "25      1\n",
       "30      1\n",
       "34      1\n",
       "       ..\n",
       "1137    1\n",
       "1138    1\n",
       "1150    1\n",
       "1155    1\n",
       "1159    1\n",
       "Name: included, Length: 96, dtype: int64"
      ]
     },
     "execution_count": 5,
     "metadata": {},
     "output_type": "execute_result"
    }
   ],
   "source": [
    "data[\"included\"][data[\"included\"] == 1]"
   ]
  },
  {
   "cell_type": "code",
   "execution_count": 6,
   "metadata": {},
   "outputs": [
    {
     "name": "stderr",
     "output_type": "stream",
     "text": [
      "Relevant records found:   6%|▋         | 6/96 [00:00<?, ?it/s]"
     ]
    },
    {
     "name": "stderr",
     "output_type": "stream",
     "text": [
      "Relevant records found: 100%|██████████| 96/96 [10:01<00:00,  6.69s/it] \n",
      "Records labeled       :  83%|████████▎ | 971/1175 [10:01<02:16,  1.50it/s]"
     ]
    },
    {
     "name": "stdout",
     "output_type": "stream",
     "text": [
      "\n",
      "Loss: 0.106\n",
      "NDCG: 0.734\n"
     ]
    },
    {
     "name": "stderr",
     "output_type": "stream",
     "text": [
      "\n"
     ]
    }
   ],
   "source": [
    "simulate = asr.Simulate(  # c(A) in the cycler\n",
    "    X=normalized_embedding_matrix,\n",
    "    labels=list(data[\"included\"]),\n",
    "    cycles=[alc],\n",
    "    skip_transform=True,\n",
    ")\n",
    "\n",
    "simulate.label(list(range(70)))\n",
    "simulate.review()"
   ]
  },
  {
   "cell_type": "code",
   "execution_count": 7,
   "metadata": {},
   "outputs": [],
   "source": [
    "def get_proba_from_cycle(X: np.ndarray, simulate: asr.Simulate = simulate):\n",
    "    try:\n",
    "        proba = simulate.cycles[0].classifier.predict_proba(X)\n",
    "        return proba\n",
    "\n",
    "    except AttributeError:\n",
    "        try:\n",
    "            scores = simulate.cycles[0].classifier.decision_function(X).reshape(-1, 1)\n",
    "            pos = np.maximum(scores, 0.0).reshape(-1, 1)\n",
    "            neg = np.maximum(-scores, 0.0).reshape(-1, 1)\n",
    "            return np.hstack([neg, pos])\n",
    "\n",
    "        except AttributeError:\n",
    "            raise AttributeError(\n",
    "                \"Not possible to compute probabilities or \"\n",
    "                \"decision function for this classifier.\"\n",
    "            )"
   ]
  },
  {
   "cell_type": "markdown",
   "metadata": {},
   "source": [
    "# Cockatiel - positive"
   ]
  },
  {
   "cell_type": "code",
   "execution_count": 8,
   "metadata": {},
   "outputs": [],
   "source": [
    "class JansenEstimator(SobolEstimator):\n",
    "    def __call__(self, masks, outputs, nb_design):\n",
    "        nb_dim = self.masks_dim(masks)\n",
    "        sampling_a, _, replication_c = self.split_abc(outputs, nb_design, nb_dim)\n",
    "        mu_a = np.mean(sampling_a)\n",
    "        var = np.sum([(v - mu_a) ** 2 for v in sampling_a]) / (len(sampling_a) - 1)\n",
    "        eps = 1e-12\n",
    "        if var < eps:\n",
    "            return np.zeros(nb_dim)\n",
    "        stis = [\n",
    "            np.sum((sampling_a - replication_c[i]) ** 2.0) / (2 * nb_design * var)\n",
    "            for i in range(nb_dim)\n",
    "        ]\n",
    "        return self.post_process(stis, masks)\n",
    "\n",
    "\n",
    "def sobol_importance(\n",
    "    activations: np.ndarray,\n",
    "    class_id: int,\n",
    "    W: np.ndarray,\n",
    "    components: int,\n",
    "):\n",
    "    sobol_nb_design: int = 64\n",
    "    n_samples = activations.shape[0]\n",
    "    masks = ScipySobolSequence()(components, nb_design=sobol_nb_design)\n",
    "    estimator = JansenEstimator()\n",
    "\n",
    "    importances = []\n",
    "\n",
    "    for i in range(n_samples):\n",
    "        act = activations[i]\n",
    "\n",
    "        perturbation = masks @ W\n",
    "        perturbated_activations = act[None, :] + perturbation * act[None, :]\n",
    "        y_pred = get_proba_from_cycle(perturbated_activations)[:, class_id]\n",
    "\n",
    "        stis = estimator(masks, y_pred, sobol_nb_design)\n",
    "        importances.append(stis)\n",
    "\n",
    "    global_importance = np.mean(importances, axis=0)\n",
    "\n",
    "    return global_importance"
   ]
  },
  {
   "cell_type": "code",
   "execution_count": 9,
   "metadata": {},
   "outputs": [],
   "source": [
    "labels = np.array(simulate.labels)\n",
    "\n",
    "pos_normalized_embedding_matrix = normalized_embedding_matrix[labels == 1]"
   ]
  },
  {
   "cell_type": "code",
   "execution_count": 10,
   "metadata": {},
   "outputs": [
    {
     "data": {
      "text/plain": [
       "array([[0.34919026, 0.32492265, 0.36663657, ..., 0.2415339 , 0.4142358 ,\n",
       "        0.24710934],\n",
       "       [0.37908027, 0.3849073 , 0.3318827 , ..., 0.26922914, 0.44161862,\n",
       "        0.32187974],\n",
       "       [0.321627  , 0.3621015 , 0.28374538, ..., 0.2803836 , 0.35514003,\n",
       "        0.24321696],\n",
       "       ...,\n",
       "       [0.33679834, 0.33103365, 0.40021113, ..., 0.29304478, 0.38977936,\n",
       "        0.29618937],\n",
       "       [0.3360047 , 0.44705084, 0.31795424, ..., 0.2670265 , 0.42930007,\n",
       "        0.24695331],\n",
       "       [0.39864662, 0.36148745, 0.30598298, ..., 0.2686358 , 0.4188304 ,\n",
       "        0.25355652]], shape=(96, 1024), dtype=float32)"
      ]
     },
     "execution_count": 10,
     "metadata": {},
     "output_type": "execute_result"
    }
   ],
   "source": [
    "pos_normalized_embedding_matrix"
   ]
  },
  {
   "cell_type": "code",
   "execution_count": 52,
   "metadata": {},
   "outputs": [
    {
     "data": {
      "image/png": "[encoded data removed]",
      "text/plain": [
       "<Figure size 2200x400 with 1 Axes>"
      ]
     },
     "metadata": {},
     "output_type": "display_data"
    }
   ],
   "source": [
    "# Do the NMF\n",
    "factorization = NMF(n_components=20, max_iter=10000)\n",
    "\n",
    "# Fit the NMF model to the positive normalized embedding matrix\n",
    "u_matrix: np.ndarray = factorization.fit_transform(\n",
    "    pos_normalized_embedding_matrix\n",
    ")  # concept coefficient matrix\n",
    "w_matrix: np.ndarray = factorization.components_  # concept base matrix\n",
    "\n",
    "# Compute the concept importance using Sobol's method\n",
    "pos_concept_importance = sobol_importance(\n",
    "    activations=pos_normalized_embedding_matrix,\n",
    "    class_id=1,\n",
    "    W=w_matrix,\n",
    "    components=factorization.n_components,\n",
    ")\n",
    "\n",
    "# Plot the results\n",
    "plt.figure(figsize=(22, 4))\n",
    "\n",
    "plt.subplot(122)\n",
    "plt.bar(\n",
    "    range(len(pos_concept_importance)),\n",
    "    pos_concept_importance,\n",
    "    color=plt.get_cmap(\"tab20\").colors,\n",
    "    tick_label=range(len(pos_concept_importance)),\n",
    ")\n",
    "plt.axhline(pos_concept_importance.std())\n",
    "plt.title(\"concepts for positive classification\")\n",
    "\n",
    "plt.show()"
   ]
  },
  {
   "cell_type": "code",
   "execution_count": 53,
   "metadata": {},
   "outputs": [
    {
     "data": {
      "text/html": [
       "<div>\n",
       "<style scoped>\n",
       "    .dataframe tbody tr th:only-of-type {\n",
       "        vertical-align: middle;\n",
       "    }\n",
       "\n",
       "    .dataframe tbody tr th {\n",
       "        vertical-align: top;\n",
       "    }\n",
       "\n",
       "    .dataframe thead th {\n",
       "        text-align: right;\n",
       "    }\n",
       "</style>\n",
       "<table border=\"1\" class=\"dataframe\">\n",
       "  <thead>\n",
       "    <tr style=\"text-align: right;\">\n",
       "      <th></th>\n",
       "      <th>title</th>\n",
       "      <th>abstract</th>\n",
       "      <th>text</th>\n",
       "      <th>u</th>\n",
       "      <th>a</th>\n",
       "    </tr>\n",
       "  </thead>\n",
       "  <tbody>\n",
       "    <tr>\n",
       "      <th>6</th>\n",
       "      <td>Weight-Bearing Compared with Non-Weight-Bearin...</td>\n",
       "      <td>Patients are routinely kept non-weight-bearing...</td>\n",
       "      <td>Weight-Bearing Compared with Non-Weight-Bearin...</td>\n",
       "      <td>[0.021768222, 0.004579915, 0.0, 0.0, 0.0144047...</td>\n",
       "      <td>[0.34919026, 0.32492265, 0.36663657, 0.4886208...</td>\n",
       "    </tr>\n",
       "    <tr>\n",
       "      <th>19</th>\n",
       "      <td>Injectable Cultured Bone Marrow–Derived Mesenc...</td>\n",
       "      <td>To analyze the results of the use of intra-art...</td>\n",
       "      <td>Injectable Cultured Bone Marrow–Derived Mesenc...</td>\n",
       "      <td>[0.0023253625, 0.014292329, 0.0017464877, 0.00...</td>\n",
       "      <td>[0.37908027, 0.3849073, 0.3318827, 0.41122133,...</td>\n",
       "    </tr>\n",
       "    <tr>\n",
       "      <th>25</th>\n",
       "      <td>Unicompartmental osteoarthritis: an integrated...</td>\n",
       "      <td>Although traditionally not indicated for the t...</td>\n",
       "      <td>Unicompartmental osteoarthritis: an integrated...</td>\n",
       "      <td>[0.0, 0.01651517, 0.00044277697, 0.0033190378,...</td>\n",
       "      <td>[0.321627, 0.3621015, 0.28374538, 0.41755384, ...</td>\n",
       "    </tr>\n",
       "    <tr>\n",
       "      <th>30</th>\n",
       "      <td>Matrix-Augmented Bone Marrow Stimulation With ...</td>\n",
       "      <td>Microfracture (MF) is an established operative...</td>\n",
       "      <td>Matrix-Augmented Bone Marrow Stimulation With ...</td>\n",
       "      <td>[0.020149829, 0.019687638, 0.0, 0.0026836228, ...</td>\n",
       "      <td>[0.39255202, 0.38030633, 0.31288335, 0.5088419...</td>\n",
       "    </tr>\n",
       "  </tbody>\n",
       "</table>\n",
       "</div>"
      ],
      "text/plain": [
       "                                                title  \\\n",
       "6   Weight-Bearing Compared with Non-Weight-Bearin...   \n",
       "19  Injectable Cultured Bone Marrow–Derived Mesenc...   \n",
       "25  Unicompartmental osteoarthritis: an integrated...   \n",
       "30  Matrix-Augmented Bone Marrow Stimulation With ...   \n",
       "\n",
       "                                             abstract  \\\n",
       "6   Patients are routinely kept non-weight-bearing...   \n",
       "19  To analyze the results of the use of intra-art...   \n",
       "25  Although traditionally not indicated for the t...   \n",
       "30  Microfracture (MF) is an established operative...   \n",
       "\n",
       "                                                 text  \\\n",
       "6   Weight-Bearing Compared with Non-Weight-Bearin...   \n",
       "19  Injectable Cultured Bone Marrow–Derived Mesenc...   \n",
       "25  Unicompartmental osteoarthritis: an integrated...   \n",
       "30  Matrix-Augmented Bone Marrow Stimulation With ...   \n",
       "\n",
       "                                                    u  \\\n",
       "6   [0.021768222, 0.004579915, 0.0, 0.0, 0.0144047...   \n",
       "19  [0.0023253625, 0.014292329, 0.0017464877, 0.00...   \n",
       "25  [0.0, 0.01651517, 0.00044277697, 0.0033190378,...   \n",
       "30  [0.020149829, 0.019687638, 0.0, 0.0026836228, ...   \n",
       "\n",
       "                                                    a  \n",
       "6   [0.34919026, 0.32492265, 0.36663657, 0.4886208...  \n",
       "19  [0.37908027, 0.3849073, 0.3318827, 0.41122133,...  \n",
       "25  [0.321627, 0.3621015, 0.28374538, 0.41755384, ...  \n",
       "30  [0.39255202, 0.38030633, 0.31288335, 0.5088419...  "
      ]
     },
     "execution_count": 53,
     "metadata": {},
     "output_type": "execute_result"
    }
   ],
   "source": [
    "# finding abstracts that align with concepts\n",
    "df = data.get_df()[[\"title\", \"abstract\"]]\n",
    "\n",
    "# pos only\n",
    "df = df[labels == 1]\n",
    "\n",
    "# use the text merger part of the feature extractor to get the text column\n",
    "df[\"text\"] = (\n",
    "    simulate.cycles[0]\n",
    "    .feature_extractor.steps[0][1]\n",
    "    .transform(df[[\"title\", \"abstract\"]])\n",
    ")\n",
    "\n",
    "df[\"u\"] = list(u_matrix)\n",
    "\n",
    "df[\"a\"] = list(pos_normalized_embedding_matrix)\n",
    "\n",
    "df.head(4)"
   ]
  },
  {
   "cell_type": "markdown",
   "metadata": {},
   "source": [
    "## Concept-Aligned Abstract Selection\n",
    "\n",
    "The following code selects abstracts aligned with important concepts for each class. This is intended to support the visualization of concept-based occlusion as done in the COCKATIEL paper.\n",
    "\n",
    "In the paper, the authors describe this step as:\n",
    "\n",
    "    “We take the first n most important sentences for each concept looked at.”\n",
    "\n",
    "However, this wording is misleading.\n",
    "\n",
    "What the code actually does:\n",
    "\n",
    "    It first identifies the top-m most important concepts for each class (m_cls_0 and m_cls_1) using the Sobol importance scores.\n",
    "\n",
    "    Then, for each of these top concepts, it selects the n abstracts from the corresponding class (0 or 1) that have the highest activation for that concept (i.e., the highest coefficient in the NMF U matrix).\n",
    "\n",
    "    The result is a list of m × n abstracts per class that best represent the most influential concepts, according to NMF.\n",
    "\n",
    "The abstracts are not ranked globally by importance or fidelity to the model’s prediction.\n",
    "Instead, they are selected per concept, based on how strongly each abstract activates that concept."
   ]
  },
  {
   "cell_type": "code",
   "execution_count": 54,
   "metadata": {},
   "outputs": [
    {
     "data": {
      "text/plain": [
       "96"
      ]
     },
     "execution_count": 54,
     "metadata": {},
     "output_type": "execute_result"
    }
   ],
   "source": [
    "len(df)"
   ]
  },
  {
   "cell_type": "code",
   "execution_count": 55,
   "metadata": {},
   "outputs": [
    {
     "name": "stdout",
     "output_type": "stream",
     "text": [
      "Selected 2 concepts\n"
     ]
    }
   ],
   "source": [
    "threshold = np.std(pos_concept_importance)\n",
    "top_cids = np.where(pos_concept_importance > threshold)[0]\n",
    "\n",
    "print(f\"Selected {len(top_cids)} concepts\")\n",
    "\n",
    "rows = []\n",
    "for cid in top_cids:\n",
    "    best_ids = np.argsort(u_matrix[:, cid])[::-1][\n",
    "        : round(len(df) / (2 * len(top_cids)))\n",
    "    ]\n",
    "    for i in best_ids:\n",
    "        rows.append({\"text\": df.iloc[i][\"text\"], \"concept_id\": cid})\n",
    "\n",
    "df_top_abs = pd.DataFrame(data=rows)\n"
   ]
  },
  {
   "cell_type": "markdown",
   "metadata": {},
   "source": [
    "# Occlusion"
   ]
  },
  {
   "cell_type": "code",
   "execution_count": 56,
   "metadata": {},
   "outputs": [],
   "source": [
    "simulate.cycles[0].feature_extractor.steps[1][1].verbose = False\n",
    "\n",
    "\n",
    "def occlude_concepts(\n",
    "    row,\n",
    "    concept_ids,\n",
    "    simulate=simulate,\n",
    "    factorization=factorization,\n",
    ") -> pd.DataFrame:\n",
    "    sentences = sent_tokenize(row[\"text\"])\n",
    "\n",
    "    perturbed_texts = [\n",
    "        \" \".join(s for j, s in enumerate(sentences) if j != i)\n",
    "        for i in range(len(sentences))\n",
    "    ]\n",
    "\n",
    "    # only use the transformer, not the text merger\n",
    "    A_occluded = (\n",
    "        simulate.cycles[0].feature_extractor.steps[1][1].fit_transform(perturbed_texts)\n",
    "    )\n",
    "\n",
    "    # Normalize using original min and max values, not the new ones!\n",
    "    A_norm = embedding_normalizer.normalize(embedding=A_occluded)\n",
    "\n",
    "    # project the whole batch to concept space\n",
    "    U_occ = factorization.transform(A_norm)\n",
    "\n",
    "    # ∆U: full – perturbed  (broadcasts row['u'])\n",
    "    delta = row[\"u\"] - U_occ\n",
    "\n",
    "    # Only keep the columns for the selected concept_ids\n",
    "    concept_cols = [f\"concept_{i}\" for i in concept_ids]\n",
    "    delta_selected = delta[:, concept_ids]\n",
    "\n",
    "    # normalize using the method cockatiel uses\n",
    "    delta_selected /= np.max(np.abs(delta_selected)) + 1e-5\n",
    "\n",
    "    delta_selected = np.clip(delta_selected, 0, 1)\n",
    "\n",
    "    out = pd.DataFrame(delta_selected, columns=concept_cols)\n",
    "    out.insert(0, \"sentence\", sentences)\n",
    "\n",
    "    return out"
   ]
  },
  {
   "cell_type": "markdown",
   "metadata": {},
   "source": [
    "## Visualization"
   ]
  },
  {
   "cell_type": "code",
   "execution_count": 57,
   "metadata": {},
   "outputs": [],
   "source": [
    "from IPython.core.display import HTML\n",
    "\n",
    "colors = np.array(\n",
    "    [\n",
    "        \"rgba(9, 221, 55, \",  # green\n",
    "        \"rgba(9, 175, 221, \",  # blue\n",
    "        \"rgba(9, 34, 221, \",  # purple\n",
    "        \"rgba(221, 90, 9, \",  # orange\n",
    "        \"rgba(221, 9, 34, \",  # red\n",
    "        \"rgba(221, 9, 140,\",  # pink\n",
    "        \"rgba(9, 221, 161, \",  # turquoise\n",
    "    ]\n",
    ")\n",
    "\n",
    "\n",
    "def visualize_concepts(df: pd.DataFrame, threshold=0.2):\n",
    "    html = []\n",
    "\n",
    "    concept_ids = df.columns[1:]\n",
    "\n",
    "    for i, concept_id in enumerate(concept_ids):\n",
    "        html.append(\n",
    "            f'<span style=\"background-color: {colors[i]} 0.5); margin: 7px; padding: 1px 5px; border: solid 3px ; border-color: {colors[i]} 1); #EFEFEF\">{concept_id} </span>'\n",
    "        )\n",
    "    display(\n",
    "        HTML(\n",
    "            \"<div style='display: flex; width: 400px; flex-wrap: wrap;'>\"\n",
    "            + \" \".join(html)\n",
    "            + \" </div>\"\n",
    "        )\n",
    "    )\n",
    "\n",
    "    html = []\n",
    "\n",
    "    # Sentence-level highlighting\n",
    "    for _, row in df.iterrows():\n",
    "        sentence = row[\"sentence\"]\n",
    "        phi_vals = [row[cid] for cid in concept_ids]\n",
    "        k = np.argmax(phi_vals)\n",
    "        max_phi = phi_vals[k]\n",
    "        if max_phi > threshold:\n",
    "            html.append(\n",
    "                f'<span style=\"display: inline; background-color: {colors[k]} {max_phi}); padding: 1px 5px; border: solid 3px ; border-color: {colors[k]} 1); #EFEFEF\">{sentence}</span>'\n",
    "            )\n",
    "        else:\n",
    "            html.append(\n",
    "                f'<span style=\"display: inline; background-color: rgba(0, 0, 0, 0.0); padding: 1px 5px; border: solid 3px ; border-color: rgba(0, 0, 0, 0.0); #EFEFEF\">{sentence}</span>'\n",
    "            )\n",
    "    display(\n",
    "        HTML(\n",
    "            \"<div style='display: flex; width: 800px; flex-wrap: wrap;'>\"\n",
    "            + \"\".join(html)\n",
    "            + \" </div>\"\n",
    "        )\n",
    "    )"
   ]
  },
  {
   "cell_type": "code",
   "execution_count": 58,
   "metadata": {},
   "outputs": [
    {
     "data": {
      "text/html": [
       "<div>\n",
       "<style scoped>\n",
       "    .dataframe tbody tr th:only-of-type {\n",
       "        vertical-align: middle;\n",
       "    }\n",
       "\n",
       "    .dataframe tbody tr th {\n",
       "        vertical-align: top;\n",
       "    }\n",
       "\n",
       "    .dataframe thead th {\n",
       "        text-align: right;\n",
       "    }\n",
       "</style>\n",
       "<table border=\"1\" class=\"dataframe\">\n",
       "  <thead>\n",
       "    <tr style=\"text-align: right;\">\n",
       "      <th></th>\n",
       "      <th>3</th>\n",
       "      <th>6</th>\n",
       "    </tr>\n",
       "  </thead>\n",
       "  <tbody>\n",
       "    <tr>\n",
       "      <th>0</th>\n",
       "      <td>group</td>\n",
       "      <td>cartilage</td>\n",
       "    </tr>\n",
       "    <tr>\n",
       "      <th>1</th>\n",
       "      <td>cartilage</td>\n",
       "      <td>p</td>\n",
       "    </tr>\n",
       "    <tr>\n",
       "      <th>2</th>\n",
       "      <td>patients</td>\n",
       "      <td>patients</td>\n",
       "    </tr>\n",
       "    <tr>\n",
       "      <th>3</th>\n",
       "      <td>knee</td>\n",
       "      <td>years</td>\n",
       "    </tr>\n",
       "    <tr>\n",
       "      <th>4</th>\n",
       "      <td>clinical</td>\n",
       "      <td>knee</td>\n",
       "    </tr>\n",
       "    <tr>\n",
       "      <th>5</th>\n",
       "      <td>p</td>\n",
       "      <td>group</td>\n",
       "    </tr>\n",
       "    <tr>\n",
       "      <th>6</th>\n",
       "      <td>treatment</td>\n",
       "      <td>clinical</td>\n",
       "    </tr>\n",
       "    <tr>\n",
       "      <th>7</th>\n",
       "      <td>outcomes</td>\n",
       "      <td>score</td>\n",
       "    </tr>\n",
       "    <tr>\n",
       "      <th>8</th>\n",
       "      <td>bone</td>\n",
       "      <td>follow</td>\n",
       "    </tr>\n",
       "    <tr>\n",
       "      <th>9</th>\n",
       "      <td>follow</td>\n",
       "      <td>repair</td>\n",
       "    </tr>\n",
       "    <tr>\n",
       "      <th>10</th>\n",
       "      <td>study</td>\n",
       "      <td>scores</td>\n",
       "    </tr>\n",
       "    <tr>\n",
       "      <th>11</th>\n",
       "      <td>microfracture</td>\n",
       "      <td>maci</td>\n",
       "    </tr>\n",
       "    <tr>\n",
       "      <th>12</th>\n",
       "      <td>groups</td>\n",
       "      <td>study</td>\n",
       "    </tr>\n",
       "    <tr>\n",
       "      <th>13</th>\n",
       "      <td>months</td>\n",
       "      <td>mfx</td>\n",
       "    </tr>\n",
       "    <tr>\n",
       "      <th>14</th>\n",
       "      <td>score</td>\n",
       "      <td>autologous</td>\n",
       "    </tr>\n",
       "    <tr>\n",
       "      <th>15</th>\n",
       "      <td>oca</td>\n",
       "      <td>defects</td>\n",
       "    </tr>\n",
       "    <tr>\n",
       "      <th>16</th>\n",
       "      <td>repair</td>\n",
       "      <td>randomized</td>\n",
       "    </tr>\n",
       "    <tr>\n",
       "      <th>17</th>\n",
       "      <td>significantly</td>\n",
       "      <td>microfracture</td>\n",
       "    </tr>\n",
       "    <tr>\n",
       "      <th>18</th>\n",
       "      <td>cell</td>\n",
       "      <td>treatment</td>\n",
       "    </tr>\n",
       "    <tr>\n",
       "      <th>19</th>\n",
       "      <td>mean</td>\n",
       "      <td>mf</td>\n",
       "    </tr>\n",
       "  </tbody>\n",
       "</table>\n",
       "</div>"
      ],
      "text/plain": [
       "                3              6\n",
       "0           group      cartilage\n",
       "1       cartilage              p\n",
       "2        patients       patients\n",
       "3            knee          years\n",
       "4        clinical           knee\n",
       "5               p          group\n",
       "6       treatment       clinical\n",
       "7        outcomes          score\n",
       "8            bone         follow\n",
       "9          follow         repair\n",
       "10          study         scores\n",
       "11  microfracture           maci\n",
       "12         groups          study\n",
       "13         months            mfx\n",
       "14          score     autologous\n",
       "15            oca        defects\n",
       "16         repair     randomized\n",
       "17  significantly  microfracture\n",
       "18           cell      treatment\n",
       "19           mean             mf"
      ]
     },
     "execution_count": 58,
     "metadata": {},
     "output_type": "execute_result"
    }
   ],
   "source": [
    "ps = PorterStemmer()\n",
    "top_words_per_concept = {}\n",
    "\n",
    "for concept in top_cids:\n",
    "    texts = df_top_abs[df_top_abs[\"concept_id\"] == concept].text\n",
    "    words = []\n",
    "    for t in texts:\n",
    "        words += [\n",
    "            #ps.stem(w)\n",
    "            w\n",
    "            for w in re.findall(r\"\\b\\w+\\b\", t.lower())\n",
    "            if w not in stop_words and not w.isdigit()\n",
    "        ]\n",
    "    counter = Counter(words)\n",
    "    top_words = [w for w, _ in counter.most_common(20)]\n",
    "    top_words_per_concept[concept] = top_words\n",
    "\n",
    "df_top_words_wide = pd.DataFrame(top_words_per_concept)\n",
    "\n",
    "df_top_words_wide\n"
   ]
  },
  {
   "cell_type": "code",
   "execution_count": null,
   "metadata": {},
   "outputs": [
    {
     "name": "stdout",
     "output_type": "stream",
     "text": [
      "record_id = 0\n"
     ]
    },
    {
     "data": {
      "text/html": [
       "<div style='display: flex; width: 400px; flex-wrap: wrap;'><span style=\"background-color: rgba(9, 221, 55,  0.5); margin: 7px; padding: 1px 5px; border: solid 3px ; border-color: rgba(9, 221, 55,  1); #EFEFEF\">concept_3 </span> <span style=\"background-color: rgba(9, 175, 221,  0.5); margin: 7px; padding: 1px 5px; border: solid 3px ; border-color: rgba(9, 175, 221,  1); #EFEFEF\">concept_6 </span> </div>"
      ],
      "text/plain": [
       "<IPython.core.display.HTML object>"
      ]
     },
     "metadata": {},
     "output_type": "display_data"
    },
    {
     "data": {
      "text/html": [
       "<div style='display: flex; width: 800px; flex-wrap: wrap;'><span style=\"display: inline; background-color: rgba(0, 0, 0, 0.0); padding: 1px 5px; border: solid 3px ; border-color: rgba(0, 0, 0, 0.0); #EFEFEF\">Weight-Bearing Compared with Non-Weight-Bearing Following Osteochondral Autograft Transfer for Small Defects in Weight-Bearing Areas in the Femoral Articular Cartilage of the Knee Patients are routinely kept non-weight-bearing for four to eight weeks following osteochondral autograft transfer to repair cartilage defects of the medial and/or lateral femoral condyle.</span><span style=\"display: inline; background-color: rgba(0, 0, 0, 0.0); padding: 1px 5px; border: solid 3px ; border-color: rgba(0, 0, 0, 0.0); #EFEFEF\">Therefore, the objective of this novel study was to investigate whether postoperative weight-bearing restrictions affect the outcomes of cartilage repair when an osteochondral autograft transfer system is used to repair small defects in weight-bearing areas of femoral articular cartilage.This a retrospective comparative study.</span><span style=\"display: inline; background-color: rgba(0, 0, 0, 0.0); padding: 1px 5px; border: solid 3px ; border-color: rgba(0, 0, 0, 0.0); #EFEFEF\">Following review of the charts on 567 consecutive arthroscopic osteochondral autograft transfers, three homogeneous groups of patients with consecutive cases were identified: group A, cases of patients who were non-weight-bearing following the procedure (n = 68); group B, cases of those who were non-weight-bearing following the procedure with concomitant anterior cruciate ligament reconstruction (n = 29); and group C, cases of those who were weight-bearing as tolerated following the procedure (n = 437).</span><span style=\"display: inline; background-color: rgba(0, 0, 0, 0.0); padding: 1px 5px; border: solid 3px ; border-color: rgba(0, 0, 0, 0.0); #EFEFEF\">The cases of patients whose knees underwent second-look (repeat) arthroscopy were stratified into two subgroups: non-weight-bearing (n = 20) and weight-bearing as tolerated (n = 42).</span><span style=\"display: inline; background-color: rgba(0, 0, 0, 0.0); padding: 1px 5px; border: solid 3px ; border-color: rgba(0, 0, 0, 0.0); #EFEFEF\">Graft position and manifestation of a repair-adjacent defect (Outerbridge grade-III or IV cartilage defect that develops adjacent to the original osteochondral autograft transfer repair) were assessed during second-look arthroscopy.</span><span style=\"display: inline; background-color: rgba(0, 0, 0, 0.0); padding: 1px 5px; border: solid 3px ; border-color: rgba(0, 0, 0, 0.0); #EFEFEF\">Cartilage repair was retrospectively assessed from second-look arthroscopy pictures by a blinded, independent orthopaedic surgeon with use of the International Cartilage Repair Society macroscopic cartilage-repair assessment tool.</span><span style=\"display: inline; background-color: rgba(0, 0, 0, 0.0); padding: 1px 5px; border: solid 3px ; border-color: rgba(0, 0, 0, 0.0); #EFEFEF\">Postoperative complication rates were compared among the three primary groups.The mean grafted area was 0.72 cm(2) (range, 0.16 to 1.45 cm(2)) and 0.73 cm(2) (range, 0.16 to 1.80 cm(2)) for the non-weight-bearing and weight-bearing-as-tolerated second-look subgroups, respectively.</span><span style=\"display: inline; background-color: rgba(0, 0, 0, 0.0); padding: 1px 5px; border: solid 3px ; border-color: rgba(0, 0, 0, 0.0); #EFEFEF\">The mean International Cartilage Repair Society score was 11.12 and 11.25 points (near-normal cartilage) for the non-weight-bearing and weight-bearing-as-tolerated subgroups (p = 0.71) at a mean follow-up of 42.7 and 33.0 months, respectively.</span><span style=\"display: inline; background-color: rgba(0, 0, 0, 0.0); padding: 1px 5px; border: solid 3px ; border-color: rgba(0, 0, 0, 0.0); #EFEFEF\">There was no significant difference in the duration of follow-up (p = 0.58), repair-adjacent defect prevalence (p = 0.94), or graft position (p = 0.99) between the two subgroups.</span><span style=\"display: inline; background-color: rgba(0, 0, 0, 0.0); padding: 1px 5px; border: solid 3px ; border-color: rgba(0, 0, 0, 0.0); #EFEFEF\">Weight-bearing-as-tolerated patients (group C) experienced significantly fewer deep vein thrombosis and arthrofibrosis complications compared with non-weight-bearing patients (groups A and B) (p < 0.001).Postoperative weight-bearing restrictions did not affect mid-term cartilage repair outcomes in patients who underwent second-look arthroscopy when an osteochondral autograft transfer system was used to repair small defects in weight-bearing areas of cartilage of the medial and/or lateral femoral condyle.Therapeutic Level III.</span><span style=\"display: inline; background-color: rgba(0, 0, 0, 0.0); padding: 1px 5px; border: solid 3px ; border-color: rgba(0, 0, 0, 0.0); #EFEFEF\">See Instructions for Authors for a complete description of levels of evidence.</span> </div>"
      ],
      "text/plain": [
       "<IPython.core.display.HTML object>"
      ]
     },
     "metadata": {},
     "output_type": "display_data"
    },
    {
     "name": "stdout",
     "output_type": "stream",
     "text": [
      "record_id = 1\n"
     ]
    },
    {
     "data": {
      "text/html": [
       "<div style='display: flex; width: 400px; flex-wrap: wrap;'><span style=\"background-color: rgba(9, 221, 55,  0.5); margin: 7px; padding: 1px 5px; border: solid 3px ; border-color: rgba(9, 221, 55,  1); #EFEFEF\">concept_3 </span> <span style=\"background-color: rgba(9, 175, 221,  0.5); margin: 7px; padding: 1px 5px; border: solid 3px ; border-color: rgba(9, 175, 221,  1); #EFEFEF\">concept_6 </span> </div>"
      ],
      "text/plain": [
       "<IPython.core.display.HTML object>"
      ]
     },
     "metadata": {},
     "output_type": "display_data"
    },
    {
     "data": {
      "text/html": [
       "<div style='display: flex; width: 800px; flex-wrap: wrap;'><span style=\"display: inline; background-color: rgba(9, 221, 55,  0.9967816472053528); padding: 1px 5px; border: solid 3px ; border-color: rgba(9, 221, 55,  1); #EFEFEF\">Injectable Cultured Bone Marrow–Derived Mesenchymal Stem Cells in Varus Knees With Cartilage Defects Undergoing High Tibial Osteotomy: A Prospective, Randomized Controlled Clinical Trial With 2 Years' Follow-up To analyze the results of the use of intra-articular cultured autologous bone marrow-derived mesenchymal stem cell (MSC) injections in conjunction with microfracture and medial opening-wedge high tibial osteotomy (HTO).Fifty-six knees in 56 patients with unicompartmental osteoarthritic knees and genu varum were randomly allocated to the cell-recipient group (n = 28) or control group (n = 28).</span><span style=\"display: inline; background-color: rgba(0, 0, 0, 0.0); padding: 1px 5px; border: solid 3px ; border-color: rgba(0, 0, 0, 0.0); #EFEFEF\">Patients who had a joint line congruity angle of more than 2°, malalignment of the knee from femoral causes, a fixed flexion deformity, or age older than 55 years were excluded.</span><span style=\"display: inline; background-color: rgba(0, 0, 0, 0.0); padding: 1px 5px; border: solid 3px ; border-color: rgba(0, 0, 0, 0.0); #EFEFEF\">All patients underwent HTO and microfracture.</span><span style=\"display: inline; background-color: rgba(0, 0, 0, 0.0); padding: 1px 5px; border: solid 3px ; border-color: rgba(0, 0, 0, 0.0); #EFEFEF\">The cell-recipient group received intra-articular injection of cultured MSCs with hyaluronic acid 3 weeks after surgery, whereas the control group only received hyaluronic acid.</span><span style=\"display: inline; background-color: rgba(0, 0, 0, 0.0); padding: 1px 5px; border: solid 3px ; border-color: rgba(0, 0, 0, 0.0); #EFEFEF\">The primary outcome measure was the International Knee Documentation Committee (IKDC) score at intervals of 6 months, 1 year, and 2 years postoperatively.</span><span style=\"display: inline; background-color: rgba(0, 0, 0, 0.0); padding: 1px 5px; border: solid 3px ; border-color: rgba(0, 0, 0, 0.0); #EFEFEF\">Secondary outcome measures were Tegner and Lysholm clinical scores and 1-year postoperative Magnetic Resonance Observation of Cartilage Repair Tissue (MOCART) scores.The median age of the patients was 51 years, with a mean body mass index of 23.85.</span><span style=\"display: inline; background-color: rgba(0, 0, 0, 0.0); padding: 1px 5px; border: solid 3px ; border-color: rgba(0, 0, 0, 0.0); #EFEFEF\">Both treatment arms achieved improvements in Tegner, Lysholm, and IKDC scores.</span><span style=\"display: inline; background-color: rgba(0, 0, 0, 0.0); padding: 1px 5px; border: solid 3px ; border-color: rgba(0, 0, 0, 0.0); #EFEFEF\">After adjustment for age, baseline scores, and time of evaluation, the cell-recipient group showed significantly better scores.</span><span style=\"display: inline; background-color: rgba(0, 0, 0, 0.0); padding: 1px 5px; border: solid 3px ; border-color: rgba(0, 0, 0, 0.0); #EFEFEF\">The effect of treatment showed an added improvement of 7.65 (95% confidence interval [CI], 3.04 to 12.26; P = .001) for IKDC scores, 7.61 (95% CI, 1.44 to 13.79; P = .016) for Lysholm scores, and 0.64 (95% CI, 0.10 to 1.19; P = .021) for Tegner scores.</span><span style=\"display: inline; background-color: rgba(0, 0, 0, 0.0); padding: 1px 5px; border: solid 3px ; border-color: rgba(0, 0, 0, 0.0); #EFEFEF\">Magnetic resonance imaging scans performed 1 year after surgical intervention showed significantly better MOCART scores for the cell-recipient group.</span><span style=\"display: inline; background-color: rgba(0, 0, 0, 0.0); padding: 1px 5px; border: solid 3px ; border-color: rgba(0, 0, 0, 0.0); #EFEFEF\">The age-adjusted mean difference in MOCART score was 19.6 (95% CI, 10.5 to 28.6; P < .001).Intra-articular injection of cultured MSCs is effective in improving both short-term clinical and MOCART outcomes in patients undergoing HTO and microfracture for varus knees with cartilage defects.Level II, randomized controlled trial.</span> </div>"
      ],
      "text/plain": [
       "<IPython.core.display.HTML object>"
      ]
     },
     "metadata": {},
     "output_type": "display_data"
    },
    {
     "name": "stdout",
     "output_type": "stream",
     "text": [
      "record_id = 2\n"
     ]
    },
    {
     "data": {
      "text/html": [
       "<div style='display: flex; width: 400px; flex-wrap: wrap;'><span style=\"background-color: rgba(9, 221, 55,  0.5); margin: 7px; padding: 1px 5px; border: solid 3px ; border-color: rgba(9, 221, 55,  1); #EFEFEF\">concept_3 </span> <span style=\"background-color: rgba(9, 175, 221,  0.5); margin: 7px; padding: 1px 5px; border: solid 3px ; border-color: rgba(9, 175, 221,  1); #EFEFEF\">concept_6 </span> </div>"
      ],
      "text/plain": [
       "<IPython.core.display.HTML object>"
      ]
     },
     "metadata": {},
     "output_type": "display_data"
    },
    {
     "data": {
      "text/html": [
       "<div style='display: flex; width: 800px; flex-wrap: wrap;'><span style=\"display: inline; background-color: rgba(9, 221, 55,  0.5933064818382263); padding: 1px 5px; border: solid 3px ; border-color: rgba(9, 221, 55,  1); #EFEFEF\">Unicompartmental osteoarthritis: an integrated biomechanical and biological approach as alternative to metal resurfacing Although traditionally not indicated for the treatment of osteoarthritis (OA), regenerative procedures are becoming a focus of increased interest due to their potential to provide pain relief and alter the progression of degenerative diseases.</span><span style=\"display: inline; background-color: rgba(0, 0, 0, 0.0); padding: 1px 5px; border: solid 3px ; border-color: rgba(0, 0, 0, 0.0); #EFEFEF\">The purpose of this study was to assess whether a combined biomechanical and biological approach could offer good results in unicompartmental OA, thus delaying the need for unicompartmental arthroplasty in patients too young or refusing metal resurfacing.</span><span style=\"display: inline; background-color: rgba(0, 0, 0, 0.0); padding: 1px 5px; border: solid 3px ; border-color: rgba(0, 0, 0, 0.0); #EFEFEF\">Forty-three patients (mean age = 40.1 +/- A 11 years, 33 men and 10 women, mean BMI = 25 +/- A 3) affected by unicompartmental OA (Kellegren-Lawrence score = 3) in stable joints were enrolled and treated consecutively.</span><span style=\"display: inline; background-color: rgba(9, 175, 221,  0.9850724339485168); padding: 1px 5px; border: solid 3px ; border-color: rgba(9, 175, 221,  1); #EFEFEF\">Fifteen patients were treated with osteotomy and osteochondral biomimetic scaffold implant (3 of them also with meniscal substitution), 11 with osteotomy and meniscal scaffold implant, 9 with osteotomy and meniscal allograft implant, and 8 with both cartilage and meniscal reconstruction, depending on the specific joint compartment main requirements.</span><span style=\"display: inline; background-color: rgba(9, 175, 221,  0.23943352699279785); padding: 1px 5px; border: solid 3px ; border-color: rgba(9, 175, 221,  1); #EFEFEF\">Clinical evaluation was performed at 3-year (2-4) median follow-up using the following scoring systems: IKDC subjective and objective, VAS for pain, and Tegner scores.</span><span style=\"display: inline; background-color: rgba(0, 0, 0, 0.0); padding: 1px 5px; border: solid 3px ; border-color: rgba(0, 0, 0, 0.0); #EFEFEF\">Failures, adverse events, and complications were also reported.</span><span style=\"display: inline; background-color: rgba(0, 0, 0, 0.0); padding: 1px 5px; border: solid 3px ; border-color: rgba(0, 0, 0, 0.0); #EFEFEF\">The IKDC subjective score improved from 47.3 to 79.6 at the final evaluation (p \\textbackslashtextless 0.0005), VAS improved from 6.1 to 2.3 (p \\textbackslashtextless 0.0005), and also sport activity level evaluated with the Tegner score showed a significant improvement, from 2 (1-5) to 4 (3-10; p \\textbackslashtextless 0.0005), even if without achieving the pre-injury level (6, p = 0.001).</span><span style=\"display: inline; background-color: rgba(9, 175, 221,  0.24111267924308777); padding: 1px 5px; border: solid 3px ; border-color: rgba(9, 175, 221,  1); #EFEFEF\">A further subanalysis confirmed the positive outcome obtained in all the treatment subgroups and showed a higher clinical improvement in patients under the age of 40 years (IKDC subjective 84.4 +/- A 13.2 vs 76.5 +/- A 17.3; p = 0.03).</span><span style=\"display: inline; background-color: rgba(0, 0, 0, 0.0); padding: 1px 5px; border: solid 3px ; border-color: rgba(0, 0, 0, 0.0); #EFEFEF\">This integrated biological and biomechanical approach produced a marked improvement at short-medium follow-up in patients affected by unicompartmental OA.</span><span style=\"display: inline; background-color: rgba(0, 0, 0, 0.0); padding: 1px 5px; border: solid 3px ; border-color: rgba(0, 0, 0, 0.0); #EFEFEF\">Even though a good outcome was achieved at all ages, patients under the age of 40 years presented a greater clinical and subjective improvement.</span><span style=\"display: inline; background-color: rgba(0, 0, 0, 0.0); padding: 1px 5px; border: solid 3px ; border-color: rgba(0, 0, 0, 0.0); #EFEFEF\">Longer follow-up studies are needed to show results over time and confirm this approach as an effective alternative to unicompartmental implants.</span><span style=\"display: inline; background-color: rgba(0, 0, 0, 0.0); padding: 1px 5px; border: solid 3px ; border-color: rgba(0, 0, 0, 0.0); #EFEFEF\">Case series, Level IV.</span> </div>"
      ],
      "text/plain": [
       "<IPython.core.display.HTML object>"
      ]
     },
     "metadata": {},
     "output_type": "display_data"
    },
    {
     "name": "stdout",
     "output_type": "stream",
     "text": [
      "record_id = 3\n"
     ]
    },
    {
     "data": {
      "text/html": [
       "<div style='display: flex; width: 400px; flex-wrap: wrap;'><span style=\"background-color: rgba(9, 221, 55,  0.5); margin: 7px; padding: 1px 5px; border: solid 3px ; border-color: rgba(9, 221, 55,  1); #EFEFEF\">concept_3 </span> <span style=\"background-color: rgba(9, 175, 221,  0.5); margin: 7px; padding: 1px 5px; border: solid 3px ; border-color: rgba(9, 175, 221,  1); #EFEFEF\">concept_6 </span> </div>"
      ],
      "text/plain": [
       "<IPython.core.display.HTML object>"
      ]
     },
     "metadata": {},
     "output_type": "display_data"
    },
    {
     "data": {
      "text/html": [
       "<div style='display: flex; width: 800px; flex-wrap: wrap;'><span style=\"display: inline; background-color: rgba(9, 175, 221,  0.9912823438644409); padding: 1px 5px; border: solid 3px ; border-color: rgba(9, 175, 221,  1); #EFEFEF\">Matrix-Augmented Bone Marrow Stimulation With a Polyglycolic Acid Membrane With Hyaluronan vs Microfracture in Local Cartilage Defects of the Femoral Condyles: A Multicenter Randomized Controlled Trial Microfracture (MF) is an established operative treatment for small, localized chondral defects of the knee joint.</span><span style=\"display: inline; background-color: rgba(9, 221, 55,  0.9188739061355591); padding: 1px 5px; border: solid 3px ; border-color: rgba(9, 221, 55,  1); #EFEFEF\">There is evidence from animal studies that matrix augmentation of bone marrow stimulation (m-BMS) can improve the quality of the repair tissue formation.To evaluate the therapeutic outcome of a matrix made of polyglycolic acid and hyaluronan as compared with a conventional MF technique.Randomized controlled trial; Level of evidence, 1.Patients between the ages of 18 and 68 years who had an articular femoral cartilage defect of 0.5 to 3 cm2 in the weightbearing area of the femoral condyles with indication for MF were included in this study.</span><span style=\"display: inline; background-color: rgba(0, 0, 0, 0.0); padding: 1px 5px; border: solid 3px ; border-color: rgba(0, 0, 0, 0.0); #EFEFEF\">Patients were randomized and treated with either MF or m-BMS with Chondrotissue.</span><span style=\"display: inline; background-color: rgba(0, 0, 0, 0.0); padding: 1px 5px; border: solid 3px ; border-color: rgba(0, 0, 0, 0.0); #EFEFEF\">Defect filling, as assessed on magnetic resonance imaging (MRI), at postoperative 12 weeks was defined as the primary outcome measure, with follow-up MRI at weeks 54 and 108.</span><span style=\"display: inline; background-color: rgba(0, 0, 0, 0.0); padding: 1px 5px; border: solid 3px ; border-color: rgba(0, 0, 0, 0.0); #EFEFEF\">Follow-up data were also collected at 12, 54, and 108 weeks after surgery and included patient-reported clinical scores: visual analog scale for pain, Knee injury and Osteoarthritis Outcome Score (KOOS), International Knee Documentation Committee score, and 36-Item Short Form Health Survey.MRI scans confirmed cartilage repair tissue formation in both groups 12 weeks after treatment.</span><span style=\"display: inline; background-color: rgba(0, 0, 0, 0.0); padding: 1px 5px; border: solid 3px ; border-color: rgba(0, 0, 0, 0.0); #EFEFEF\">There was no significant difference between the m-BMS and MF groups in the percentage of defect filling at 12, 54, and 108 weeks postoperatively.</span><span style=\"display: inline; background-color: rgba(0, 0, 0, 0.0); padding: 1px 5px; border: solid 3px ; border-color: rgba(0, 0, 0, 0.0); #EFEFEF\">No significant difference was found in terms of patient-reported clinical scores.</span><span style=\"display: inline; background-color: rgba(0, 0, 0, 0.0); padding: 1px 5px; border: solid 3px ; border-color: rgba(0, 0, 0, 0.0); #EFEFEF\">Both groups showed significant improvement in 4 KOOS subscales-Pain, Activities of Daily Living, Sport and Recreation, and Quality of Life-at 54 and 108 weeks after treatment.This is the first randomized controlled trial comparing m-BMS with a polyglycolic acid matrix with hyaluronan with MF.</span><span style=\"display: inline; background-color: rgba(0, 0, 0, 0.0); padding: 1px 5px; border: solid 3px ; border-color: rgba(0, 0, 0, 0.0); #EFEFEF\">The use of the Chondrotissue implant in m-BMS has been proven to be a safe procedure.</span><span style=\"display: inline; background-color: rgba(0, 0, 0, 0.0); padding: 1px 5px; border: solid 3px ; border-color: rgba(0, 0, 0, 0.0); #EFEFEF\">No difference was found between m-BMS and MF in terms of patient-reported outcome scores and MRI assessment until postoperative 2 years.</span><span style=\"display: inline; background-color: rgba(0, 0, 0, 0.0); padding: 1px 5px; border: solid 3px ; border-color: rgba(0, 0, 0, 0.0); #EFEFEF\">Long-term follow-up studies including histological assessment are desirable for further investigation.EUCTR2011-003594-28-DE (EU Clinical Trials Register).</span> </div>"
      ],
      "text/plain": [
       "<IPython.core.display.HTML object>"
      ]
     },
     "metadata": {},
     "output_type": "display_data"
    },
    {
     "name": "stdout",
     "output_type": "stream",
     "text": [
      "record_id = 4\n"
     ]
    },
    {
     "data": {
      "text/html": [
       "<div style='display: flex; width: 400px; flex-wrap: wrap;'><span style=\"background-color: rgba(9, 221, 55,  0.5); margin: 7px; padding: 1px 5px; border: solid 3px ; border-color: rgba(9, 221, 55,  1); #EFEFEF\">concept_3 </span> <span style=\"background-color: rgba(9, 175, 221,  0.5); margin: 7px; padding: 1px 5px; border: solid 3px ; border-color: rgba(9, 175, 221,  1); #EFEFEF\">concept_6 </span> </div>"
      ],
      "text/plain": [
       "<IPython.core.display.HTML object>"
      ]
     },
     "metadata": {},
     "output_type": "display_data"
    },
    {
     "data": {
      "text/html": [
       "<div style='display: flex; width: 800px; flex-wrap: wrap;'><span style=\"display: inline; background-color: rgba(9, 221, 55,  0.8544136881828308); padding: 1px 5px; border: solid 3px ; border-color: rgba(9, 221, 55,  1); #EFEFEF\">A Novel, Minimally-Invasive Technique of Cartilage Repair in the Human Knee Using Arthroscopic Microfracture and Injections of Mesenchymal Stem Cells and Hyaluronic Acid—A Prospective Comparative Study on Safety and Short-Term Efficacy Introduction: Most current cell-based cartilage repair techniques require some form of scaffolds and 2 separate surgical procedures.</span><span style=\"display: inline; background-color: rgba(9, 221, 55,  0.989153265953064); padding: 1px 5px; border: solid 3px ; border-color: rgba(9, 221, 55,  1); #EFEFEF\">We propose a novel, scaffold-less technique of cartilage repair in the human knee that combines arthroscopic microfracture and outpatient intra-articular injections of autologous bone marrow-derived mesenchymal stem cells (MSCs) and hyaluronic acid (HA).</span><span style=\"display: inline; background-color: rgba(9, 175, 221,  0.30354592204093933); padding: 1px 5px; border: solid 3px ; border-color: rgba(9, 175, 221,  1); #EFEFEF\">Materials and Methods: Seventy matched (age, sex, lesion size) knees with symptomatic cartilage defects underwent cartilage repair with the proposed technique (n = 35) or an open technique (n = 35) in which the MSCs were implanted beneath a sutured periosteal patch over the defect.</span><span style=\"display: inline; background-color: rgba(9, 175, 221,  0.5992081761360168); padding: 1px 5px; border: solid 3px ; border-color: rgba(9, 175, 221,  1); #EFEFEF\">Prospective evaluation of both groups were performed using the International Cartilage Repair Society (ICRS) Cartilage Injury Evaluation Package, which included questions from the Short-Form (SF-36) Health Survey, International Knee Documentation Committee (IKDC) subjective knee evaluation form, Lysholm knee scale, and Tegner activity level scale.</span><span style=\"display: inline; background-color: rgba(9, 175, 221,  0.8285186290740967); padding: 1px 5px; border: solid 3px ; border-color: rgba(9, 175, 221,  1); #EFEFEF\">Postoperative magnetic resonance imaging (MRI) evaluation was also performed at 1 year for most patients.</span><span style=\"display: inline; background-color: rgba(9, 175, 221,  0.5242170691490173); padding: 1px 5px; border: solid 3px ; border-color: rgba(9, 175, 221,  1); #EFEFEF\">Results: There were no clinically significant adverse events reported through the course of our study.</span><span style=\"display: inline; background-color: rgba(9, 175, 221,  0.337196409702301); padding: 1px 5px; border: solid 3px ; border-color: rgba(9, 175, 221,  1); #EFEFEF\">At the final follow-up (mean = 24.5 months), there was significant improvement in mean IKDC, Lysholm, SF-36 physical component score and visual analogue pain scores in both treatment groups.</span><span style=\"display: inline; background-color: rgba(9, 175, 221,  0.2847670614719391); padding: 1px 5px; border: solid 3px ; border-color: rgba(9, 175, 221,  1); #EFEFEF\">Conclusion: In the short term, the results of this novel technique are comparable to the open procedure with the added advantages of being minimally invasive and requiring only a single operation under general anaesthesia.</span><span style=\"display: inline; background-color: rgba(9, 175, 221,  0.36349859833717346); padding: 1px 5px; border: solid 3px ; border-color: rgba(9, 175, 221,  1); #EFEFEF\">Its safety has been validated and its efficacy is currently being evaluated in an ongoing randomised controlled trial.</span><span style=\"display: inline; background-color: rgba(0, 0, 0, 0.0); padding: 1px 5px; border: solid 3px ; border-color: rgba(0, 0, 0, 0.0); #EFEFEF\">Key words: Chondral, Novel, Osteoarthritis, Regeneration</span> </div>"
      ],
      "text/plain": [
       "<IPython.core.display.HTML object>"
      ]
     },
     "metadata": {},
     "output_type": "display_data"
    },
    {
     "name": "stdout",
     "output_type": "stream",
     "text": [
      "record_id = 5\n"
     ]
    },
    {
     "data": {
      "text/html": [
       "<div style='display: flex; width: 400px; flex-wrap: wrap;'><span style=\"background-color: rgba(9, 221, 55,  0.5); margin: 7px; padding: 1px 5px; border: solid 3px ; border-color: rgba(9, 221, 55,  1); #EFEFEF\">concept_3 </span> <span style=\"background-color: rgba(9, 175, 221,  0.5); margin: 7px; padding: 1px 5px; border: solid 3px ; border-color: rgba(9, 175, 221,  1); #EFEFEF\">concept_6 </span> </div>"
      ],
      "text/plain": [
       "<IPython.core.display.HTML object>"
      ]
     },
     "metadata": {},
     "output_type": "display_data"
    },
    {
     "data": {
      "text/html": [
       "<div style='display: flex; width: 800px; flex-wrap: wrap;'><span style=\"display: inline; background-color: rgba(9, 175, 221,  0.26626500487327576); padding: 1px 5px; border: solid 3px ; border-color: rgba(9, 175, 221,  1); #EFEFEF\">Micro-fragmented stromal-vascular fraction plus microfractures provides better clinical results than microfractures alone in symptomatic focal chondral lesions of the knee Purpose To evaluate clinical outcomes over a 1-year period in patients affected by symptomatic focal chondral lesions of the knee treated with micro-fragmented stromal-vascular fraction plus microfractures compared to microfractures alone.</span><span style=\"display: inline; background-color: rgba(9, 175, 221,  0.26626500487327576); padding: 1px 5px; border: solid 3px ; border-color: rgba(9, 175, 221,  1); #EFEFEF\">Methods Two groups of 20 patients were arthroscopically treated with microfractures for a symptomatic focal chondral defect of the knee.</span><span style=\"display: inline; background-color: rgba(9, 221, 55,  0.27156564593315125); padding: 1px 5px; border: solid 3px ; border-color: rgba(9, 221, 55,  1); #EFEFEF\">At the end of surgery, in the experimental group, micro-fragmented stromal-vascular fraction was injected into the joint.</span><span style=\"display: inline; background-color: rgba(0, 0, 0, 0.0); padding: 1px 5px; border: solid 3px ; border-color: rgba(0, 0, 0, 0.0); #EFEFEF\">Primary end point was WOMAC score at 12 months.</span><span style=\"display: inline; background-color: rgba(0, 0, 0, 0.0); padding: 1px 5px; border: solid 3px ; border-color: rgba(0, 0, 0, 0.0); #EFEFEF\">Secondary end points were any adverse events, Oxford Knee Score, EQ-5D score, VAS for pain, analgesic and anti-inflammatory consumption.</span><span style=\"display: inline; background-color: rgba(0, 0, 0, 0.0); padding: 1px 5px; border: solid 3px ; border-color: rgba(0, 0, 0, 0.0); #EFEFEF\">Results All the patients were evaluated at 12-month follow-up.</span><span style=\"display: inline; background-color: rgba(0, 0, 0, 0.0); padding: 1px 5px; border: solid 3px ; border-color: rgba(0, 0, 0, 0.0); #EFEFEF\">No adverse reactions were noted.</span><span style=\"display: inline; background-color: rgba(0, 0, 0, 0.0); padding: 1px 5px; border: solid 3px ; border-color: rgba(0, 0, 0, 0.0); #EFEFEF\">Analgesic and anti-inflammatory consumption was similar in both groups.</span><span style=\"display: inline; background-color: rgba(0, 0, 0, 0.0); padding: 1px 5px; border: solid 3px ; border-color: rgba(0, 0, 0, 0.0); #EFEFEF\">At 1-month follow-up, no differences were noted between groups when compared to pre-operative scores.</span><span style=\"display: inline; background-color: rgba(0, 0, 0, 0.0); padding: 1px 5px; border: solid 3px ; border-color: rgba(0, 0, 0, 0.0); #EFEFEF\">At 3-month follow-up, patients in both groups improved from the baseline in all variables.</span><span style=\"display: inline; background-color: rgba(9, 175, 221,  0.26626500487327576); padding: 1px 5px; border: solid 3px ; border-color: rgba(9, 175, 221,  1); #EFEFEF\">Significantly lower VAS scores were found in the experimental group (4.2 +/- 3.2 vs. 5.9 +/- 1.7, p = 0.04).</span><span style=\"display: inline; background-color: rgba(0, 0, 0, 0.0); padding: 1px 5px; border: solid 3px ; border-color: rgba(0, 0, 0, 0.0); #EFEFEF\">At 6- and 12-month follow-ups, patients in the experimental group scored better in all outcomes with a moderate effect size; in particular, better WOMAC scores were obtained at 12 months, achieving the primary end-point of the study (17.7 +/- 11.1 vs. 25.5 +/- 12.7; p = 0.03).</span><span style=\"display: inline; background-color: rgba(9, 221, 55,  0.6080196499824524); padding: 1px 5px; border: solid 3px ; border-color: rgba(9, 221, 55,  1); #EFEFEF\">Conclusions Injection of micro-fragmented stromal-vascular fraction is safe and, when associated with microfractures, is more effective in clinical terms than microfractures alone in patients affected by symptomatic focal chondral lesions of the knee.</span><span style=\"display: inline; background-color: rgba(9, 221, 55,  0.6804590225219727); padding: 1px 5px; border: solid 3px ; border-color: rgba(9, 221, 55,  1); #EFEFEF\">Results of the current study provide information that could help physicians to improve their counseling for patients concerning ADMSCs.</span> </div>"
      ],
      "text/plain": [
       "<IPython.core.display.HTML object>"
      ]
     },
     "metadata": {},
     "output_type": "display_data"
    },
    {
     "name": "stdout",
     "output_type": "stream",
     "text": [
      "record_id = 6\n"
     ]
    },
    {
     "data": {
      "text/html": [
       "<div style='display: flex; width: 400px; flex-wrap: wrap;'><span style=\"background-color: rgba(9, 221, 55,  0.5); margin: 7px; padding: 1px 5px; border: solid 3px ; border-color: rgba(9, 221, 55,  1); #EFEFEF\">concept_3 </span> <span style=\"background-color: rgba(9, 175, 221,  0.5); margin: 7px; padding: 1px 5px; border: solid 3px ; border-color: rgba(9, 175, 221,  1); #EFEFEF\">concept_6 </span> </div>"
      ],
      "text/plain": [
       "<IPython.core.display.HTML object>"
      ]
     },
     "metadata": {},
     "output_type": "display_data"
    },
    {
     "data": {
      "text/html": [
       "<div style='display: flex; width: 800px; flex-wrap: wrap;'><span style=\"display: inline; background-color: rgba(9, 221, 55,  0.21666064858436584); padding: 1px 5px; border: solid 3px ; border-color: rgba(9, 221, 55,  1); #EFEFEF\">Articular Cartilage Treatment in High-Level Male Soccer Players Background: Soccer is a highly demanding sport for the knee joint, and chondral injuries can cause disabling symptoms that may jeopardize an athlete’s career.</span><span style=\"display: inline; background-color: rgba(0, 0, 0, 0.0); padding: 1px 5px; border: solid 3px ; border-color: rgba(0, 0, 0, 0.0); #EFEFEF\">Articular cartilage lesions are difficult to treat, and the increased mechanical stress produced by this sport makes their management even more complex.</span><span style=\"display: inline; background-color: rgba(9, 221, 55,  0.9909124970436096); padding: 1px 5px; border: solid 3px ; border-color: rgba(9, 221, 55,  1); #EFEFEF\">Hypothesis: To evaluate whether the regenerative cell-based approach allows these highly demanding athletes a better functional recovery compared with the bone marrow stimulation approach.</span><span style=\"display: inline; background-color: rgba(0, 0, 0, 0.0); padding: 1px 5px; border: solid 3px ; border-color: rgba(0, 0, 0, 0.0); #EFEFEF\">Study Design: Cohort study; Level of evidence, 2.</span><span style=\"display: inline; background-color: rgba(0, 0, 0, 0.0); padding: 1px 5px; border: solid 3px ; border-color: rgba(0, 0, 0, 0.0); #EFEFEF\">Methods: Forty-one professional or semiprofessional male soccer players were treated from 2000 to 2006 and evaluated prospectively at 2 years and at a final 7.5-year mean follow-up (minimum, 4 years).</span><span style=\"display: inline; background-color: rgba(0, 0, 0, 0.0); padding: 1px 5px; border: solid 3px ; border-color: rgba(0, 0, 0, 0.0); #EFEFEF\">Twenty-one patients were treated with arthroscopic second-generation autologous chondrocyte implantation (Hyalograft C) and 20 with the microfracture technique.</span><span style=\"display: inline; background-color: rgba(0, 0, 0, 0.0); padding: 1px 5px; border: solid 3px ; border-color: rgba(0, 0, 0, 0.0); #EFEFEF\">The clinical outcome of all patients was analyzed using the cartilage standard International Cartilage Repair Society (ICRS) evaluation package.</span><span style=\"display: inline; background-color: rgba(0, 0, 0, 0.0); padding: 1px 5px; border: solid 3px ; border-color: rgba(0, 0, 0, 0.0); #EFEFEF\">The sport activity level was evaluated with the Tegner score, and the recovery time was also recorded.</span><span style=\"display: inline; background-color: rgba(0, 0, 0, 0.0); padding: 1px 5px; border: solid 3px ; border-color: rgba(0, 0, 0, 0.0); #EFEFEF\">Results: A significant improvement in all clinical scores from preoperative to final follow-up was found in both groups.</span><span style=\"display: inline; background-color: rgba(0, 0, 0, 0.0); padding: 1px 5px; border: solid 3px ; border-color: rgba(0, 0, 0, 0.0); #EFEFEF\">The percentage of patients who returned to competition was similar: 80% in the microfracture group and 86% in the Hyalograft C group.</span><span style=\"display: inline; background-color: rgba(0, 0, 0, 0.0); padding: 1px 5px; border: solid 3px ; border-color: rgba(0, 0, 0, 0.0); #EFEFEF\">Patients treated with microfracture needed a median of 8 months before playing their first official soccer game, whereas the Hyalograft C group required a median time of 12.5 months ( P = .009).</span><span style=\"display: inline; background-color: rgba(0, 0, 0, 0.0); padding: 1px 5px; border: solid 3px ; border-color: rgba(0, 0, 0, 0.0); #EFEFEF\">The International Knee Documentation Committee (IKDC) subjective score showed similar results at 2 years’ follow-up but significantly better results in the Hyalograft C group at the final evaluation ( P = .005).</span><span style=\"display: inline; background-color: rgba(0, 0, 0, 0.0); padding: 1px 5px; border: solid 3px ; border-color: rgba(0, 0, 0, 0.0); #EFEFEF\">In fact, in the microfracture group, results decreased over time (from 86.8 ± 9.7 to 79.0 ± 11.6, P &lt; .0005), whereas the Hyalograft C group presented a more durable outcome with stable results (90.5 ± 12.8 at 2 years and 91.0 ± 13.9 at the final follow-up).</span><span style=\"display: inline; background-color: rgba(0, 0, 0, 0.0); padding: 1px 5px; border: solid 3px ; border-color: rgba(0, 0, 0, 0.0); #EFEFEF\">Conclusion: Despite similar success in returning to competitive sport, microfracture allows a faster recovery but present a clinical deterioration over time, whereas arthroscopic second-generation autologous chondrocyte implantation delays the return of high-level male soccer players to competition but can offer more durable clinical results.</span> </div>"
      ],
      "text/plain": [
       "<IPython.core.display.HTML object>"
      ]
     },
     "metadata": {},
     "output_type": "display_data"
    },
    {
     "name": "stdout",
     "output_type": "stream",
     "text": [
      "record_id = 7\n"
     ]
    },
    {
     "data": {
      "text/html": [
       "<div style='display: flex; width: 400px; flex-wrap: wrap;'><span style=\"background-color: rgba(9, 221, 55,  0.5); margin: 7px; padding: 1px 5px; border: solid 3px ; border-color: rgba(9, 221, 55,  1); #EFEFEF\">concept_3 </span> <span style=\"background-color: rgba(9, 175, 221,  0.5); margin: 7px; padding: 1px 5px; border: solid 3px ; border-color: rgba(9, 175, 221,  1); #EFEFEF\">concept_6 </span> </div>"
      ],
      "text/plain": [
       "<IPython.core.display.HTML object>"
      ]
     },
     "metadata": {},
     "output_type": "display_data"
    },
    {
     "data": {
      "text/html": [
       "<div style='display: flex; width: 800px; flex-wrap: wrap;'><span style=\"display: inline; background-color: rgba(9, 175, 221,  0.4580475389957428); padding: 1px 5px; border: solid 3px ; border-color: rgba(9, 175, 221,  1); #EFEFEF\">Comparative Clinical Observation of Arthroscopic Microfracture in the Presence and Absence of a Stromal Vascular Fraction Injection for Osteoarthritis Abstract Osteoarthritis (OA) is a degenerative cartilage disease that is characterized by a local inflammatory reaction.</span><span style=\"display: inline; background-color: rgba(9, 175, 221,  0.2979501485824585); padding: 1px 5px; border: solid 3px ; border-color: rgba(9, 175, 221,  1); #EFEFEF\">Consequently, many studies have been performed to identify suitable prevention and treatment interventions.</span><span style=\"display: inline; background-color: rgba(9, 175, 221,  0.9915006160736084); padding: 1px 5px; border: solid 3px ; border-color: rgba(9, 175, 221,  1); #EFEFEF\">In recent years, both arthroscopic microfracture (AM) and stem cell therapy have been used clinically to treat OA.</span><span style=\"display: inline; background-color: rgba(9, 221, 55,  0.21246810257434845); padding: 1px 5px; border: solid 3px ; border-color: rgba(9, 221, 55,  1); #EFEFEF\">This study aimed to evaluate the clinical effects of AM in the presence and absence of a stromal vascular fraction (SVF) injection in the management of patients with OA.</span><span style=\"display: inline; background-color: rgba(0, 0, 0, 0.0); padding: 1px 5px; border: solid 3px ; border-color: rgba(0, 0, 0, 0.0); #EFEFEF\">Thirty patients with grade 2 or 3 (Lawrence scale) OA of the knee participated in this study.</span><span style=\"display: inline; background-color: rgba(9, 221, 55,  0.23085349798202515); padding: 1px 5px; border: solid 3px ; border-color: rgba(9, 221, 55,  1); #EFEFEF\">Placebo group patients (n = 15) received AM alone; treatment group patients (n = 15) received AM and an adipose tissue-derived SVF injection.</span><span style=\"display: inline; background-color: rgba(0, 0, 0, 0.0); padding: 1px 5px; border: solid 3px ; border-color: rgba(0, 0, 0, 0.0); #EFEFEF\">The SVF was suspended in platelet-rich plasma (PRP) before injection into the joint.</span><span style=\"display: inline; background-color: rgba(9, 175, 221,  0.22028881311416626); padding: 1px 5px; border: solid 3px ; border-color: rgba(9, 175, 221,  1); #EFEFEF\">Patient groups were monitored and scored with the Western Ontario and McMaster Universities Arthritis Index (WOMAC), Lysholm, Visual Analog Pain Scale (VAS), and modified Outerbridge classifications before treatment and at 6, 12, and 18 months post-treatment.</span><span style=\"display: inline; background-color: rgba(9, 175, 221,  0.2714783549308777); padding: 1px 5px; border: solid 3px ; border-color: rgba(9, 175, 221,  1); #EFEFEF\">Bone marrow edema was also assessed at these time points.</span><span style=\"display: inline; background-color: rgba(0, 0, 0, 0.0); padding: 1px 5px; border: solid 3px ; border-color: rgba(0, 0, 0, 0.0); #EFEFEF\">Patients were evaluated for knee activity (joint motion amplitude) and adverse effects relating to surgery and stem cell injection.</span><span style=\"display: inline; background-color: rgba(9, 175, 221,  0.23852956295013428); padding: 1px 5px; border: solid 3px ; border-color: rgba(9, 175, 221,  1); #EFEFEF\">Treatment efficacy was significantly different between placebo and treatment groups.</span><span style=\"display: inline; background-color: rgba(9, 175, 221,  0.37203457951545715); padding: 1px 5px; border: solid 3px ; border-color: rgba(9, 175, 221,  1); #EFEFEF\">All treatment group patients had significantly reduced pain and WOMAC scores, and increased Lysholm and VAS scores compared with the placebo group.</span><span style=\"display: inline; background-color: rgba(0, 0, 0, 0.0); padding: 1px 5px; border: solid 3px ; border-color: rgba(0, 0, 0, 0.0); #EFEFEF\">These findings suggest that the SVF/PRP injection efficiently improved OA for 18 months after treatment.</span><span style=\"display: inline; background-color: rgba(0, 0, 0, 0.0); padding: 1px 5px; border: solid 3px ; border-color: rgba(0, 0, 0, 0.0); #EFEFEF\">This study will be continuously monitored for additional 24 months.</span> </div>"
      ],
      "text/plain": [
       "<IPython.core.display.HTML object>"
      ]
     },
     "metadata": {},
     "output_type": "display_data"
    },
    {
     "name": "stdout",
     "output_type": "stream",
     "text": [
      "record_id = 8\n"
     ]
    },
    {
     "data": {
      "text/html": [
       "<div style='display: flex; width: 400px; flex-wrap: wrap;'><span style=\"background-color: rgba(9, 221, 55,  0.5); margin: 7px; padding: 1px 5px; border: solid 3px ; border-color: rgba(9, 221, 55,  1); #EFEFEF\">concept_3 </span> <span style=\"background-color: rgba(9, 175, 221,  0.5); margin: 7px; padding: 1px 5px; border: solid 3px ; border-color: rgba(9, 175, 221,  1); #EFEFEF\">concept_6 </span> </div>"
      ],
      "text/plain": [
       "<IPython.core.display.HTML object>"
      ]
     },
     "metadata": {},
     "output_type": "display_data"
    },
    {
     "data": {
      "text/html": [
       "<div style='display: flex; width: 800px; flex-wrap: wrap;'><span style=\"display: inline; background-color: rgba(0, 0, 0, 0.0); padding: 1px 5px; border: solid 3px ; border-color: rgba(0, 0, 0, 0.0); #EFEFEF\">Arthroscopic Second-Generation Autologous Chondrocyte Implantation Compared with Microfracture for Chondral Lesions of the Knee Background Various approaches have been proposed to treat articular cartilage lesions, which are plagued by inherent limited healing potential.</span><span style=\"display: inline; background-color: rgba(9, 175, 221,  0.5576562285423279); padding: 1px 5px; border: solid 3px ; border-color: rgba(9, 175, 221,  1); #EFEFEF\">Purpose To compare the clinical outcome of patients treated with second-generation autologous chondrocyte implantation implants with those treated with the microfracture repair technique at 5-year follow-up.</span><span style=\"display: inline; background-color: rgba(0, 0, 0, 0.0); padding: 1px 5px; border: solid 3px ; border-color: rgba(0, 0, 0, 0.0); #EFEFEF\">Study Design Cohort study; Level of evidence, 2.</span><span style=\"display: inline; background-color: rgba(0, 0, 0, 0.0); padding: 1px 5px; border: solid 3px ; border-color: rgba(0, 0, 0, 0.0); #EFEFEF\">Methods Eighty active patients (mean age, 29.8 years) and grade III to IV cartilage lesions of the femoral condyles or trochlea were treated with arthroscopic second-generation autologous chondrocyte implantation Hyalograft C or microfracture (40 patients per group).</span><span style=\"display: inline; background-color: rgba(0, 0, 0, 0.0); padding: 1px 5px; border: solid 3px ; border-color: rgba(0, 0, 0, 0.0); #EFEFEF\">Patients achieved a minimum 5-year follow-up and were prospectively evaluated.</span><span style=\"display: inline; background-color: rgba(0, 0, 0, 0.0); padding: 1px 5px; border: solid 3px ; border-color: rgba(0, 0, 0, 0.0); #EFEFEF\">Results Both groups showed statistically significant improvement of all clinical scores from preoperative interval to 5-year follow-up.</span><span style=\"display: inline; background-color: rgba(0, 0, 0, 0.0); padding: 1px 5px; border: solid 3px ; border-color: rgba(0, 0, 0, 0.0); #EFEFEF\">There was a significant improvement for the International Knee Documentation Committee subjective score from preoperative to 5-year follow-up (Wilcoxon test, P &lt; .001).</span><span style=\"display: inline; background-color: rgba(0, 0, 0, 0.0); padding: 1px 5px; border: solid 3px ; border-color: rgba(0, 0, 0, 0.0); #EFEFEF\">In the microfracture group, the International Knee Documentation Committee objective score increased from 2.5% normal and nearly normal knees before the operation to 75% normal and nearly normal knees at 5-year follow-up, and the subjective score increased from 41.1 ± 12.3 preoperatively to 70.2 ± 14.7 at 5-year follow-up.</span><span style=\"display: inline; background-color: rgba(0, 0, 0, 0.0); padding: 1px 5px; border: solid 3px ; border-color: rgba(0, 0, 0, 0.0); #EFEFEF\">In the group treated with Hyalograft C, the International Knee Documentation Committee objective score increased from 15% normal and nearly normal knees before the operation to 90% normal and nearly normal knees at 5-year follow-up, and its subjective score increased from 40.5 ± 15.2 preoperatively to 80.2 ± 19.1 at 5-year follow-up (Wilcoxon test, P &lt; .001).</span><span style=\"display: inline; background-color: rgba(0, 0, 0, 0.0); padding: 1px 5px; border: solid 3px ; border-color: rgba(0, 0, 0, 0.0); #EFEFEF\">When comparing the groups, better improvement of the International Knee Documentation Committee objective (P &lt; .001) and subjective (P = .003) scores was observed in the Hyalograft C group at 5-year follow-up.</span><span style=\"display: inline; background-color: rgba(0, 0, 0, 0.0); padding: 1px 5px; border: solid 3px ; border-color: rgba(0, 0, 0, 0.0); #EFEFEF\">The return to sports at 2 years was similar in both groups and remained stable after 5 years in the Hyalograft C group; it worsened in the microfracture group.</span><span style=\"display: inline; background-color: rgba(0, 0, 0, 0.0); padding: 1px 5px; border: solid 3px ; border-color: rgba(0, 0, 0, 0.0); #EFEFEF\">Conclusion Both methods have shown satisfactory clinical outcome at medium-term follow-up.</span><span style=\"display: inline; background-color: rgba(0, 0, 0, 0.0); padding: 1px 5px; border: solid 3px ; border-color: rgba(0, 0, 0, 0.0); #EFEFEF\">Better clinical results and sport activity resumption were noted in the group treated with second-generation autologous chondrocyte transplantation.</span> </div>"
      ],
      "text/plain": [
       "<IPython.core.display.HTML object>"
      ]
     },
     "metadata": {},
     "output_type": "display_data"
    },
    {
     "name": "stdout",
     "output_type": "stream",
     "text": [
      "record_id = 9\n"
     ]
    },
    {
     "data": {
      "text/html": [
       "<div style='display: flex; width: 400px; flex-wrap: wrap;'><span style=\"background-color: rgba(9, 221, 55,  0.5); margin: 7px; padding: 1px 5px; border: solid 3px ; border-color: rgba(9, 221, 55,  1); #EFEFEF\">concept_3 </span> <span style=\"background-color: rgba(9, 175, 221,  0.5); margin: 7px; padding: 1px 5px; border: solid 3px ; border-color: rgba(9, 175, 221,  1); #EFEFEF\">concept_6 </span> </div>"
      ],
      "text/plain": [
       "<IPython.core.display.HTML object>"
      ]
     },
     "metadata": {},
     "output_type": "display_data"
    },
    {
     "data": {
      "text/html": [
       "<div style='display: flex; width: 800px; flex-wrap: wrap;'><span style=\"display: inline; background-color: rgba(0, 0, 0, 0.0); padding: 1px 5px; border: solid 3px ; border-color: rgba(0, 0, 0, 0.0); #EFEFEF\">Novel Scaffold-Based BST-CarGel Treatment Results in Superior Cartilage Repair Compared with Microfracture in a Randomized Controlled Trial Microfracture, the standard of care, is recognized to be an incomplete solution for cartilage damage.</span><span style=\"display: inline; background-color: rgba(0, 0, 0, 0.0); padding: 1px 5px; border: solid 3px ; border-color: rgba(0, 0, 0, 0.0); #EFEFEF\">BST-CarGel, a chitosan-based medical device, is mixed with autologous whole blood and is applied to a microfractured cartilage lesion in which it physically stabilizes the clot and guides and enhances marrow-derived repair.</span><span style=\"display: inline; background-color: rgba(0, 0, 0, 0.0); padding: 1px 5px; border: solid 3px ; border-color: rgba(0, 0, 0, 0.0); #EFEFEF\">An international, multicenter, randomized controlled trial was conducted to evaluate BST-CarGel treatment compared with microfracture alone in the repair of cartilage lesions in the knee.Eighty patients between the ages of eighteen and fifty-five years with a single, symptomatic focal lesion on the femoral condyles were randomized to BST-CarGel and microfracture treatment (n = 41) or microfracture treatment alone (n = 39).</span><span style=\"display: inline; background-color: rgba(0, 0, 0, 0.0); padding: 1px 5px; border: solid 3px ; border-color: rgba(0, 0, 0, 0.0); #EFEFEF\">The primary end points of repair tissue quantity and quality at twelve months were assessed by quantitative three-dimensional magnetic resonance imaging measuring the degree of lesion filling and T2 relaxation time with use of standardized one and twelve-month posttreatment scans.</span><span style=\"display: inline; background-color: rgba(0, 0, 0, 0.0); padding: 1px 5px; border: solid 3px ; border-color: rgba(0, 0, 0, 0.0); #EFEFEF\">The secondary end point at twelve months was clinical benefit determined with the Western Ontario and McMaster Universities Osteoarthritis Index.</span><span style=\"display: inline; background-color: rgba(0, 0, 0, 0.0); padding: 1px 5px; border: solid 3px ; border-color: rgba(0, 0, 0, 0.0); #EFEFEF\">The tertiary end point was quality of life determined by the Short Form-36.</span><span style=\"display: inline; background-color: rgba(0, 0, 0, 0.0); padding: 1px 5px; border: solid 3px ; border-color: rgba(0, 0, 0, 0.0); #EFEFEF\">Safety was assessed through the recording of adverse events.Patient baseline characteristics were similar in the two groups, although baseline lesion areas were slightly larger on quantitative magnetic resonance imaging for the BST-CarGel group compared with the microfracture group.</span><span style=\"display: inline; background-color: rgba(0, 0, 0, 0.0); padding: 1px 5px; border: solid 3px ; border-color: rgba(0, 0, 0, 0.0); #EFEFEF\">Blinded quantitative magnetic resonance imaging analysis demonstrated that, at twelve months, when compared with microfracture treatment alone, BST-CarGel treatment met both primary end points by achieving statistical superiority for greater lesion filling (p = 0.011) and more hyaline cartilage-like T2 values (p = 0.033).</span><span style=\"display: inline; background-color: rgba(0, 0, 0, 0.0); padding: 1px 5px; border: solid 3px ; border-color: rgba(0, 0, 0, 0.0); #EFEFEF\">The lesion filling values were 92.8% ± 2.0% for the BST-CarGel treatment group and 85.2% ± 2.1% for the microfracture treatment group, and the mean T2 values were 70.5 ± 4.5 ms for the BST-CarGel treatment group and 85.0 ± 4.9 ms for the microfracture treatment group.</span><span style=\"display: inline; background-color: rgba(0, 0, 0, 0.0); padding: 1px 5px; border: solid 3px ; border-color: rgba(0, 0, 0, 0.0); #EFEFEF\">Western Ontario and McMaster Universities Osteoarthritis Index subscales for pain, stiffness, and function yielded equivalent improvement for both groups at twelve months, which were significant (p < 0.0001) from baseline.</span><span style=\"display: inline; background-color: rgba(0, 0, 0, 0.0); padding: 1px 5px; border: solid 3px ; border-color: rgba(0, 0, 0, 0.0); #EFEFEF\">Treatment safety profiles were considered comparable.At twelve months, BST-CarGel treatment resulted in greater lesion filling and superior repair tissue quality compared with microfracture treatment alone.</span><span style=\"display: inline; background-color: rgba(0, 0, 0, 0.0); padding: 1px 5px; border: solid 3px ; border-color: rgba(0, 0, 0, 0.0); #EFEFEF\">Clinical benefit was equivalent between groups at twelve months, and safety was similar.</span> </div>"
      ],
      "text/plain": [
       "<IPython.core.display.HTML object>"
      ]
     },
     "metadata": {},
     "output_type": "display_data"
    },
    {
     "name": "stdout",
     "output_type": "stream",
     "text": [
      "record_id = 10\n"
     ]
    },
    {
     "data": {
      "text/html": [
       "<div style='display: flex; width: 400px; flex-wrap: wrap;'><span style=\"background-color: rgba(9, 221, 55,  0.5); margin: 7px; padding: 1px 5px; border: solid 3px ; border-color: rgba(9, 221, 55,  1); #EFEFEF\">concept_3 </span> <span style=\"background-color: rgba(9, 175, 221,  0.5); margin: 7px; padding: 1px 5px; border: solid 3px ; border-color: rgba(9, 175, 221,  1); #EFEFEF\">concept_6 </span> </div>"
      ],
      "text/plain": [
       "<IPython.core.display.HTML object>"
      ]
     },
     "metadata": {},
     "output_type": "display_data"
    },
    {
     "data": {
      "text/html": [
       "<div style='display: flex; width: 800px; flex-wrap: wrap;'><span style=\"display: inline; background-color: rgba(0, 0, 0, 0.0); padding: 1px 5px; border: solid 3px ; border-color: rgba(0, 0, 0, 0.0); #EFEFEF\">Traditional vs accelerated approaches to post-operative rehabilitation following matrix-induced autologous chondrocyte implantation (MACI): comparison of clinical, biomechanical and radiographic outcomes <h2>Summary</h2><h3>Objective</h3> To determine the effectiveness of ‘accelerated' compared to ‘traditional' post-operative load bearing rehabilitation protocols following matrix-induced autologous chondrocyte implantation (MACI).</span><span style=\"display: inline; background-color: rgba(0, 0, 0, 0.0); padding: 1px 5px; border: solid 3px ; border-color: rgba(0, 0, 0, 0.0); #EFEFEF\"><h3>Method</h3> A randomized controlled study design was used to investigate clinical, biomechanical and radiographic assessment at 3 months post-surgery in 62 patients following MACI to the medial or lateral femoral condyle.</span><span style=\"display: inline; background-color: rgba(0, 0, 0, 0.0); padding: 1px 5px; border: solid 3px ; border-color: rgba(0, 0, 0, 0.0); #EFEFEF\">Both rehabilitation interventions sought to protect the implant for an initial period, then incrementally increase load bearing.</span><span style=\"display: inline; background-color: rgba(0, 0, 0, 0.0); padding: 1px 5px; border: solid 3px ; border-color: rgba(0, 0, 0, 0.0); #EFEFEF\">Under the ‘accelerated' protocol, patients reached full weight bearing at 8 weeks post-surgery, compared to 11 weeks for the ‘traditional' group.</span><span style=\"display: inline; background-color: rgba(0, 0, 0, 0.0); padding: 1px 5px; border: solid 3px ; border-color: rgba(0, 0, 0, 0.0); #EFEFEF\"><h3>Results</h3> Patients in the ‘accelerated' group achieved greater 6min walk distances and daily activity levels as measured by accelerometry (<i>P</i><0.05) compared to the ‘traditional' group.</span><span style=\"display: inline; background-color: rgba(0, 0, 0, 0.0); padding: 1px 5px; border: solid 3px ; border-color: rgba(0, 0, 0, 0.0); #EFEFEF\">Furthermore, the ‘accelerated' group reported significantly better improvement in knee pain at 12 weeks as indicated by the Knee Injury and Osteoarthritis Outcome Score (<i>P</i><0.05), and regardless of the rehabilitation protocol employed, no patient suffered any adverse effect to the implant as assessed by magnetic resonance imaging at 3 months.</span><span style=\"display: inline; background-color: rgba(0, 0, 0, 0.0); padding: 1px 5px; border: solid 3px ; border-color: rgba(0, 0, 0, 0.0); #EFEFEF\">Comparison of each rehabilitation group with an unaffected control group revealed a significant difference in peak knee adduction and flexion moments for the traditional group (<i>P</i><0.05).</span><span style=\"display: inline; background-color: rgba(0, 0, 0, 0.0); padding: 1px 5px; border: solid 3px ; border-color: rgba(0, 0, 0, 0.0); #EFEFEF\">However, there was no difference for accelerated patients (<i>P</i>>0.05), which may demonstrate a faster return to knee loading patterns typically observed in unaffected subjects.</span><span style=\"display: inline; background-color: rgba(0, 0, 0, 0.0); padding: 1px 5px; border: solid 3px ; border-color: rgba(0, 0, 0, 0.0); #EFEFEF\"><h3>Conclusion</h3> The ‘accelerated' load bearing approach that reduced the length of time spent ambulating on crutches resulted in reduced knee pain, improved function, no graft complications and may speed up the recovery of normal gait function.</span><span style=\"display: inline; background-color: rgba(0, 0, 0, 0.0); padding: 1px 5px; border: solid 3px ; border-color: rgba(0, 0, 0, 0.0); #EFEFEF\">Patient follow-up to at least 24 months would be required to observe longer-term graft outcomes.</span> </div>"
      ],
      "text/plain": [
       "<IPython.core.display.HTML object>"
      ]
     },
     "metadata": {},
     "output_type": "display_data"
    },
    {
     "name": "stdout",
     "output_type": "stream",
     "text": [
      "record_id = 11\n"
     ]
    },
    {
     "data": {
      "text/html": [
       "<div style='display: flex; width: 400px; flex-wrap: wrap;'><span style=\"background-color: rgba(9, 221, 55,  0.5); margin: 7px; padding: 1px 5px; border: solid 3px ; border-color: rgba(9, 221, 55,  1); #EFEFEF\">concept_3 </span> <span style=\"background-color: rgba(9, 175, 221,  0.5); margin: 7px; padding: 1px 5px; border: solid 3px ; border-color: rgba(9, 175, 221,  1); #EFEFEF\">concept_6 </span> </div>"
      ],
      "text/plain": [
       "<IPython.core.display.HTML object>"
      ]
     },
     "metadata": {},
     "output_type": "display_data"
    },
    {
     "data": {
      "text/html": [
       "<div style='display: flex; width: 800px; flex-wrap: wrap;'><span style=\"display: inline; background-color: rgba(9, 175, 221,  0.43899959325790405); padding: 1px 5px; border: solid 3px ; border-color: rgba(9, 175, 221,  1); #EFEFEF\">Randomized Study of Long-term (15-17 Years) Outcome After Microfracture Versus Mosaicplasty in Knee Articular Cartilage Defects Background: Few comparative randomized long-term studies on microfracture versus mosaicplasty have been published, and only 2 studies reported a follow-up of 10 years.</span><span style=\"display: inline; background-color: rgba(9, 175, 221,  0.9533281922340393); padding: 1px 5px; border: solid 3px ; border-color: rgba(9, 175, 221,  1); #EFEFEF\">Hypothesis/Purpose: The purpose was to compare the clinical outcome of microfracture versus mosaicplasty/osteochondral autograft transfer in symptomatic cartilage lesions.</span><span style=\"display: inline; background-color: rgba(9, 175, 221,  0.23149432241916656); padding: 1px 5px; border: solid 3px ; border-color: rgba(9, 175, 221,  1); #EFEFEF\">The null hypothesis was that the outcome was not statistically different at any point of time.</span><span style=\"display: inline; background-color: rgba(0, 0, 0, 0.0); padding: 1px 5px; border: solid 3px ; border-color: rgba(0, 0, 0, 0.0); #EFEFEF\">Study Design: Randomized controlled trial; Level of evidence, 1.</span><span style=\"display: inline; background-color: rgba(0, 0, 0, 0.0); padding: 1px 5px; border: solid 3px ; border-color: rgba(0, 0, 0, 0.0); #EFEFEF\">Methods: Forty patients with articular cartilage defects were randomized to undergo cartilage repair by either microfracture (n = 20) or mosaicplasty (n = 20).</span><span style=\"display: inline; background-color: rgba(0, 0, 0, 0.0); padding: 1px 5px; border: solid 3px ; border-color: rgba(0, 0, 0, 0.0); #EFEFEF\">Inclusion criteria were as follows: age 18 to 50 years at the time of surgery, 1 or 2 symptomatic focal full-thickness articular chondral defects on the femoral condyles or trochlea, and size 2 to 6 cm 2 .</span><span style=\"display: inline; background-color: rgba(0, 0, 0, 0.0); padding: 1px 5px; border: solid 3px ; border-color: rgba(0, 0, 0, 0.0); #EFEFEF\">The main outcome variable was the Lysholm knee score recorded before the surgery and at 12 months, median 5 years, median 10 years, and minimum 15 years after the surgery.</span><span style=\"display: inline; background-color: rgba(0, 0, 0, 0.0); padding: 1px 5px; border: solid 3px ; border-color: rgba(0, 0, 0, 0.0); #EFEFEF\">Results: Forty patients were included in the study (28 men, 12 women; median age, 32 years; range, 18-48 years).</span><span style=\"display: inline; background-color: rgba(0, 0, 0, 0.0); padding: 1px 5px; border: solid 3px ; border-color: rgba(0, 0, 0, 0.0); #EFEFEF\">Defects with a median size of 3.5 cm 2 (range, 2-5 cm 2 ) were treated.</span><span style=\"display: inline; background-color: rgba(0, 0, 0, 0.0); padding: 1px 5px; border: solid 3px ; border-color: rgba(0, 0, 0, 0.0); #EFEFEF\">A significant increase in the Lysholm score was seen for all subjects— from a mean 53 (SD, 16) at baseline to 69 (SD, 21) at the minimum 15-year follow-up ( P = .001).</span><span style=\"display: inline; background-color: rgba(0, 0, 0, 0.0); padding: 1px 5px; border: solid 3px ; border-color: rgba(0, 0, 0, 0.0); #EFEFEF\">The mean Lysholm score was significantly higher in the mosaicplasty group than the microfracture group at 12 months, median 5 years, median 10 years, and minimum 15 years: 77 (SD, 17) versus 61 (SD, 22), respectively ( P = .01), at the last follow-up.</span><span style=\"display: inline; background-color: rgba(0, 0, 0, 0.0); padding: 1px 5px; border: solid 3px ; border-color: rgba(0, 0, 0, 0.0); #EFEFEF\">At all follow-up time points, the difference in mean Lysholm score was clinically significant (&gt;10 points).</span><span style=\"display: inline; background-color: rgba(0, 0, 0, 0.0); padding: 1px 5px; border: solid 3px ; border-color: rgba(0, 0, 0, 0.0); #EFEFEF\">Conclusion: At short, medium, and long term (minimum 15 years), mosaicplasty results in a better, clinically relevant outcome than microfracture in articular cartilage defects (2-5 cm 2 ) of the distal femur of the knee in patients aged 18 to 50 years.</span> </div>"
      ],
      "text/plain": [
       "<IPython.core.display.HTML object>"
      ]
     },
     "metadata": {},
     "output_type": "display_data"
    },
    {
     "name": "stdout",
     "output_type": "stream",
     "text": [
      "record_id = 12\n"
     ]
    },
    {
     "data": {
      "text/html": [
       "<div style='display: flex; width: 400px; flex-wrap: wrap;'><span style=\"background-color: rgba(9, 221, 55,  0.5); margin: 7px; padding: 1px 5px; border: solid 3px ; border-color: rgba(9, 221, 55,  1); #EFEFEF\">concept_3 </span> <span style=\"background-color: rgba(9, 175, 221,  0.5); margin: 7px; padding: 1px 5px; border: solid 3px ; border-color: rgba(9, 175, 221,  1); #EFEFEF\">concept_6 </span> </div>"
      ],
      "text/plain": [
       "<IPython.core.display.HTML object>"
      ]
     },
     "metadata": {},
     "output_type": "display_data"
    },
    {
     "data": {
      "text/html": [
       "<div style='display: flex; width: 800px; flex-wrap: wrap;'><span style=\"display: inline; background-color: rgba(9, 221, 55,  0.34064486622810364); padding: 1px 5px; border: solid 3px ; border-color: rgba(9, 221, 55,  1); #EFEFEF\">Cell-Seeded Autologous Chondrocyte Implantation: A Simplified Implantation Technique That Maintains High Clinical Outcomes Background: The use of autologous chondrocyte implantation (ACI) remains limited, even though multiple studies have demonstrated success rates exceeding 75%.</span><span style=\"display: inline; background-color: rgba(0, 0, 0, 0.0); padding: 1px 5px; border: solid 3px ; border-color: rgba(0, 0, 0, 0.0); #EFEFEF\">The procedure is perceived as invasive and technically challenging, presenting barriers to more widespread adoption.</span><span style=\"display: inline; background-color: rgba(0, 0, 0, 0.0); padding: 1px 5px; border: solid 3px ; border-color: rgba(0, 0, 0, 0.0); #EFEFEF\">Purpose/Hypothesis: The objective of this study was to investigate whether outcomes and the failure rate of a simplified ACI technique (cs-ACI) were comparable with those of the more complicated traditional technique of a chondrocyte suspension injected under a collagen membrane (cACI).</span><span style=\"display: inline; background-color: rgba(0, 0, 0, 0.0); padding: 1px 5px; border: solid 3px ; border-color: rgba(0, 0, 0, 0.0); #EFEFEF\">We hypothesized that the change in technique would not negatively affect outcomes.</span><span style=\"display: inline; background-color: rgba(0, 0, 0, 0.0); padding: 1px 5px; border: solid 3px ; border-color: rgba(0, 0, 0, 0.0); #EFEFEF\">Study Design: Cohort study; Level of evidence, 3.</span><span style=\"display: inline; background-color: rgba(0, 0, 0, 0.0); padding: 1px 5px; border: solid 3px ; border-color: rgba(0, 0, 0, 0.0); #EFEFEF\">Methods: Thirty-nine patients treated with the cs-ACI technique fulfilled the inclusion requirements.</span><span style=\"display: inline; background-color: rgba(0, 0, 0, 0.0); padding: 1px 5px; border: solid 3px ; border-color: rgba(0, 0, 0, 0.0); #EFEFEF\">A group of 45 patients treated previously with standard cACI was used as a comparison.</span><span style=\"display: inline; background-color: rgba(0, 0, 0, 0.0); padding: 1px 5px; border: solid 3px ; border-color: rgba(0, 0, 0, 0.0); #EFEFEF\">The functional outcomes were prospectively collected both preoperatively and postoperatively at the last follow-up.</span><span style=\"display: inline; background-color: rgba(0, 0, 0, 0.0); padding: 1px 5px; border: solid 3px ; border-color: rgba(0, 0, 0, 0.0); #EFEFEF\">Failure was defined as any graft removal of more than 25% of the original defect size.</span><span style=\"display: inline; background-color: rgba(0, 0, 0, 0.0); padding: 1px 5px; border: solid 3px ; border-color: rgba(0, 0, 0, 0.0); #EFEFEF\">Magnetic resonance imaging was performed postoperatively, and scans were assessed using a modified MOCART (magnetic resonance observation of cartilage repair tissue) scoring system.</span><span style=\"display: inline; background-color: rgba(0, 0, 0, 0.0); padding: 1px 5px; border: solid 3px ; border-color: rgba(0, 0, 0, 0.0); #EFEFEF\">Results: Group demographics were not significantly different, except for the defect size and mean follow-up: 4.09 years in the cACI group and 2.46 years in the cs-ACI group.</span><span style=\"display: inline; background-color: rgba(9, 221, 55,  0.25915759801864624); padding: 1px 5px; border: solid 3px ; border-color: rgba(9, 221, 55,  1); #EFEFEF\">Significant improvements were seen in all outcome measures except the Tegner score from the preoperative baseline to the latest follow-up for both the cACI group (International Knee Documentation Committee [IKDC] score, from 42.0 to 63.4; Knee injury and Osteoarthritis Outcome Score [KOOS]–Pain subscore, from 58.7 to 77.1; Lysholm score, from 57.2 to 69.7; and Tegner score, from 3.5 to 4.2) and the cs-ACI group (IKDC score, from 45.6 to 68.0; KOOS-Pain subscore, from 66.6 to 84.7; Lysholm score, from 53.7 to 75.4; and Tegner score, from 3.2 to 3.8).</span><span style=\"display: inline; background-color: rgba(0, 0, 0, 0.0); padding: 1px 5px; border: solid 3px ; border-color: rgba(0, 0, 0, 0.0); #EFEFEF\">No significant difference was found between the groups at the latest follow-up.</span><span style=\"display: inline; background-color: rgba(0, 0, 0, 0.0); padding: 1px 5px; border: solid 3px ; border-color: rgba(0, 0, 0, 0.0); #EFEFEF\">The failure rate at 2 years was not significantly different, while the total failure rate over the entire study period was significantly lower in the cs-ACI group than the cACI group (5% vs 24%, respectively).</span><span style=\"display: inline; background-color: rgba(0, 0, 0, 0.0); padding: 1px 5px; border: solid 3px ; border-color: rgba(0, 0, 0, 0.0); #EFEFEF\">The overall MOCART score was not significantly different between the groups.</span><span style=\"display: inline; background-color: rgba(0, 0, 0, 0.0); padding: 1px 5px; border: solid 3px ; border-color: rgba(0, 0, 0, 0.0); #EFEFEF\">Conclusion: The treatment of full-thickness articular cartilage defects with a simplified cell-seeded ACI technique demonstrated no significant differences in the failure rate and patient-reported outcomes when compared with a standard technique utilizing interrupted sutures and the injection of a cell suspension under a collagen membrane.</span> </div>"
      ],
      "text/plain": [
       "<IPython.core.display.HTML object>"
      ]
     },
     "metadata": {},
     "output_type": "display_data"
    },
    {
     "name": "stdout",
     "output_type": "stream",
     "text": [
      "record_id = 13\n"
     ]
    },
    {
     "data": {
      "text/html": [
       "<div style='display: flex; width: 400px; flex-wrap: wrap;'><span style=\"background-color: rgba(9, 221, 55,  0.5); margin: 7px; padding: 1px 5px; border: solid 3px ; border-color: rgba(9, 221, 55,  1); #EFEFEF\">concept_3 </span> <span style=\"background-color: rgba(9, 175, 221,  0.5); margin: 7px; padding: 1px 5px; border: solid 3px ; border-color: rgba(9, 175, 221,  1); #EFEFEF\">concept_6 </span> </div>"
      ],
      "text/plain": [
       "<IPython.core.display.HTML object>"
      ]
     },
     "metadata": {},
     "output_type": "display_data"
    },
    {
     "data": {
      "text/html": [
       "<div style='display: flex; width: 800px; flex-wrap: wrap;'><span style=\"display: inline; background-color: rgba(9, 175, 221,  0.9977349042892456); padding: 1px 5px; border: solid 3px ; border-color: rgba(9, 175, 221,  1); #EFEFEF\">A Prospective Randomized Clinical Study of Mosaic Osteochondral Autologous Transplantation Versus Microfracture for the Treatment of Osteochondral Defects in the Knee Joint in Young Athletes <b>Purpose:</b> The purpose of this study was to compare the outcomes of mosaic-type osteochondral autologous transplantation (OAT) and microfracture (MF) procedures for the treatment of the articular cartilage defects of the knee joint in young active athletes.</span><span style=\"display: inline; background-color: rgba(0, 0, 0, 0.0); padding: 1px 5px; border: solid 3px ; border-color: rgba(0, 0, 0, 0.0); #EFEFEF\"><b>Type of Study:</b> Prospective randomized clinical study.</span><span style=\"display: inline; background-color: rgba(0, 0, 0, 0.0); padding: 1px 5px; border: solid 3px ; border-color: rgba(0, 0, 0, 0.0); #EFEFEF\"><b>Methods:</b> Between 1998 and 2002, a total of 60 athletes with a mean age of 24.3 years (range, 15 to 40 years) and with a symptomatic lesion of the articular cartilage in the knee were randomized to undergo either an OAT or an MF procedure.</span><span style=\"display: inline; background-color: rgba(0, 0, 0, 0.0); padding: 1px 5px; border: solid 3px ; border-color: rgba(0, 0, 0, 0.0); #EFEFEF\">Only those athletes playing in competitive sports at regional or national levels were included in the study.</span><span style=\"display: inline; background-color: rgba(0, 0, 0, 0.0); padding: 1px 5px; border: solid 3px ; border-color: rgba(0, 0, 0, 0.0); #EFEFEF\">Fifty-seven athletes (95%) were available for a follow-up.</span><span style=\"display: inline; background-color: rgba(0, 0, 0, 0.0); padding: 1px 5px; border: solid 3px ; border-color: rgba(0, 0, 0, 0.0); #EFEFEF\">There were 28 athletes in the OAT group and 29 athletes in the MF group.</span><span style=\"display: inline; background-color: rgba(0, 0, 0, 0.0); padding: 1px 5px; border: solid 3px ; border-color: rgba(0, 0, 0, 0.0); #EFEFEF\">The mean duration of symptoms was 21.32 ± 5.57 months and the mean follow-up was 37.1 months (range, 36 to 38 months), and none of the athletes had prior surgical interventions to the affected knee.</span><span style=\"display: inline; background-color: rgba(0, 0, 0, 0.0); padding: 1px 5px; border: solid 3px ; border-color: rgba(0, 0, 0, 0.0); #EFEFEF\">Patients were evaluated using modified Hospital for Special Surgery (HSS) and International Cartilage Repair Society (ICRS) scores, radiograph, magnetic resonance imaging (MRI), and clinical assessment.</span><span style=\"display: inline; background-color: rgba(0, 0, 0, 0.0); padding: 1px 5px; border: solid 3px ; border-color: rgba(0, 0, 0, 0.0); #EFEFEF\">An independent observer performed a follow-up examination after 6, 12, 24, and 36 months.</span><span style=\"display: inline; background-color: rgba(0, 0, 0, 0.0); padding: 1px 5px; border: solid 3px ; border-color: rgba(0, 0, 0, 0.0); #EFEFEF\">At 12.4 months postoperatively, arthroscopy with biopsy for histologic evaluation was carried out.</span><span style=\"display: inline; background-color: rgba(0, 0, 0, 0.0); padding: 1px 5px; border: solid 3px ; border-color: rgba(0, 0, 0, 0.0); #EFEFEF\">A radiologist and a pathologist, both of whom were blinded to each patient's treatment, did the radiologic and histologic evaluations.</span><span style=\"display: inline; background-color: rgba(0, 0, 0, 0.0); padding: 1px 5px; border: solid 3px ; border-color: rgba(0, 0, 0, 0.0); #EFEFEF\"><b>Results:</b> After 37.1 months, both groups had significant clinical improvement (<i>P</i> < .05).</span><span style=\"display: inline; background-color: rgba(0, 0, 0, 0.0); padding: 1px 5px; border: solid 3px ; border-color: rgba(0, 0, 0, 0.0); #EFEFEF\">According to the modified HSS and ICRS scores, functional and objective assessment showed that 96% had excellent or good results after OAT compared with 52% for the MF procedure (<i>P</i> < .001).</span><span style=\"display: inline; background-color: rgba(0, 0, 0, 0.0); padding: 1px 5px; border: solid 3px ; border-color: rgba(0, 0, 0, 0.0); #EFEFEF\">At 12, 24, and 36 months after surgery, the HSS and ICRS showed statistically significantly better results in the OAT group (<i>P</i> = .03; <i>P</i> = .006; <i>P</i> = .006).</span><span style=\"display: inline; background-color: rgba(0, 0, 0, 0.0); padding: 1px 5px; border: solid 3px ; border-color: rgba(0, 0, 0, 0.0); #EFEFEF\">Younger athletes did better in both groups.</span><span style=\"display: inline; background-color: rgba(0, 0, 0, 0.0); padding: 1px 5px; border: solid 3px ; border-color: rgba(0, 0, 0, 0.0); #EFEFEF\">No serious complications were reported.</span><span style=\"display: inline; background-color: rgba(0, 0, 0, 0.0); padding: 1px 5px; border: solid 3px ; border-color: rgba(0, 0, 0, 0.0); #EFEFEF\">There was 1 failure in the OAT group and 9 in the MF group.</span><span style=\"display: inline; background-color: rgba(0, 0, 0, 0.0); padding: 1px 5px; border: solid 3px ; border-color: rgba(0, 0, 0, 0.0); #EFEFEF\">The ICRS Cartilage Repair Assessment for macroscopic evaluation during arthroscopy at 12.4 months showed excellent or good repairs in 84% after OAT and in 57% after MF.</span><span style=\"display: inline; background-color: rgba(0, 0, 0, 0.0); padding: 1px 5px; border: solid 3px ; border-color: rgba(0, 0, 0, 0.0); #EFEFEF\">Biopsy specimens were obtained from 58% of the patients and histologic evaluation of repair showed better scores (according to ICRS) for the OAT group (<i>P</i> < .05).</span><span style=\"display: inline; background-color: rgba(0, 0, 0, 0.0); padding: 1px 5px; border: solid 3px ; border-color: rgba(0, 0, 0, 0.0); #EFEFEF\">MRI evaluation showed excellent or good repairs in 94% after OAT compared with 49% after MF.</span><span style=\"display: inline; background-color: rgba(0, 0, 0, 0.0); padding: 1px 5px; border: solid 3px ; border-color: rgba(0, 0, 0, 0.0); #EFEFEF\">Twenty-six (93%) OAT patients and 15 (52%) MF patients returned to sports activities at the preinjury level at an average of 6.5 months (range, 4 to 8 months).</span><span style=\"display: inline; background-color: rgba(0, 0, 0, 0.0); padding: 1px 5px; border: solid 3px ; border-color: rgba(0, 0, 0, 0.0); #EFEFEF\">Others showed a decline in sports activity level.</span><span style=\"display: inline; background-color: rgba(0, 0, 0, 0.0); padding: 1px 5px; border: solid 3px ; border-color: rgba(0, 0, 0, 0.0); #EFEFEF\"><b>Conclusions:</b> At an average of 37.1 months (range, 36 to 38 months) follow-up, our prospective, randomized, clinical study in young active athletes under the age of 40 has shown significant superiority of OAT over MF for the repair of articular cartilage defects in the knee.</span><span style=\"display: inline; background-color: rgba(0, 0, 0, 0.0); padding: 1px 5px; border: solid 3px ; border-color: rgba(0, 0, 0, 0.0); #EFEFEF\">We found that only 52% of MF athletes could return to sports at the preinjury level.</span><span style=\"display: inline; background-color: rgba(0, 0, 0, 0.0); padding: 1px 5px; border: solid 3px ; border-color: rgba(0, 0, 0, 0.0); #EFEFEF\">Limitations of our study included a small number of athletes and a relatively short (3-year) follow-up.</span><span style=\"display: inline; background-color: rgba(0, 0, 0, 0.0); padding: 1px 5px; border: solid 3px ; border-color: rgba(0, 0, 0, 0.0); #EFEFEF\">A long-term follow-up is needed to assess the durability of articular cartilage repair using these methods in young active athletes.</span><span style=\"display: inline; background-color: rgba(0, 0, 0, 0.0); padding: 1px 5px; border: solid 3px ; border-color: rgba(0, 0, 0, 0.0); #EFEFEF\"><b>Level of Evidence:</b> Level I, Therapeutic study, randomized controlled trial, significant difference (a).</span> </div>"
      ],
      "text/plain": [
       "<IPython.core.display.HTML object>"
      ]
     },
     "metadata": {},
     "output_type": "display_data"
    },
    {
     "name": "stdout",
     "output_type": "stream",
     "text": [
      "record_id = 14\n"
     ]
    },
    {
     "data": {
      "text/html": [
       "<div style='display: flex; width: 400px; flex-wrap: wrap;'><span style=\"background-color: rgba(9, 221, 55,  0.5); margin: 7px; padding: 1px 5px; border: solid 3px ; border-color: rgba(9, 221, 55,  1); #EFEFEF\">concept_3 </span> <span style=\"background-color: rgba(9, 175, 221,  0.5); margin: 7px; padding: 1px 5px; border: solid 3px ; border-color: rgba(9, 175, 221,  1); #EFEFEF\">concept_6 </span> </div>"
      ],
      "text/plain": [
       "<IPython.core.display.HTML object>"
      ]
     },
     "metadata": {},
     "output_type": "display_data"
    },
    {
     "data": {
      "text/html": [
       "<div style='display: flex; width: 800px; flex-wrap: wrap;'><span style=\"display: inline; background-color: rgba(9, 221, 55,  0.7243760228157043); padding: 1px 5px; border: solid 3px ; border-color: rgba(9, 221, 55,  1); #EFEFEF\">The Effect of Cell Dose on the Early Magnetic Resonance Morphological Outcomes of Autologous Cell Implantation for Articular Cartilage Defects in the Knee: A Randomized Clinical Trial.</span><span style=\"display: inline; background-color: rgba(0, 0, 0, 0.0); padding: 1px 5px; border: solid 3px ; border-color: rgba(0, 0, 0, 0.0); #EFEFEF\">Although autologous chondrocyte implantation (ACI) has been established as a standard treatment for large full-thickness cartilage defects, the effect of different doses of autologous chondrocyte products on structural outcomes has never been examined.In ACI, the dose level may have an influence on medium-term magnetic resonance morphological findings after treatment.Randomized controlled trial; Level of evidence, 1.A total of 75 patients who underwent ACI using a pure, autologous, third-generation matrix-associated ACI product were divided into 3 groups representing different doses: 3 to 7 spheroids/cm(2), 10 to 30 spheroids/cm(2), and 40 to 70 spheroids/cm(2).</span><span style=\"display: inline; background-color: rgba(9, 175, 221,  0.3443029820919037); padding: 1px 5px; border: solid 3px ; border-color: rgba(9, 175, 221,  1); #EFEFEF\">Magnetic resonance imaging was performed at 1.5, 3, 6, and 12 months after ACI and was evaluated by the magnetic resonance observation of cartilage repair tissue (MOCART) score and the Knee injury and Osteoarthritis Outcome Score (KOOS).MOCART scores showed improvements after 3 months, with slight dose dependence, and further improvement after 12 months, although without significant dose dependence.</span><span style=\"display: inline; background-color: rgba(9, 175, 221,  0.5326656103134155); padding: 1px 5px; border: solid 3px ; border-color: rgba(9, 175, 221,  1); #EFEFEF\">The mean MOCART scores after 3 months (0 = worst, 100 = best) were 59.8, 64.5, and 64.7 for the low-, medium-, and high-dose groups, respectively, and 62.9 for all patients; at 12 months, these were 74.1, 74.5, and 68.8 for the respective dose groups and 72.4 for all patients.</span><span style=\"display: inline; background-color: rgba(9, 175, 221,  0.4108982980251312); padding: 1px 5px; border: solid 3px ; border-color: rgba(9, 175, 221,  1); #EFEFEF\">Several MOCART items (surface of repair tissue, structure of repair tissue, signal intensity of repair tissue, subchondral bone, and synovitis) showed a more rapid response with the medium and high doses than with the low dose, suggesting a potential dose relationship.</span><span style=\"display: inline; background-color: rgba(9, 175, 221,  0.2584626078605652); padding: 1px 5px; border: solid 3px ; border-color: rgba(9, 175, 221,  1); #EFEFEF\">No significant correlation between the MOCART (overall and subscores) with clinical outcomes as assessed by the overall KOOS was detected at 3- and 12-month assessments.This study reveals a trend toward earlier recovery after treatment with higher spheroid doses in terms of better defect filling for full-thickness cartilage defects of the knee, while outcomes after 12 months were similar in all dose groups.</span><span style=\"display: inline; background-color: rgba(0, 0, 0, 0.0); padding: 1px 5px; border: solid 3px ; border-color: rgba(0, 0, 0, 0.0); #EFEFEF\">However, a correlation with clinical outcomes or the failure rate at 1 year after ACI was not found.</span><span style=\"display: inline; background-color: rgba(0, 0, 0, 0.0); padding: 1px 5px; border: solid 3px ; border-color: rgba(0, 0, 0, 0.0); #EFEFEF\">A longer follow-up will be required for more definite conclusions on the clinical relevance of ACI cell density to be drawn.NCT01225575 (ClinicalTrials.gov identifier); 2009-016816-20 (EudraCT number).</span> </div>"
      ],
      "text/plain": [
       "<IPython.core.display.HTML object>"
      ]
     },
     "metadata": {},
     "output_type": "display_data"
    },
    {
     "name": "stdout",
     "output_type": "stream",
     "text": [
      "record_id = 15\n"
     ]
    },
    {
     "data": {
      "text/html": [
       "<div style='display: flex; width: 400px; flex-wrap: wrap;'><span style=\"background-color: rgba(9, 221, 55,  0.5); margin: 7px; padding: 1px 5px; border: solid 3px ; border-color: rgba(9, 221, 55,  1); #EFEFEF\">concept_3 </span> <span style=\"background-color: rgba(9, 175, 221,  0.5); margin: 7px; padding: 1px 5px; border: solid 3px ; border-color: rgba(9, 175, 221,  1); #EFEFEF\">concept_6 </span> </div>"
      ],
      "text/plain": [
       "<IPython.core.display.HTML object>"
      ]
     },
     "metadata": {},
     "output_type": "display_data"
    },
    {
     "data": {
      "text/html": [
       "<div style='display: flex; width: 800px; flex-wrap: wrap;'><span style=\"display: inline; background-color: rgba(9, 175, 221,  0.9931850433349609); padding: 1px 5px; border: solid 3px ; border-color: rgba(9, 175, 221,  1); #EFEFEF\">A Prospective, Randomized Clinical Study of Osteochondral Autologous Transplantation Versus Microfracture for the Treatment of Osteochondritis Dissecans in the Knee Joint in Children The aim of this study was to compare the outcomes of the arthroscopic mosaic-type osteochondral autologous transplantation (OAT) and microfracture (MF) procedures for the treatment of osteochondritis dissecans (OCD) defects of the femoral condyles of the knee joint in children under the age of 18 years.Prospective, randomized clinical study.Between 2001 and 2005, a total of 50 children with a mean age of 14.3 years (12 to 18) and with symptomatic lesions of the OCD in the femoral condyle of the knee were randomized to undergo either the OAT or the MF procedure.</span><span style=\"display: inline; background-color: rgba(0, 0, 0, 0.0); padding: 1px 5px; border: solid 3px ; border-color: rgba(0, 0, 0, 0.0); #EFEFEF\">Only those children with grade 3 or 4 (OCD) in the medial or lateral femoral condyle (according to International Cartilage Repair Society, ICRS) were included in the study.</span><span style=\"display: inline; background-color: rgba(0, 0, 0, 0.0); padding: 1px 5px; border: solid 3px ; border-color: rgba(0, 0, 0, 0.0); #EFEFEF\">Forty-seven patients (94%) were available for follow-up.</span><span style=\"display: inline; background-color: rgba(0, 0, 0, 0.0); padding: 1px 5px; border: solid 3px ; border-color: rgba(0, 0, 0, 0.0); #EFEFEF\">There were 25 patients in the OAT group and 22 patients in the MF group.</span><span style=\"display: inline; background-color: rgba(0, 0, 0, 0.0); padding: 1px 5px; border: solid 3px ; border-color: rgba(0, 0, 0, 0.0); #EFEFEF\">The mean duration of symptoms was 23.54+/-4.24 months and the mean follow-up was 4.2 years (range from 3 to 6 y), and none of the children had prior surgical interventions to the affected knee.</span><span style=\"display: inline; background-color: rgba(0, 0, 0, 0.0); padding: 1px 5px; border: solid 3px ; border-color: rgba(0, 0, 0, 0.0); #EFEFEF\">Children were evaluated using ICRS score, x-rays, magnetic resonance imaging, and second-look arthroscopies.After 1 year, both groups had significant clinical improvement (P<0.05) and the ICRS functional and objective assessment showed that 23 of 25 (92%) patients had excellent or good results after OAT compared with 19 of 22 (86%) after MF (NS), but 19 of 23 (83%) after OAT and only 12 of 19 (63%) after MF procedure maintained excellent or good results after 4.2 years (range from 3 to 6 y).</span><span style=\"display: inline; background-color: rgba(0, 0, 0, 0.0); padding: 1px 5px; border: solid 3px ; border-color: rgba(0, 0, 0, 0.0); #EFEFEF\">The MF group showed significant deterioration over the 4.2 years follow-up (P<0.05), but still had significant clinical improvement compared with pretreatment evaluation (P=0.004).</span><span style=\"display: inline; background-color: rgba(0, 0, 0, 0.0); padding: 1px 5px; border: solid 3px ; border-color: rgba(0, 0, 0, 0.0); #EFEFEF\">There were 9 of 22 (41%) failures in the MF group, and none in the OAT group.</span><span style=\"display: inline; background-color: rgba(0, 0, 0, 0.0); padding: 1px 5px; border: solid 3px ; border-color: rgba(0, 0, 0, 0.0); #EFEFEF\">Magnetic resonance imaging evaluation according to the ICRS evaluation system showed excellent or good repairs in 19 of 21 patients (91%) after OAT compared with 10 of 18 (56%) after MF.At an average of 4.2 years follow-up, our prospective, randomized, clinical study in children under the age of 18 years has shown significant superiority of the mosaic-type OAT over MF for the treatment of osteochondritis dissecans defects in the knee.</span><span style=\"display: inline; background-color: rgba(0, 0, 0, 0.0); padding: 1px 5px; border: solid 3px ; border-color: rgba(0, 0, 0, 0.0); #EFEFEF\">However, our study has shown that both MF and OAT give encouraging clinical results for children under the age of 18 years.Level 1: randomized controlled trial, significant difference.</span> </div>"
      ],
      "text/plain": [
       "<IPython.core.display.HTML object>"
      ]
     },
     "metadata": {},
     "output_type": "display_data"
    },
    {
     "name": "stdout",
     "output_type": "stream",
     "text": [
      "record_id = 16\n"
     ]
    },
    {
     "data": {
      "text/html": [
       "<div style='display: flex; width: 400px; flex-wrap: wrap;'><span style=\"background-color: rgba(9, 221, 55,  0.5); margin: 7px; padding: 1px 5px; border: solid 3px ; border-color: rgba(9, 221, 55,  1); #EFEFEF\">concept_3 </span> <span style=\"background-color: rgba(9, 175, 221,  0.5); margin: 7px; padding: 1px 5px; border: solid 3px ; border-color: rgba(9, 175, 221,  1); #EFEFEF\">concept_6 </span> </div>"
      ],
      "text/plain": [
       "<IPython.core.display.HTML object>"
      ]
     },
     "metadata": {},
     "output_type": "display_data"
    },
    {
     "data": {
      "text/html": [
       "<div style='display: flex; width: 800px; flex-wrap: wrap;'><span style=\"display: inline; background-color: rgba(9, 221, 55,  0.9917342066764832); padding: 1px 5px; border: solid 3px ; border-color: rgba(9, 221, 55,  1); #EFEFEF\">Bone Marrow Concentrate Improves Early Cartilage Phase Maturation of a Scaffold Plug in the Knee Background: Limited information exists on the clinical use of a synthetic osteochondral scaffold plug for cartilage restoration in the knee.</span><span style=\"display: inline; background-color: rgba(9, 221, 55,  0.7297969460487366); padding: 1px 5px; border: solid 3px ; border-color: rgba(9, 221, 55,  1); #EFEFEF\">Purpose/Hypothesis: The purpose of this study was to compare the early magnetic resonance imaging (MRI) appearance, including quantitative T2 values, between cartilage defects treated with a scaffold versus a scaffold with platelet-rich plasma (PRP) or bone marrow aspirate concentrate (BMAC).</span><span style=\"display: inline; background-color: rgba(0, 0, 0, 0.0); padding: 1px 5px; border: solid 3px ; border-color: rgba(0, 0, 0, 0.0); #EFEFEF\">The hypothesis was that the addition of PRP or BMAC would result in an improved cartilage appearance.</span><span style=\"display: inline; background-color: rgba(0, 0, 0, 0.0); padding: 1px 5px; border: solid 3px ; border-color: rgba(0, 0, 0, 0.0); #EFEFEF\">Study Design: Cohort study; Level of evidence, 3.</span><span style=\"display: inline; background-color: rgba(0, 0, 0, 0.0); padding: 1px 5px; border: solid 3px ; border-color: rgba(0, 0, 0, 0.0); #EFEFEF\">Methods: Forty-six patients with full-thickness cartilage defects of the femur were surgically treated with a control scaffold (n = 11), scaffold with PRP (n = 23), or scaffold with BMAC (n = 12) and were followed prospectively.</span><span style=\"display: inline; background-color: rgba(0, 0, 0, 0.0); padding: 1px 5px; border: solid 3px ; border-color: rgba(0, 0, 0, 0.0); #EFEFEF\">Patients underwent MRI with a qualitative assessment and quantitative T2 mapping at 12 months after surgery.</span><span style=\"display: inline; background-color: rgba(0, 0, 0, 0.0); padding: 1px 5px; border: solid 3px ; border-color: rgba(0, 0, 0, 0.0); #EFEFEF\">An image assessment was performed retrospectively by a blinded musculoskeletal radiologist.</span><span style=\"display: inline; background-color: rgba(0, 0, 0, 0.0); padding: 1px 5px; border: solid 3px ; border-color: rgba(0, 0, 0, 0.0); #EFEFEF\">The cartilage phase was measured by cartilage fill and quantitative T2 values on MRI.</span><span style=\"display: inline; background-color: rgba(0, 0, 0, 0.0); padding: 1px 5px; border: solid 3px ; border-color: rgba(0, 0, 0, 0.0); #EFEFEF\">A comparison between groups after cartilage repair was performed.</span><span style=\"display: inline; background-color: rgba(0, 0, 0, 0.0); padding: 1px 5px; border: solid 3px ; border-color: rgba(0, 0, 0, 0.0); #EFEFEF\">Results: The control scaffold group consisted of 8 male and 3 female patients (mean age, 38 years; mean body mass index [BMI], 25 kg/m 2 ), the PRP group had 15 male and 8 female patients (mean age, 39 years; mean BMI, 26 kg/m 2 ), and the BMAC group consisted of 8 male and 4 female patients (mean age, 36 years; mean BMI, 26 kg/m 2 ).</span><span style=\"display: inline; background-color: rgba(0, 0, 0, 0.0); padding: 1px 5px; border: solid 3px ; border-color: rgba(0, 0, 0, 0.0); #EFEFEF\">The PRP-treated ( P = .002) and BMAC-treated ( P = .03) scaffolds had superior cartilage fill compared with the control group.</span><span style=\"display: inline; background-color: rgba(0, 0, 0, 0.0); padding: 1px 5px; border: solid 3px ; border-color: rgba(0, 0, 0, 0.0); #EFEFEF\">With quantitative methods, the PRP group demonstrated a mean T2 value (49.1 ms) that was similar to that of the control scaffold group (42.7 ms; P = .07), but the BMAC group demonstrated a mean T2 value (60.5 ms) closer to that of superficial hyaline cartilage ( P = .01).</span><span style=\"display: inline; background-color: rgba(0, 0, 0, 0.0); padding: 1px 5px; border: solid 3px ; border-color: rgba(0, 0, 0, 0.0); #EFEFEF\">The stratification of T2 values between the deep and superficial zones was not observed in any of the groups.</span><span style=\"display: inline; background-color: rgba(0, 0, 0, 0.0); padding: 1px 5px; border: solid 3px ; border-color: rgba(0, 0, 0, 0.0); #EFEFEF\">Conclusion: In this comparative study, patients treated with scaffold implantation augmented with BMAC had improved cartilage maturation with greater fill and mean T2 values closer to that of superficial native hyaline cartilage at 12 months.</span><span style=\"display: inline; background-color: rgba(0, 0, 0, 0.0); padding: 1px 5px; border: solid 3px ; border-color: rgba(0, 0, 0, 0.0); #EFEFEF\">Further work will determine if this translates into improved clinical outcomes.</span> </div>"
      ],
      "text/plain": [
       "<IPython.core.display.HTML object>"
      ]
     },
     "metadata": {},
     "output_type": "display_data"
    },
    {
     "name": "stdout",
     "output_type": "stream",
     "text": [
      "record_id = 17\n"
     ]
    },
    {
     "data": {
      "text/html": [
       "<div style='display: flex; width: 400px; flex-wrap: wrap;'><span style=\"background-color: rgba(9, 221, 55,  0.5); margin: 7px; padding: 1px 5px; border: solid 3px ; border-color: rgba(9, 221, 55,  1); #EFEFEF\">concept_3 </span> <span style=\"background-color: rgba(9, 175, 221,  0.5); margin: 7px; padding: 1px 5px; border: solid 3px ; border-color: rgba(9, 175, 221,  1); #EFEFEF\">concept_6 </span> </div>"
      ],
      "text/plain": [
       "<IPython.core.display.HTML object>"
      ]
     },
     "metadata": {},
     "output_type": "display_data"
    },
    {
     "data": {
      "text/html": [
       "<div style='display: flex; width: 800px; flex-wrap: wrap;'><span style=\"display: inline; background-color: rgba(9, 221, 55,  0.7255849838256836); padding: 1px 5px; border: solid 3px ; border-color: rgba(9, 221, 55,  1); #EFEFEF\">Clinical and MRI outcomes of HA injection following arthroscopic microfracture for osteochondral lesions of the talus PURPOSE: The purpose of this study was to compare the clinical and magnetic resonance imaging (MRI) outcomes of arthroscopic microfracture surgery alone or in combination with hyaluronic acid (HA) injection in the treatment of osteochondral lesions of the talus.</span><span style=\"display: inline; background-color: rgba(0, 0, 0, 0.0); padding: 1px 5px; border: solid 3px ; border-color: rgba(0, 0, 0, 0.0); #EFEFEF\">METHODS: Thirty-five patients with osteochondral lesions of the talus who underwent arthroscopic microfracture were included and followed up for at least 9 months post-operatively.</span><span style=\"display: inline; background-color: rgba(9, 221, 55,  0.627138078212738); padding: 1px 5px; border: solid 3px ; border-color: rgba(9, 221, 55,  1); #EFEFEF\">The patients were randomly divided into non-injection group (n = 17) who received treatment with microfracture surgery alone and injection group (n = 18) who also accepted intra-articular injection of HA post-operatively.</span><span style=\"display: inline; background-color: rgba(0, 0, 0, 0.0); padding: 1px 5px; border: solid 3px ; border-color: rgba(0, 0, 0, 0.0); #EFEFEF\">Quantitative MRI was used to evaluate the cartilage repair after surgery.</span><span style=\"display: inline; background-color: rgba(9, 221, 55,  0.3482705354690552); padding: 1px 5px; border: solid 3px ; border-color: rgba(9, 221, 55,  1); #EFEFEF\">American Orthopaedic Foot and Ankle Society (AOFAS) Ankle-Hind foot Scale scores and Visual Analogue Scale (VAS) scores were used to evaluate clinical outcomes.</span><span style=\"display: inline; background-color: rgba(9, 221, 55,  0.5891451835632324); padding: 1px 5px; border: solid 3px ; border-color: rgba(9, 221, 55,  1); #EFEFEF\">RESULTS: After operation, the MRI outcomes showed that the thickness index was higher (0.8 ± 0.1 vs. 0.7 ± 0.1) and the T2 index was lower (1.2 ± 0.1 vs. 1.4 ± 0.1) in the injection group than in the non-injection group (P \\textbackslashtextless 0.01).</span><span style=\"display: inline; background-color: rgba(9, 221, 55,  0.9812151193618774); padding: 1px 5px; border: solid 3px ; border-color: rgba(9, 221, 55,  1); #EFEFEF\">As for the volumes of subchondral bone marrow oedema, there are no significant differences between groups (n.s.).</span><span style=\"display: inline; background-color: rgba(9, 175, 221,  0.306156724691391); padding: 1px 5px; border: solid 3px ; border-color: rgba(9, 175, 221,  1); #EFEFEF\">Compared with the non-injection group, the AOFAS score and the VAS score yielded a higher level of improvement in injection group at final follow-up post-operatively (P \\textbackslashtextless 0.05).</span><span style=\"display: inline; background-color: rgba(0, 0, 0, 0.0); padding: 1px 5px; border: solid 3px ; border-color: rgba(0, 0, 0, 0.0); #EFEFEF\">CONCLUSIONS: Arthroscopic microfracture is a safe and effective procedure for osteochondral lesions of the talus.</span><span style=\"display: inline; background-color: rgba(0, 0, 0, 0.0); padding: 1px 5px; border: solid 3px ; border-color: rgba(0, 0, 0, 0.0); #EFEFEF\">Intra-articular HA injection as an adjunct to arthroscopic microfracture might offer better functional recovery than microfracture alone.</span><span style=\"display: inline; background-color: rgba(0, 0, 0, 0.0); padding: 1px 5px; border: solid 3px ; border-color: rgba(0, 0, 0, 0.0); #EFEFEF\">LEVEL OF EVIDENCE: II.</span> </div>"
      ],
      "text/plain": [
       "<IPython.core.display.HTML object>"
      ]
     },
     "metadata": {},
     "output_type": "display_data"
    },
    {
     "name": "stdout",
     "output_type": "stream",
     "text": [
      "record_id = 18\n"
     ]
    },
    {
     "data": {
      "text/html": [
       "<div style='display: flex; width: 400px; flex-wrap: wrap;'><span style=\"background-color: rgba(9, 221, 55,  0.5); margin: 7px; padding: 1px 5px; border: solid 3px ; border-color: rgba(9, 221, 55,  1); #EFEFEF\">concept_3 </span> <span style=\"background-color: rgba(9, 175, 221,  0.5); margin: 7px; padding: 1px 5px; border: solid 3px ; border-color: rgba(9, 175, 221,  1); #EFEFEF\">concept_6 </span> </div>"
      ],
      "text/plain": [
       "<IPython.core.display.HTML object>"
      ]
     },
     "metadata": {},
     "output_type": "display_data"
    },
    {
     "data": {
      "text/html": [
       "<div style='display: flex; width: 800px; flex-wrap: wrap;'><span style=\"display: inline; background-color: rgba(0, 0, 0, 0.0); padding: 1px 5px; border: solid 3px ; border-color: rgba(0, 0, 0, 0.0); #EFEFEF\">Articular Cartilage Degeneration Following the Treatment of Focal Cartilage Defects with Ceramic Metal Implants and Compared with Microfracture Localized cartilage defects are frequently associated with joint pain, reduced function, and a predisposition to the development of osteoarthritis.</span><span style=\"display: inline; background-color: rgba(0, 0, 0, 0.0); padding: 1px 5px; border: solid 3px ; border-color: rgba(0, 0, 0, 0.0); #EFEFEF\">The purposes of the current study were to investigate the feasibility of the application of defect-sized femoral implants for the treatment of localized cartilage defects and to compare this treatment, in terms of joint degeneration, with the use of microfracture in a goat model of established cartilage defects.In nine Dutch milk goats, a defect in the medial femoral condyle was created in both knees.</span><span style=\"display: inline; background-color: rgba(9, 221, 55,  0.26269569993019104); padding: 1px 5px; border: solid 3px ; border-color: rgba(9, 221, 55,  1); #EFEFEF\">After ten weeks, the knees were randomly treated by microfracture or by placement of an oxidized zirconium implant.</span><span style=\"display: inline; background-color: rgba(0, 0, 0, 0.0); padding: 1px 5px; border: solid 3px ; border-color: rgba(0, 0, 0, 0.0); #EFEFEF\">At twenty-six weeks after surgery, the animals were killed.</span><span style=\"display: inline; background-color: rgba(9, 221, 55,  0.23061196506023407); padding: 1px 5px; border: solid 3px ; border-color: rgba(9, 221, 55,  1); #EFEFEF\">The joints were evaluated macroscopically.</span><span style=\"display: inline; background-color: rgba(9, 221, 55,  0.23038072884082794); padding: 1px 5px; border: solid 3px ; border-color: rgba(9, 221, 55,  1); #EFEFEF\">Implant osseointegration was measured by automated histomorphometry, and cartilage repair (after microfracture) was scored histologically.</span><span style=\"display: inline; background-color: rgba(0, 0, 0, 0.0); padding: 1px 5px; border: solid 3px ; border-color: rgba(0, 0, 0, 0.0); #EFEFEF\">Cartilage quality was analyzed macroscopically and histologically.</span><span style=\"display: inline; background-color: rgba(9, 221, 55,  0.26098737120628357); padding: 1px 5px; border: solid 3px ; border-color: rgba(9, 221, 55,  1); #EFEFEF\">Glycosaminoglycan content and release were measured by alcian blue assay, and the synthesis and release of newly formed glycosaminoglycans were measured by liquid scintillation analysis of the incorporation of 35SO4(2-) in tissue and medium.The mean bone-implant contact (and standard error) was appropriate (14.6%+/-5.4%), and the amount of bone surrounding the implant was extensive (mean, 40.3%+/-4.0%).</span><span style=\"display: inline; background-color: rgba(9, 221, 55,  0.22595973312854767); padding: 1px 5px; border: solid 3px ; border-color: rgba(9, 221, 55,  1); #EFEFEF\">The healing of the microfracture-treated defects was extensive, although not complete (mean, 18.38+/-0.43 points of a maximum possible score of 24 points).</span><span style=\"display: inline; background-color: rgba(9, 221, 55,  0.2110992819070816); padding: 1px 5px; border: solid 3px ; border-color: rgba(9, 221, 55,  1); #EFEFEF\">The macroscopic cartilage evaluation did not show any significant differences between the treatments.</span><span style=\"display: inline; background-color: rgba(9, 221, 55,  0.39220672845840454); padding: 1px 5px; border: solid 3px ; border-color: rgba(9, 221, 55,  1); #EFEFEF\">On histologic evaluation, the cartilage of the medial tibial plateau articulating directly against the treated defects demonstrated significantly more degeneration in the microfracture-treated knees than in the implant-treated knees (p<0.05).</span><span style=\"display: inline; background-color: rgba(9, 221, 55,  0.2473166435956955); padding: 1px 5px; border: solid 3px ; border-color: rgba(9, 221, 55,  1); #EFEFEF\">This was in accordance with a significantly higher glycosaminoglycan content, higher synthetic activity, and decreased glycosaminoglycan release of the medial tibial plateau cartilage of the implant-treated knees (p<0.05 for all).</span><span style=\"display: inline; background-color: rgba(0, 0, 0, 0.0); padding: 1px 5px; border: solid 3px ; border-color: rgba(0, 0, 0, 0.0); #EFEFEF\">On histological analysis, degeneration was also found in the cartilage of the lateral tibial plateau and condyle, but no significant difference was found between the treatments.Both microfracture and the use of implants as a treatment for established localized cartilage defects in the medial femoral condyle caused considerable (p < 0.05) degeneration of the directly articulating cartilage as well as in more remote sites in the knee.</span><span style=\"display: inline; background-color: rgba(0, 0, 0, 0.0); padding: 1px 5px; border: solid 3px ; border-color: rgba(0, 0, 0, 0.0); #EFEFEF\">However, in the medial tibial plateau, the metal implants caused less damage than the microfracture technique.</span> </div>"
      ],
      "text/plain": [
       "<IPython.core.display.HTML object>"
      ]
     },
     "metadata": {},
     "output_type": "display_data"
    },
    {
     "name": "stdout",
     "output_type": "stream",
     "text": [
      "record_id = 19\n"
     ]
    },
    {
     "data": {
      "text/html": [
       "<div style='display: flex; width: 400px; flex-wrap: wrap;'><span style=\"background-color: rgba(9, 221, 55,  0.5); margin: 7px; padding: 1px 5px; border: solid 3px ; border-color: rgba(9, 221, 55,  1); #EFEFEF\">concept_3 </span> <span style=\"background-color: rgba(9, 175, 221,  0.5); margin: 7px; padding: 1px 5px; border: solid 3px ; border-color: rgba(9, 175, 221,  1); #EFEFEF\">concept_6 </span> </div>"
      ],
      "text/plain": [
       "<IPython.core.display.HTML object>"
      ]
     },
     "metadata": {},
     "output_type": "display_data"
    },
    {
     "data": {
      "text/html": [
       "<div style='display: flex; width: 800px; flex-wrap: wrap;'><span style=\"display: inline; background-color: rgba(9, 221, 55,  0.9972031712532043); padding: 1px 5px; border: solid 3px ; border-color: rgba(9, 221, 55,  1); #EFEFEF\">Allogenic umbilical cord blood-derived mesenchymal stromal cell implantation was superior to bone marrow aspirate concentrate augmentation for cartilage regeneration despite similar clinical outcomes Purpose The aim of this study was to compare clinical and second-look arthroscopic outcomes between bone marrow aspirate concentrate (BMAC) augmentation and human umbilical cord blood-derived mesenchymal stromal cell (hUCB-MSC) implantation in high tibial osteotomy (HTO) for medial compartmental knee osteoarthritis and identify the relationship between articular cartilage regeneration and HTO outcomes.</span><span style=\"display: inline; background-color: rgba(0, 0, 0, 0.0); padding: 1px 5px; border: solid 3px ; border-color: rgba(0, 0, 0, 0.0); #EFEFEF\">Methods A total of 176 patients who underwent HTO combined with a BMAC or hUCB-MSC procedure for medial compartment osteoarthritis (Kellgren-Lawrence grade 3) between June 2014 and September 2018 with a minimum follow-up of 2 years were reviewed.</span><span style=\"display: inline; background-color: rgba(0, 0, 0, 0.0); padding: 1px 5px; border: solid 3px ; border-color: rgba(0, 0, 0, 0.0); #EFEFEF\">After HTO, multiple holes were drilled at cartilage defect sites of the medial femoral condyle (MFC), and then prepared BMAC or hUCB-MSCs in combination with scaffolds were implanted in the MFC lesions.</span><span style=\"display: inline; background-color: rgba(0, 0, 0, 0.0); padding: 1px 5px; border: solid 3px ; border-color: rgba(0, 0, 0, 0.0); #EFEFEF\">After propensity score matching based on sex, age, body mass index, and lesion size, 55 patients in each of the BMAC and hUCB-MSC groups were successfully matched.</span><span style=\"display: inline; background-color: rgba(0, 0, 0, 0.0); padding: 1px 5px; border: solid 3px ; border-color: rgba(0, 0, 0, 0.0); #EFEFEF\">Second-look arthroscopic findings were assessed according to the International Cartilage Repair Society (ICRS) Cartilage Repair Assessment (CRA) grading system and Koshino staging system.</span><span style=\"display: inline; background-color: rgba(0, 0, 0, 0.0); padding: 1px 5px; border: solid 3px ; border-color: rgba(0, 0, 0, 0.0); #EFEFEF\">Clinical outcomes were evaluated using the International Knee Documentation Committee (IKDC), Knee Injury and Osteoarthritis Outcome Score (KOOS), Short-Form 36 (SF-36), and Tegner activity scores.</span><span style=\"display: inline; background-color: rgba(0, 0, 0, 0.0); padding: 1px 5px; border: solid 3px ; border-color: rgba(0, 0, 0, 0.0); #EFEFEF\">Results At a mean follow-up of 33 months, clinical outcomes including IKDC, KOOS, SF-36, and Tegner activity scores were significantly improved in both groups (p \\textbackslashtextless 0.001); however, there were no differences between the two groups.</span><span style=\"display: inline; background-color: rgba(0, 0, 0, 0.0); padding: 1px 5px; border: solid 3px ; border-color: rgba(0, 0, 0, 0.0); #EFEFEF\">Second-look arthroscopy showed better healing of regenerated cartilage in the hUCB-MSC group (Grade I [4 cases, 9.1%]; Grade II [30 cases, 68.2%]; Grade III [11 cases, 22.7%]) than in the BMAC group (Grade I [1 case, 2.7%]; Grade II [20 cases, 54.1%]; Grade III [11 cases, 29.7%]; Grade IV [5 cases, 13.5%]) according to the ICRS CRA grading system (p = 0.040).</span><span style=\"display: inline; background-color: rgba(0, 0, 0, 0.0); padding: 1px 5px; border: solid 3px ; border-color: rgba(0, 0, 0, 0.0); #EFEFEF\">There was no significant intergroup difference in terms of defect coverage based on the Koshino staging system (p = 0.057).</span><span style=\"display: inline; background-color: rgba(0, 0, 0, 0.0); padding: 1px 5px; border: solid 3px ; border-color: rgba(0, 0, 0, 0.0); #EFEFEF\">Moreover, ICRS CRA grades at second-look arthroscopy were significantly correlated with clinical outcomes (r = - 0.337; p = 0.002).</span><span style=\"display: inline; background-color: rgba(0, 0, 0, 0.0); padding: 1px 5px; border: solid 3px ; border-color: rgba(0, 0, 0, 0.0); #EFEFEF\">Conclusion There were no significant differences in the clinical outcomes between the two groups.</span><span style=\"display: inline; background-color: rgba(0, 0, 0, 0.0); padding: 1px 5px; border: solid 3px ; border-color: rgba(0, 0, 0, 0.0); #EFEFEF\">Both treatments provided similar, reliable outcomes in terms of pain relief, functional scores, and quality of life at a mean follow-up of 33 months.</span><span style=\"display: inline; background-color: rgba(0, 0, 0, 0.0); padding: 1px 5px; border: solid 3px ; border-color: rgba(0, 0, 0, 0.0); #EFEFEF\">However, hUCB-MSC implantation was more effective than BMAC augmentation for articular cartilage regeneration.</span> </div>"
      ],
      "text/plain": [
       "<IPython.core.display.HTML object>"
      ]
     },
     "metadata": {},
     "output_type": "display_data"
    },
    {
     "name": "stdout",
     "output_type": "stream",
     "text": [
      "record_id = 20\n"
     ]
    },
    {
     "data": {
      "text/html": [
       "<div style='display: flex; width: 400px; flex-wrap: wrap;'><span style=\"background-color: rgba(9, 221, 55,  0.5); margin: 7px; padding: 1px 5px; border: solid 3px ; border-color: rgba(9, 221, 55,  1); #EFEFEF\">concept_3 </span> <span style=\"background-color: rgba(9, 175, 221,  0.5); margin: 7px; padding: 1px 5px; border: solid 3px ; border-color: rgba(9, 175, 221,  1); #EFEFEF\">concept_6 </span> </div>"
      ],
      "text/plain": [
       "<IPython.core.display.HTML object>"
      ]
     },
     "metadata": {},
     "output_type": "display_data"
    },
    {
     "data": {
      "text/html": [
       "<div style='display: flex; width: 800px; flex-wrap: wrap;'><span style=\"display: inline; background-color: rgba(9, 221, 55,  0.9945871233940125); padding: 1px 5px; border: solid 3px ; border-color: rgba(9, 221, 55,  1); #EFEFEF\">Human adipose-derived mesenchymal progenitor cells plus microfracture and hyaluronic acid for cartilage repair: a Phase IIa trial Aim: This study aimed to preliminarily evaluate the safety and efficacy of human adipose-derived mesenchymal progenitor cells (haMPCs) in combination with microfracture and hyaluronic acid (HA) for treating cartilage defects.</span><span style=\"display: inline; background-color: rgba(0, 0, 0, 0.0); padding: 1px 5px; border: solid 3px ; border-color: rgba(0, 0, 0, 0.0); #EFEFEF\">Materials &amp; methods: A total of 30 patients with medial femoro-tibial condylar cartilage defects were randomized into three groups: arthroscopic microfracture group and normal saline injection, arthroscopic microfracture and intra-articular injection of HA, or arthroscopic microfracture in combination with intra-articular injection of HA and haMPCs.</span><span style=\"display: inline; background-color: rgba(9, 221, 55,  0.26906877756118774); padding: 1px 5px; border: solid 3px ; border-color: rgba(9, 221, 55,  1); #EFEFEF\">Results &amp; conclusions: The data demonstrated that intra-articular injection of haMPCs plus microfracture and HA is a safe procedure to improve joint function in patients with knee cartilage defects.</span><span style=\"display: inline; background-color: rgba(0, 0, 0, 0.0); padding: 1px 5px; border: solid 3px ; border-color: rgba(0, 0, 0, 0.0); #EFEFEF\">These findings provide an impetus for future research on this treatment.</span><span style=\"display: inline; background-color: rgba(0, 0, 0, 0.0); padding: 1px 5px; border: solid 3px ; border-color: rgba(0, 0, 0, 0.0); #EFEFEF\">ClinicalTrials.gov Identifier: NCT02855073</span> </div>"
      ],
      "text/plain": [
       "<IPython.core.display.HTML object>"
      ]
     },
     "metadata": {},
     "output_type": "display_data"
    },
    {
     "name": "stdout",
     "output_type": "stream",
     "text": [
      "record_id = 21\n"
     ]
    },
    {
     "data": {
      "text/html": [
       "<div style='display: flex; width: 400px; flex-wrap: wrap;'><span style=\"background-color: rgba(9, 221, 55,  0.5); margin: 7px; padding: 1px 5px; border: solid 3px ; border-color: rgba(9, 221, 55,  1); #EFEFEF\">concept_3 </span> <span style=\"background-color: rgba(9, 175, 221,  0.5); margin: 7px; padding: 1px 5px; border: solid 3px ; border-color: rgba(9, 175, 221,  1); #EFEFEF\">concept_6 </span> </div>"
      ],
      "text/plain": [
       "<IPython.core.display.HTML object>"
      ]
     },
     "metadata": {},
     "output_type": "display_data"
    },
    {
     "data": {
      "text/html": [
       "<div style='display: flex; width: 800px; flex-wrap: wrap;'><span style=\"display: inline; background-color: rgba(0, 0, 0, 0.0); padding: 1px 5px; border: solid 3px ; border-color: rgba(0, 0, 0, 0.0); #EFEFEF\">Results of Hyaluronic Acid–Based Cell-Free Scaffold Application in Combination With Microfracture for the Treatment of Osteochondral Lesions of the Knee: 2-Year Comparative Study To determine the clinical and radiographic efficacy of hyaluronic acid-based cell-free scaffold applied in combination with microfracture versus microfracture alone in patients with focal osteochondral lesion of the knee joint.Clinical data of 43 patients between 24 and 55 years of age were evaluated.</span><span style=\"display: inline; background-color: rgba(0, 0, 0, 0.0); padding: 1px 5px; border: solid 3px ; border-color: rgba(0, 0, 0, 0.0); #EFEFEF\">Hyaluronic acid-based cell-free scaffold was applied in combination with microfracture for 19 knees (group 1), whereas microfracture alone was the surgical intervention for 24 knees (group 2).</span><span style=\"display: inline; background-color: rgba(0, 0, 0, 0.0); padding: 1px 5px; border: solid 3px ; border-color: rgba(0, 0, 0, 0.0); #EFEFEF\">All lesions were Outerbridge grade III or IV with a mean size of 3.6 ± 1.3 cm2.</span><span style=\"display: inline; background-color: rgba(0, 0, 0, 0.0); padding: 1px 5px; border: solid 3px ; border-color: rgba(0, 0, 0, 0.0); #EFEFEF\">The mean follow-up time was 25.7 months.</span><span style=\"display: inline; background-color: rgba(9, 175, 221,  0.23127418756484985); padding: 1px 5px; border: solid 3px ; border-color: rgba(9, 175, 221,  1); #EFEFEF\">Visual analog scale (VAS), Lysholm knee score, and Tegner activity scale were the instruments used to evaluate the clinical status.</span><span style=\"display: inline; background-color: rgba(9, 175, 221,  0.9947569966316223); padding: 1px 5px; border: solid 3px ; border-color: rgba(9, 175, 221,  1); #EFEFEF\">Magnetic resonance observation of cartilage repair tissue (MOCART) system was used to analyze the characteristics of repair tissue.Better VAS and Lysholm scores were detected in group 1 at 12 and 24 months (P = .019 and P = .025).</span><span style=\"display: inline; background-color: rgba(0, 0, 0, 0.0); padding: 1px 5px; border: solid 3px ; border-color: rgba(0, 0, 0, 0.0); #EFEFEF\">According to the Tegner activity scale, group 1 had also better activity level at the end of 24 months after surgery (P = .020).</span><span style=\"display: inline; background-color: rgba(0, 0, 0, 0.0); padding: 1px 5px; border: solid 3px ; border-color: rgba(0, 0, 0, 0.0); #EFEFEF\">The mean time from surgery to return to nonimpact sports activities was 7.8 months in group 1, whereas it was 9.2 months in group 2 (P = .013).</span><span style=\"display: inline; background-color: rgba(9, 175, 221,  0.5480870008468628); padding: 1px 5px; border: solid 3px ; border-color: rgba(9, 175, 221,  1); #EFEFEF\">Complete repair with the filling of the defect was achieved in 7 (36.8%) of the knees in group 1, whereas it was 4 (16.6%) of the knees in group 2 according to the MOCART system at 24 months.Single-stage regenerative cartilage surgery using hyaluronic acid-based cell-free scaffold in combination with microfracture for focal osteochondral lesions of the knee revealed promising clinical outcomes at 24 months of follow-up, but the clinical significance of the differences seen is simply not known.Level III, retrospective comparative study.</span> </div>"
      ],
      "text/plain": [
       "<IPython.core.display.HTML object>"
      ]
     },
     "metadata": {},
     "output_type": "display_data"
    },
    {
     "name": "stdout",
     "output_type": "stream",
     "text": [
      "record_id = 22\n"
     ]
    },
    {
     "data": {
      "text/html": [
       "<div style='display: flex; width: 400px; flex-wrap: wrap;'><span style=\"background-color: rgba(9, 221, 55,  0.5); margin: 7px; padding: 1px 5px; border: solid 3px ; border-color: rgba(9, 221, 55,  1); #EFEFEF\">concept_3 </span> <span style=\"background-color: rgba(9, 175, 221,  0.5); margin: 7px; padding: 1px 5px; border: solid 3px ; border-color: rgba(9, 175, 221,  1); #EFEFEF\">concept_6 </span> </div>"
      ],
      "text/plain": [
       "<IPython.core.display.HTML object>"
      ]
     },
     "metadata": {},
     "output_type": "display_data"
    },
    {
     "data": {
      "text/html": [
       "<div style='display: flex; width: 800px; flex-wrap: wrap;'><span style=\"display: inline; background-color: rgba(0, 0, 0, 0.0); padding: 1px 5px; border: solid 3px ; border-color: rgba(0, 0, 0, 0.0); #EFEFEF\">Autologous Chondrocyte Implantation Using the Original Periosteum-Cover Technique versus Matrix-Associated Autologous Chondrocyte Implantation Background Autologous chondrocyte implantation (ACI) is frequently used to treat symptomatic defects of the articular cartilage.</span><span style=\"display: inline; background-color: rgba(9, 175, 221,  0.322132408618927); padding: 1px 5px; border: solid 3px ; border-color: rgba(9, 175, 221,  1); #EFEFEF\">Purpose To test whether matrix-associated autologous chondrocyte implantation or the original periosteal flap technique provides superior outcomes in terms of clinical efficacy and safety.</span><span style=\"display: inline; background-color: rgba(0, 0, 0, 0.0); padding: 1px 5px; border: solid 3px ; border-color: rgba(0, 0, 0, 0.0); #EFEFEF\">Study Design Randomized controlled trial; Level of evidence, 2.</span><span style=\"display: inline; background-color: rgba(0, 0, 0, 0.0); padding: 1px 5px; border: solid 3px ; border-color: rgba(0, 0, 0, 0.0); #EFEFEF\">Methods Twenty-one patients (mean age, 29.3 ± 9.1 years) with symptomatic isolated full-thickness cartilage defects (mean 4.1 ± 09 cm2) at the femoral condyle were randomized to matrix-associated autologous chondrocyte implantation or the original periosteal flap technique.</span><span style=\"display: inline; background-color: rgba(0, 0, 0, 0.0); padding: 1px 5px; border: solid 3px ; border-color: rgba(0, 0, 0, 0.0); #EFEFEF\">The primary outcome parameter was the postoperative change in knee function as assessed by the International Knee Documentation Committee (IKDC) score at 12 months after ACI.</span><span style=\"display: inline; background-color: rgba(0, 0, 0, 0.0); padding: 1px 5px; border: solid 3px ; border-color: rgba(0, 0, 0, 0.0); #EFEFEF\">In addition, the IKDC score was assessed at 3, 6, 12, and 24 months after surgery.</span><span style=\"display: inline; background-color: rgba(0, 0, 0, 0.0); padding: 1px 5px; border: solid 3px ; border-color: rgba(0, 0, 0, 0.0); #EFEFEF\">Secondary outcome parameters were postoperative changes in health related quality of life (Short Form-36 Health Survey), knee functionality (Lysholm and Gillquist score), and physical activity (Tegner Activity Score) at 3, 6, 12, and 24 months after ACI.</span><span style=\"display: inline; background-color: rgba(0, 0, 0, 0.0); padding: 1px 5px; border: solid 3px ; border-color: rgba(0, 0, 0, 0.0); #EFEFEF\">Magnetic resonance imaging was performed to evaluate the cartilage 6, 12, and 24 months after ACI and rated using the Magnetic Resonance Observation of Cartilage Repair Tissue score.</span><span style=\"display: inline; background-color: rgba(0, 0, 0, 0.0); padding: 1px 5px; border: solid 3px ; border-color: rgba(0, 0, 0, 0.0); #EFEFEF\">Adverse events were recorded to assess safety.</span><span style=\"display: inline; background-color: rgba(0, 0, 0, 0.0); padding: 1px 5px; border: solid 3px ; border-color: rgba(0, 0, 0, 0.0); #EFEFEF\">Results The primary outcome parameter showed improvement of patients 1 year after autologous chondrocyte implantation, but there was no difference between the periosteal flap technique and matrix-associated ACI (P = .5573); 2 years after ACI, a similar result was found (P = .4994).</span><span style=\"display: inline; background-color: rgba(0, 0, 0, 0.0); padding: 1px 5px; border: solid 3px ; border-color: rgba(0, 0, 0, 0.0); #EFEFEF\">The study groups did not show differences in the Short Form-36 categories and in knee functionality as assessed by Tegner Activity Score 12 months (P = .4063) and 24 months (P = .1043) after ACI.</span><span style=\"display: inline; background-color: rgba(0, 0, 0, 0.0); padding: 1px 5px; border: solid 3px ; border-color: rgba(0, 0, 0, 0.0); #EFEFEF\">There was a significant difference in the Lysholm and Gillquist score at 12 months (P = .0449) and 24 months (P = .0487) favoring the periosteal flap technique group.</span><span style=\"display: inline; background-color: rgba(0, 0, 0, 0.0); padding: 1px 5px; border: solid 3px ; border-color: rgba(0, 0, 0, 0.0); #EFEFEF\">At 6 months after surgery, a significantly lower Magnetic Resonance Observation of Cartilage Repair score was obtained in the matrix-associated ACI group (P = .0123), corresponding to more normal magnetic resonance imaging diagnostic findings.</span><span style=\"display: inline; background-color: rgba(0, 0, 0, 0.0); padding: 1px 5px; border: solid 3px ; border-color: rgba(0, 0, 0, 0.0); #EFEFEF\">Twelve and 24 months after ACI, the differences between the 2 groups were not significant (12 months, P = .2065; 24 months, P = .6926).</span><span style=\"display: inline; background-color: rgba(0, 0, 0, 0.0); padding: 1px 5px; border: solid 3px ; border-color: rgba(0, 0, 0, 0.0); #EFEFEF\">Adverse events were related to knee problems such as transplant delamination, development of an osseous spur, osteochondral dissection, and transplant hypertrophy.</span><span style=\"display: inline; background-color: rgba(0, 0, 0, 0.0); padding: 1px 5px; border: solid 3px ; border-color: rgba(0, 0, 0, 0.0); #EFEFEF\">Systemic (allergic, toxic, or autoimmune) reactions did not occur.</span><span style=\"display: inline; background-color: rgba(0, 0, 0, 0.0); padding: 1px 5px; border: solid 3px ; border-color: rgba(0, 0, 0, 0.0); #EFEFEF\">Conclusion There was no difference in the efficacy between the original and the advanced ACI technique 12 and 24 months after surgery regarding International Knee Documentation Committee, Tegner Activity Score, and Short Form-36; however, with respect to the Lysholm and Gillquist score, better efficacy was observed in the periosteal flap technique group.</span> </div>"
      ],
      "text/plain": [
       "<IPython.core.display.HTML object>"
      ]
     },
     "metadata": {},
     "output_type": "display_data"
    },
    {
     "name": "stdout",
     "output_type": "stream",
     "text": [
      "record_id = 23\n"
     ]
    },
    {
     "data": {
      "text/html": [
       "<div style='display: flex; width: 400px; flex-wrap: wrap;'><span style=\"background-color: rgba(9, 221, 55,  0.5); margin: 7px; padding: 1px 5px; border: solid 3px ; border-color: rgba(9, 221, 55,  1); #EFEFEF\">concept_3 </span> <span style=\"background-color: rgba(9, 175, 221,  0.5); margin: 7px; padding: 1px 5px; border: solid 3px ; border-color: rgba(9, 175, 221,  1); #EFEFEF\">concept_6 </span> </div>"
      ],
      "text/plain": [
       "<IPython.core.display.HTML object>"
      ]
     },
     "metadata": {},
     "output_type": "display_data"
    },
    {
     "data": {
      "text/html": [
       "<div style='display: flex; width: 800px; flex-wrap: wrap;'><span style=\"display: inline; background-color: rgba(0, 0, 0, 0.0); padding: 1px 5px; border: solid 3px ; border-color: rgba(0, 0, 0, 0.0); #EFEFEF\">Better Clinicoradiological Results of BST-CarGel Treatment in Cartilage Repair Compared With Microfracture in Acetabular Chondral Defects at 2 Years Background: BST-CarGel (CarGel) is an injectable chitosan scaffold that is mixed with fresh, autologous blood and injected into the site of microfracture (MF) to physically stabilize clots and enhance cartilage repair.</span><span style=\"display: inline; background-color: rgba(0, 0, 0, 0.0); padding: 1px 5px; border: solid 3px ; border-color: rgba(0, 0, 0, 0.0); #EFEFEF\">Purpose: To evaluate short-term clinicoradiological outcomes of patients treated arthroscopically for acetabular chondral defects with CarGel in conjunction with MF compared with those treated with MF alone.</span><span style=\"display: inline; background-color: rgba(0, 0, 0, 0.0); padding: 1px 5px; border: solid 3px ; border-color: rgba(0, 0, 0, 0.0); #EFEFEF\">Study Design: Cohort study; Level of evidence, 3.</span><span style=\"display: inline; background-color: rgba(0, 0, 0, 0.0); padding: 1px 5px; border: solid 3px ; border-color: rgba(0, 0, 0, 0.0); #EFEFEF\">Methods: All patients who underwent hip arthroscopy and received MF with or without CarGel for acetabular chondral defects between 2014 and 2018 with a minimum 2-year clinicoradiological follow-up were included.</span><span style=\"display: inline; background-color: rgba(0, 0, 0, 0.0); padding: 1px 5px; border: solid 3px ; border-color: rgba(0, 0, 0, 0.0); #EFEFEF\">Intraoperative details, postoperative complications, and clinical outcome scores, including the international Hip Outcome Tool–33 (iHOT-33), Hip Outcome Score (HOS)–Activities of Daily Living (HOS-ADL), and Hip Outcome Score–Sports Profile, were analyzed.</span><span style=\"display: inline; background-color: rgba(0, 0, 0, 0.0); padding: 1px 5px; border: solid 3px ; border-color: rgba(0, 0, 0, 0.0); #EFEFEF\">Serial plain radiographs were assessed independently by 2 blinded observers.</span><span style=\"display: inline; background-color: rgba(0, 0, 0, 0.0); padding: 1px 5px; border: solid 3px ; border-color: rgba(0, 0, 0, 0.0); #EFEFEF\">A survival analysis was performed to identify the number of cases converted to total hip arthroplasty (THA) in both groups, which was correlated with the cartilage defect size at the time of surgery.</span><span style=\"display: inline; background-color: rgba(0, 0, 0, 0.0); padding: 1px 5px; border: solid 3px ; border-color: rgba(0, 0, 0, 0.0); #EFEFEF\">Results: Eighty patients (54 CarGel and 26 MF) were evaluated, including 56 men (70%) and 48 right hips (60%).</span><span style=\"display: inline; background-color: rgba(0, 0, 0, 0.0); padding: 1px 5px; border: solid 3px ; border-color: rgba(0, 0, 0, 0.0); #EFEFEF\">Three patients were lost to follow-up.</span><span style=\"display: inline; background-color: rgba(0, 0, 0, 0.0); padding: 1px 5px; border: solid 3px ; border-color: rgba(0, 0, 0, 0.0); #EFEFEF\">There were no major adverse events in either group.</span><span style=\"display: inline; background-color: rgba(0, 0, 0, 0.0); padding: 1px 5px; border: solid 3px ; border-color: rgba(0, 0, 0, 0.0); #EFEFEF\">The average defect size was 3.63 and 4.97 cm 2 in MF and CarGel, respectively ( P = .002).</span><span style=\"display: inline; background-color: rgba(0, 0, 0, 0.0); padding: 1px 5px; border: solid 3px ; border-color: rgba(0, 0, 0, 0.0); #EFEFEF\">There was a statistically significant improvement in iHOT-33 (from 43.24 to 60.17 in MF and from 41.13 to 58.39 in CarGel) and HOS-ADL (from 62.25 to 76.75 in MF and from 44.69 to 79.16 in CarGel) scores.</span><span style=\"display: inline; background-color: rgba(0, 0, 0, 0.0); padding: 1px 5px; border: solid 3px ; border-color: rgba(0, 0, 0, 0.0); #EFEFEF\">There was no difference between the 2 groups in the outcome scores after adjusting for covariates.</span><span style=\"display: inline; background-color: rgba(0, 0, 0, 0.0); padding: 1px 5px; border: solid 3px ; border-color: rgba(0, 0, 0, 0.0); #EFEFEF\">Survival analysis showed 34.6% of MF cases and 5.9% of CarGel cases were converted to THA ( P = .001).</span><span style=\"display: inline; background-color: rgba(0, 0, 0, 0.0); padding: 1px 5px; border: solid 3px ; border-color: rgba(0, 0, 0, 0.0); #EFEFEF\">The mean defect size of the failure group was higher in CarGel than in MF (8.83 and 3.72 cm 2 , respectively).</span><span style=\"display: inline; background-color: rgba(0, 0, 0, 0.0); padding: 1px 5px; border: solid 3px ; border-color: rgba(0, 0, 0, 0.0); #EFEFEF\">Mean joint space reduction was 1.41 mm in MF and 0.19 mm in CarGel ( P &lt; .001).</span><span style=\"display: inline; background-color: rgba(0, 0, 0, 0.0); padding: 1px 5px; border: solid 3px ; border-color: rgba(0, 0, 0, 0.0); #EFEFEF\">Conclusion: Two-year clinicoradiological results were promising in these lesions that are difficult to treat.</span><span style=\"display: inline; background-color: rgba(0, 0, 0, 0.0); padding: 1px 5px; border: solid 3px ; border-color: rgba(0, 0, 0, 0.0); #EFEFEF\">Arthroscopic treatment of chondral acetabular defects with CarGel demonstrated a significant decrease in progressive loss of joint space and conversion to THA compared with MF as an isolated procedure.</span> </div>"
      ],
      "text/plain": [
       "<IPython.core.display.HTML object>"
      ]
     },
     "metadata": {},
     "output_type": "display_data"
    },
    {
     "name": "stdout",
     "output_type": "stream",
     "text": [
      "record_id = 24\n"
     ]
    },
    {
     "data": {
      "text/html": [
       "<div style='display: flex; width: 400px; flex-wrap: wrap;'><span style=\"background-color: rgba(9, 221, 55,  0.5); margin: 7px; padding: 1px 5px; border: solid 3px ; border-color: rgba(9, 221, 55,  1); #EFEFEF\">concept_3 </span> <span style=\"background-color: rgba(9, 175, 221,  0.5); margin: 7px; padding: 1px 5px; border: solid 3px ; border-color: rgba(9, 175, 221,  1); #EFEFEF\">concept_6 </span> </div>"
      ],
      "text/plain": [
       "<IPython.core.display.HTML object>"
      ]
     },
     "metadata": {},
     "output_type": "display_data"
    },
    {
     "data": {
      "text/html": [
       "<div style='display: flex; width: 800px; flex-wrap: wrap;'><span style=\"display: inline; background-color: rgba(9, 175, 221,  0.9935993552207947); padding: 1px 5px; border: solid 3px ; border-color: rgba(9, 175, 221,  1); #EFEFEF\">NeoCart, an Autologous Cartilage Tissue Implant, Compared with Microfracture for Treatment of Distal Femoral Cartilage Lesions Despite introduction of autologous chondrocyte therapy for repair of hyaline articular cartilage injury in 1994, microfracture remains a primary standard of care.</span><span style=\"display: inline; background-color: rgba(9, 175, 221,  0.7182682156562805); padding: 1px 5px; border: solid 3px ; border-color: rgba(9, 175, 221,  1); #EFEFEF\">NeoCart, an autologous cartilage tissue implant, was compared with microfracture in a multisite prospective, randomized trial of a tissue-engineered bioimplant for treating articular cartilage injuries in the knee.Thirty patients were randomized at a ratio of two to one (two were treated with an autologous cartilage tissue implant [NeoCart] for each patient treated with microfracture) at the time of arthroscopic confirmation of an International Cartilage Repair Society (ICRS) grade-III lesion(s).</span><span style=\"display: inline; background-color: rgba(9, 175, 221,  0.20042075216770172); padding: 1px 5px; border: solid 3px ; border-color: rgba(9, 175, 221,  1); #EFEFEF\">Microfracture or cartilage biopsy was performed.</span><span style=\"display: inline; background-color: rgba(0, 0, 0, 0.0); padding: 1px 5px; border: solid 3px ; border-color: rgba(0, 0, 0, 0.0); #EFEFEF\">NeoCart, produced by seeding a type-I collagen matrix scaffold with autogenous chondrocytes and bioreactor treatment, was implanted six weeks following arthroscopic cartilage biopsy.</span><span style=\"display: inline; background-color: rgba(0, 0, 0, 0.0); padding: 1px 5px; border: solid 3px ; border-color: rgba(0, 0, 0, 0.0); #EFEFEF\">Standard evaluations were performed with validated clinical outcomes measures.Three, six, twelve, and twenty-four-month data are reported.</span><span style=\"display: inline; background-color: rgba(0, 0, 0, 0.0); padding: 1px 5px; border: solid 3px ; border-color: rgba(0, 0, 0, 0.0); #EFEFEF\">The mean duration of follow-up (and standard deviation) was 26 ± 2 months.</span><span style=\"display: inline; background-color: rgba(0, 0, 0, 0.0); padding: 1px 5px; border: solid 3px ; border-color: rgba(0, 0, 0, 0.0); #EFEFEF\">There were twenty-one patients in the NeoCart group and nine in the microfracture group.</span><span style=\"display: inline; background-color: rgba(9, 175, 221,  0.22566960752010345); padding: 1px 5px; border: solid 3px ; border-color: rgba(9, 175, 221,  1); #EFEFEF\">The mean age (40 ± 9 years), body mass index (BMI) (28 ± 4 kg/m2), duration between the first symptoms and treatment (3 ± 5 years), and lesion size (287 ± 138 mm2 in the NeoCart group and 252 ± 135 mm2 in the microfracture group) were similar between the groups.</span><span style=\"display: inline; background-color: rgba(0, 0, 0, 0.0); padding: 1px 5px; border: solid 3px ; border-color: rgba(0, 0, 0, 0.0); #EFEFEF\">Adverse event rates per procedure did not differ between the treatment arms.</span><span style=\"display: inline; background-color: rgba(9, 175, 221,  0.28344136476516724); padding: 1px 5px; border: solid 3px ; border-color: rgba(9, 175, 221,  1); #EFEFEF\">The scores on the Short Form-36 (SF-36), Knee Injury and Osteoarthritis Outcome Score (KOOS) activities of daily living (ADL) scale, and International Knee Documentation Committee (IKDC) form improved from baseline (p < 0.05) to two years postoperatively in both treatment groups.</span><span style=\"display: inline; background-color: rgba(0, 0, 0, 0.0); padding: 1px 5px; border: solid 3px ; border-color: rgba(0, 0, 0, 0.0); #EFEFEF\">In the NeoCart group, improvement, compared with baseline, was significant (p < 0.05) for all measures at six, twelve, and twenty-four months.</span><span style=\"display: inline; background-color: rgba(0, 0, 0, 0.0); padding: 1px 5px; border: solid 3px ; border-color: rgba(0, 0, 0, 0.0); #EFEFEF\">Improvement in the NeoCart group was significantly greater (p < 0.05) than that in the microfracture group for the KOOS pain score at six, twelve, and twenty-four months; the KOOS symptom score at six months; the IKDC, KOOS sports, and visual analog scale (VAS) pain scores at twelve and twenty-four months; and the KOOS quality of life (QOL) score at twenty-four months.</span><span style=\"display: inline; background-color: rgba(0, 0, 0, 0.0); padding: 1px 5px; border: solid 3px ; border-color: rgba(0, 0, 0, 0.0); #EFEFEF\">Analysis of covariance (ANCOVA) at one year indicated that the change in the KOOS pain (p = 0.016) and IKDC (p = 0.028) scores from pretreatment levels favored the NeoCart group.</span><span style=\"display: inline; background-color: rgba(0, 0, 0, 0.0); padding: 1px 5px; border: solid 3px ; border-color: rgba(0, 0, 0, 0.0); #EFEFEF\">Significantly more NeoCart-treated patients (p = 0.0125) had responded to therapy (were therapeutic responders) at six months (43% versus 25% in the microfracture group) and twelve months (76% versus 22% in the microfracture group).</span><span style=\"display: inline; background-color: rgba(0, 0, 0, 0.0); padding: 1px 5px; border: solid 3px ; border-color: rgba(0, 0, 0, 0.0); #EFEFEF\">This trend continued, as the proportion of NeoCart-treated patients (fifteen of nineteen) who were therapeutic responders at twenty-four months was greater than the proportion of microfracture-treated participants (four of nine) who were therapeutic responders at that time.This randomized study suggests that the safety of autologous cartilage tissue implantation, with use of the NeoCart technique, is similar to that of microfracture surgery and is associated with greater clinical efficacy at two years after treatment.</span> </div>"
      ],
      "text/plain": [
       "<IPython.core.display.HTML object>"
      ]
     },
     "metadata": {},
     "output_type": "display_data"
    },
    {
     "name": "stdout",
     "output_type": "stream",
     "text": [
      "record_id = 25\n"
     ]
    },
    {
     "data": {
      "text/html": [
       "<div style='display: flex; width: 400px; flex-wrap: wrap;'><span style=\"background-color: rgba(9, 221, 55,  0.5); margin: 7px; padding: 1px 5px; border: solid 3px ; border-color: rgba(9, 221, 55,  1); #EFEFEF\">concept_3 </span> <span style=\"background-color: rgba(9, 175, 221,  0.5); margin: 7px; padding: 1px 5px; border: solid 3px ; border-color: rgba(9, 175, 221,  1); #EFEFEF\">concept_6 </span> </div>"
      ],
      "text/plain": [
       "<IPython.core.display.HTML object>"
      ]
     },
     "metadata": {},
     "output_type": "display_data"
    },
    {
     "data": {
      "text/html": [
       "<div style='display: flex; width: 800px; flex-wrap: wrap;'><span style=\"display: inline; background-color: rgba(9, 175, 221,  0.9962548017501831); padding: 1px 5px; border: solid 3px ; border-color: rgba(9, 175, 221,  1); #EFEFEF\">Arthroscopic Matrix-Assisted Autologous Chondrocyte Transplantation Versus Microfracture: A 6-Year Follow-up of a Prospective Randomized Trial Background: Few randomized controlled trials with a midterm follow-up have compared matrix-assisted autologous chondrocyte transplantation (MACT) with microfracture (MFx) for knee cartilage lesions.</span><span style=\"display: inline; background-color: rgba(0, 0, 0, 0.0); padding: 1px 5px; border: solid 3px ; border-color: rgba(0, 0, 0, 0.0); #EFEFEF\">Purpose: To compare the structural, clinical, and safety outcomes at midterm follow-up of MACT versus MFx for treating symptomatic knee cartilage lesions.</span><span style=\"display: inline; background-color: rgba(9, 175, 221,  0.25353437662124634); padding: 1px 5px; border: solid 3px ; border-color: rgba(9, 175, 221,  1); #EFEFEF\">Study Design: Randomized controlled trial; Level of evidence, 1.</span><span style=\"display: inline; background-color: rgba(0, 0, 0, 0.0); padding: 1px 5px; border: solid 3px ; border-color: rgba(0, 0, 0, 0.0); #EFEFEF\">Methods: A total of 48 patients aged between 18 and 50 years, with 1- to 4-cm 2 International Cartilage Repair Society (ICRS) grade III to IV knee chondral lesions, were randomized in a 1:1 ratio to the MACT and MFx treatment groups.</span><span style=\"display: inline; background-color: rgba(0, 0, 0, 0.0); padding: 1px 5px; border: solid 3px ; border-color: rgba(0, 0, 0, 0.0); #EFEFEF\">A sequential prospective evaluation was performed using magnetic resonance imaging (MRI) T2 mapping, the MOCART (magnetic resonance observation of cartilage repair tissue) score, second-look arthroscopic surgery, patient-reported outcome measures, the responder rate (based on achieving the minimal clinically important difference for the Knee injury and Osteoarthritis Outcome Score [KOOS] pain and KOOS Sport/Recreation), adverse events, and treatment failure (defined as a reoperation because of symptoms caused by the primary defect and the detachment or absence of &gt;50% of the repaired tissue during revision surgery).</span><span style=\"display: inline; background-color: rgba(0, 0, 0, 0.0); padding: 1px 5px; border: solid 3px ; border-color: rgba(0, 0, 0, 0.0); #EFEFEF\">Results: Overall, 35 patients (18 MACT and 17 MFx) with a mean chondral lesion size of 1.8 ± 0.8 cm 2 (range, 1-4 cm 2 ) were followed up to a mean of 6 years postoperatively (range, 4-9 years).</span><span style=\"display: inline; background-color: rgba(9, 175, 221,  0.20528294146060944); padding: 1px 5px; border: solid 3px ; border-color: rgba(9, 175, 221,  1); #EFEFEF\">MACT demonstrated significantly better structural outcomes than MFx at 1 to 6 years postoperatively.</span><span style=\"display: inline; background-color: rgba(0, 0, 0, 0.0); padding: 1px 5px; border: solid 3px ; border-color: rgba(0, 0, 0, 0.0); #EFEFEF\">At final follow-up, the MRI T2 mapping values of the repaired tissue were 37.7 ± 8.5 ms for MACT versus 46.4 ± 8.5 ms for MFx ( P = .003), while the MOCART scores were 59.4 ± 17.3 and 42.4 ± 16.3, respectively ( P = .006).</span><span style=\"display: inline; background-color: rgba(0, 0, 0, 0.0); padding: 1px 5px; border: solid 3px ; border-color: rgba(0, 0, 0, 0.0); #EFEFEF\">More than 50% defect filling was seen in 95% of patients at 2 years and 82% at 6 years in the MACT group and in 67% at 2 years and 53% at 6 years in the MFx group.</span><span style=\"display: inline; background-color: rgba(0, 0, 0, 0.0); padding: 1px 5px; border: solid 3px ; border-color: rgba(0, 0, 0, 0.0); #EFEFEF\">The second-look ICRS scores at 1 year were 10.7 ± 1.3 for MACT and 9.0 ± 1.8 for MFx ( P = .001).</span><span style=\"display: inline; background-color: rgba(0, 0, 0, 0.0); padding: 1px 5px; border: solid 3px ; border-color: rgba(0, 0, 0, 0.0); #EFEFEF\">Both groups showed significant clinical improvements at 6 years postoperatively compared with their preoperative status.</span><span style=\"display: inline; background-color: rgba(0, 0, 0, 0.0); padding: 1px 5px; border: solid 3px ; border-color: rgba(0, 0, 0, 0.0); #EFEFEF\">Significant differences favoring the MACT group were observed at 2 years on the KOOS Activities of Daily Living ( P = .043), at 4 years on all KOOS subscales (except Symptoms; P &lt; .05) and the Tegner scale ( P = .008), and at 6 years on the Tegner scale ( P = .010).</span><span style=\"display: inline; background-color: rgba(0, 0, 0, 0.0); padding: 1px 5px; border: solid 3px ; border-color: rgba(0, 0, 0, 0.0); #EFEFEF\">The responder rates at 6 years were 53% and 77% for MFx and MACT, respectively.</span><span style=\"display: inline; background-color: rgba(0, 0, 0, 0.0); padding: 1px 5px; border: solid 3px ; border-color: rgba(0, 0, 0, 0.0); #EFEFEF\">There were no reported treatment failures after MACT; the failure rate was 8.3% in the MFx group.</span><span style=\"display: inline; background-color: rgba(0, 0, 0, 0.0); padding: 1px 5px; border: solid 3px ; border-color: rgba(0, 0, 0, 0.0); #EFEFEF\">Neither group had serious adverse events related to treatment.</span><span style=\"display: inline; background-color: rgba(0, 0, 0, 0.0); padding: 1px 5px; border: solid 3px ; border-color: rgba(0, 0, 0, 0.0); #EFEFEF\">Conclusion: Patients who underwent MACT had better structural outcomes than those who underwent MFx at 1 to 6 years postoperatively.</span><span style=\"display: inline; background-color: rgba(0, 0, 0, 0.0); padding: 1px 5px; border: solid 3px ; border-color: rgba(0, 0, 0, 0.0); #EFEFEF\">Both groups of patients showed significant clinical improvements at final follow-up compared with their preoperative status.</span><span style=\"display: inline; background-color: rgba(0, 0, 0, 0.0); padding: 1px 5px; border: solid 3px ; border-color: rgba(0, 0, 0, 0.0); #EFEFEF\">MACT showed superiority at 4 years for the majority of the KOOS subscales and for the Tegner scale at 4 to 6 years.</span><span style=\"display: inline; background-color: rgba(0, 0, 0, 0.0); padding: 1px 5px; border: solid 3px ; border-color: rgba(0, 0, 0, 0.0); #EFEFEF\">The MACT group also had a higher responder rate and lower failure rate at final follow-up.</span><span style=\"display: inline; background-color: rgba(0, 0, 0, 0.0); padding: 1px 5px; border: solid 3px ; border-color: rgba(0, 0, 0, 0.0); #EFEFEF\">Registration: NCT01947374 ( ClinicalTrials.gov identifier).</span> </div>"
      ],
      "text/plain": [
       "<IPython.core.display.HTML object>"
      ]
     },
     "metadata": {},
     "output_type": "display_data"
    },
    {
     "name": "stdout",
     "output_type": "stream",
     "text": [
      "record_id = 26\n"
     ]
    },
    {
     "data": {
      "text/html": [
       "<div style='display: flex; width: 400px; flex-wrap: wrap;'><span style=\"background-color: rgba(9, 221, 55,  0.5); margin: 7px; padding: 1px 5px; border: solid 3px ; border-color: rgba(9, 221, 55,  1); #EFEFEF\">concept_3 </span> <span style=\"background-color: rgba(9, 175, 221,  0.5); margin: 7px; padding: 1px 5px; border: solid 3px ; border-color: rgba(9, 175, 221,  1); #EFEFEF\">concept_6 </span> </div>"
      ],
      "text/plain": [
       "<IPython.core.display.HTML object>"
      ]
     },
     "metadata": {},
     "output_type": "display_data"
    },
    {
     "data": {
      "text/html": [
       "<div style='display: flex; width: 800px; flex-wrap: wrap;'><span style=\"display: inline; background-color: rgba(9, 175, 221,  0.8602297902107239); padding: 1px 5px; border: solid 3px ; border-color: rgba(9, 175, 221,  1); #EFEFEF\">Ten-Year Follow-up of a Prospective, Randomized Clinical Study of Mosaic Osteochondral Autologous Transplantation Versus Microfracture for the Treatment of Osteochondral Defects in the Knee Joint of Athletes Background: Various techniques have proven to be effective for treating articular cartilage defect (ACD) and osteochondral defect (OCD) of the knee joint, but knowledge regarding which method is best still remains uncertain.</span><span style=\"display: inline; background-color: rgba(9, 175, 221,  0.9913594126701355); padding: 1px 5px; border: solid 3px ; border-color: rgba(9, 175, 221,  1); #EFEFEF\">Purpose: To evaluate and compare the outcomes of mosaic-type osteochondral autologous transplantation (OAT) and microfracture (MF) procedures for the treatment of articular cartilage defects of the knee joint in young active athletes.</span><span style=\"display: inline; background-color: rgba(0, 0, 0, 0.0); padding: 1px 5px; border: solid 3px ; border-color: rgba(0, 0, 0, 0.0); #EFEFEF\">This article represents an update of the clinical results at 10 years.</span><span style=\"display: inline; background-color: rgba(0, 0, 0, 0.0); padding: 1px 5px; border: solid 3px ; border-color: rgba(0, 0, 0, 0.0); #EFEFEF\">Study Design: Randomized controlled trial; Level of evidence, 1.</span><span style=\"display: inline; background-color: rgba(0, 0, 0, 0.0); padding: 1px 5px; border: solid 3px ; border-color: rgba(0, 0, 0, 0.0); #EFEFEF\">Methods: Between 1998 and 2002, a total of 60 athletes with a mean age of 24.3 years (range, 15-40 years) and with a symptomatic ACD or OCD in the knee were randomized to undergo either OAT or MF.</span><span style=\"display: inline; background-color: rgba(9, 175, 221,  0.2196684181690216); padding: 1px 5px; border: solid 3px ; border-color: rgba(9, 175, 221,  1); #EFEFEF\">Patients were then evaluated postoperatively using the International Cartilage Repair Society (ICRS) score, Tegner activity score, radiographs, and magnetic resonance imaging.</span><span style=\"display: inline; background-color: rgba(0, 0, 0, 0.0); padding: 1px 5px; border: solid 3px ; border-color: rgba(0, 0, 0, 0.0); #EFEFEF\">The mean follow-up time was 10.4 years (range, 9-11 years).</span><span style=\"display: inline; background-color: rgba(0, 0, 0, 0.0); padding: 1px 5px; border: solid 3px ; border-color: rgba(0, 0, 0, 0.0); #EFEFEF\">Results: Three to 10 years after the OAT and MF procedures, patients had lower ICRS and Tegner scores ( P &lt; .05), but both groups still had significant clinical improvement over presurgery scores according to ICRS scores at 10-year follow-up.</span><span style=\"display: inline; background-color: rgba(0, 0, 0, 0.0); padding: 1px 5px; border: solid 3px ; border-color: rgba(0, 0, 0, 0.0); #EFEFEF\">Statistically significantly better results were detected in patients in the OAT group compared with those in the MF group at 10 years ( P &lt; .005).</span><span style=\"display: inline; background-color: rgba(0, 0, 0, 0.0); padding: 1px 5px; border: solid 3px ; border-color: rgba(0, 0, 0, 0.0); #EFEFEF\">At 10-year follow-up, there were 15 failures (26%), including 4 failures (14%) of the OAT and 11 failures (38%) of MF treatment ( P &lt; .05).</span><span style=\"display: inline; background-color: rgba(0, 0, 0, 0.0); padding: 1px 5px; border: solid 3px ; border-color: rgba(0, 0, 0, 0.0); #EFEFEF\">Seven patients (25%) from the OAT group and 14 patients (48%) from the MF group had radiographic evidence of Kellgren-Lawrence grade I osteoarthritis at 10 years, but these differences were not significant ( P = .083) or related to the clinical results.</span><span style=\"display: inline; background-color: rgba(9, 175, 221,  0.2751331329345703); padding: 1px 5px; border: solid 3px ; border-color: rgba(9, 175, 221,  1); #EFEFEF\">The ICRS and Tegner scores of younger athletes (&lt;25 years at the time of primary surgery) remained significantly higher after 10 years compared with older patients ( P &lt; .05); 15 of 20 patients (75%) in the OAT group and 8 of 22 patients (37%) in the MF group maintained the same physical activity level.</span><span style=\"display: inline; background-color: rgba(0, 0, 0, 0.0); padding: 1px 5px; border: solid 3px ; border-color: rgba(0, 0, 0, 0.0); #EFEFEF\">Conclusion: The OAT technique for ACD or OCD repair in the athletic population allows for a higher rate of return to and maintenance of sports at the preinjury level compared with MF.</span> </div>"
      ],
      "text/plain": [
       "<IPython.core.display.HTML object>"
      ]
     },
     "metadata": {},
     "output_type": "display_data"
    },
    {
     "name": "stdout",
     "output_type": "stream",
     "text": [
      "record_id = 27\n"
     ]
    },
    {
     "data": {
      "text/html": [
       "<div style='display: flex; width: 400px; flex-wrap: wrap;'><span style=\"background-color: rgba(9, 221, 55,  0.5); margin: 7px; padding: 1px 5px; border: solid 3px ; border-color: rgba(9, 221, 55,  1); #EFEFEF\">concept_3 </span> <span style=\"background-color: rgba(9, 175, 221,  0.5); margin: 7px; padding: 1px 5px; border: solid 3px ; border-color: rgba(9, 175, 221,  1); #EFEFEF\">concept_6 </span> </div>"
      ],
      "text/plain": [
       "<IPython.core.display.HTML object>"
      ]
     },
     "metadata": {},
     "output_type": "display_data"
    },
    {
     "data": {
      "text/html": [
       "<div style='display: flex; width: 800px; flex-wrap: wrap;'><span style=\"display: inline; background-color: rgba(0, 0, 0, 0.0); padding: 1px 5px; border: solid 3px ; border-color: rgba(0, 0, 0, 0.0); #EFEFEF\">Comparison of Bone Marrow Aspirate Concentrate and Allogenic Human Umbilical Cord Blood Derived Mesenchymal Stem Cell Implantation on Chondral Defect of Knee: Assessment of Clinical and Magnetic Resonance Imaging Outcomes at 2-Year Follow-Up Biological repair of cartilage lesions remains a significant clinical challenge.</span><span style=\"display: inline; background-color: rgba(9, 221, 55,  0.3197093605995178); padding: 1px 5px; border: solid 3px ; border-color: rgba(9, 221, 55,  1); #EFEFEF\">A wide variety of methods involving mesenchymal stem cells (MSCs) have been introduced.</span><span style=\"display: inline; background-color: rgba(0, 0, 0, 0.0); padding: 1px 5px; border: solid 3px ; border-color: rgba(0, 0, 0, 0.0); #EFEFEF\">Because of the limitation of the results, most of the treatment methods have not yet been approved by the Food and Drug Administration (FDA).</span><span style=\"display: inline; background-color: rgba(9, 221, 55,  0.2955078184604645); padding: 1px 5px; border: solid 3px ; border-color: rgba(9, 221, 55,  1); #EFEFEF\">However, bone marrow aspirate concentrate (BMAC) and human umbilical cord blood derived mesenchymal stem cells (hUCB-MSCs) implantation were approved by Korea FDA.</span><span style=\"display: inline; background-color: rgba(9, 221, 55,  0.3536740839481354); padding: 1px 5px; border: solid 3px ; border-color: rgba(9, 221, 55,  1); #EFEFEF\">The aim of this study was to evaluate clinical and magnetic resonance imaging (MRI) outcomes after two different types of MSCs implantation in knee osteoarthritis.</span><span style=\"display: inline; background-color: rgba(9, 175, 221,  0.7124091982841492); padding: 1px 5px; border: solid 3px ; border-color: rgba(9, 175, 221,  1); #EFEFEF\">Fifty-two patients (52 knees) who underwent cartilage repair surgery using the BMAC (25 knees) and hUCB-MSCs (27 knees) were retrospectively evaluated for 2 years after surgery.</span><span style=\"display: inline; background-color: rgba(9, 175, 221,  0.32112130522727966); padding: 1px 5px; border: solid 3px ; border-color: rgba(9, 175, 221,  1); #EFEFEF\">Clinical outcomes were evaluated according to the score of visual analogue scale (VAS), the International Knee Documentation Committee (IKDC) subjective, and the Knee Injury and Osteoarthritis Outcome Score (KOOS).</span><span style=\"display: inline; background-color: rgba(9, 175, 221,  0.9915209412574768); padding: 1px 5px; border: solid 3px ; border-color: rgba(9, 175, 221,  1); #EFEFEF\">Cartilage repair was assessed according to the modified Magnetic Resonance Observation of Cartilage Repair Tissue (M-MOCART) score and the International Cartilage Repair Society (ICRS) cartilage repair scoring system.</span><span style=\"display: inline; background-color: rgba(9, 175, 221,  0.3113463222980499); padding: 1px 5px; border: solid 3px ; border-color: rgba(9, 175, 221,  1); #EFEFEF\">At 2-year follow-up, clinical outcomes including VAS, IKDC, and KOOS significantly improved ( P &lt; 0.05) in both groups; however, there were no differences between two groups.</span><span style=\"display: inline; background-color: rgba(9, 175, 221,  0.7657864689826965); padding: 1px 5px; border: solid 3px ; border-color: rgba(9, 175, 221,  1); #EFEFEF\">There was no significant difference in M-MOCART [1-year ( P = 0.261), 2-year ( P = 0.351)] and ICRS repair score ( P = 0.655) between two groups.</span><span style=\"display: inline; background-color: rgba(0, 0, 0, 0.0); padding: 1px 5px; border: solid 3px ; border-color: rgba(0, 0, 0, 0.0); #EFEFEF\">Both groups showed satisfactory clinical and MRI outcomes.</span><span style=\"display: inline; background-color: rgba(0, 0, 0, 0.0); padding: 1px 5px; border: solid 3px ; border-color: rgba(0, 0, 0, 0.0); #EFEFEF\">Implantation of MSCs from BMAC or hUCB-MSCs is safe and effective for repairing cartilage lesion.</span><span style=\"display: inline; background-color: rgba(0, 0, 0, 0.0); padding: 1px 5px; border: solid 3px ; border-color: rgba(0, 0, 0, 0.0); #EFEFEF\">However, large cases and a well-controlled prospective design with long-term follow-up studies are needed.</span> </div>"
      ],
      "text/plain": [
       "<IPython.core.display.HTML object>"
      ]
     },
     "metadata": {},
     "output_type": "display_data"
    },
    {
     "name": "stdout",
     "output_type": "stream",
     "text": [
      "record_id = 28\n"
     ]
    },
    {
     "data": {
      "text/html": [
       "<div style='display: flex; width: 400px; flex-wrap: wrap;'><span style=\"background-color: rgba(9, 221, 55,  0.5); margin: 7px; padding: 1px 5px; border: solid 3px ; border-color: rgba(9, 221, 55,  1); #EFEFEF\">concept_3 </span> <span style=\"background-color: rgba(9, 175, 221,  0.5); margin: 7px; padding: 1px 5px; border: solid 3px ; border-color: rgba(9, 175, 221,  1); #EFEFEF\">concept_6 </span> </div>"
      ],
      "text/plain": [
       "<IPython.core.display.HTML object>"
      ]
     },
     "metadata": {},
     "output_type": "display_data"
    },
    {
     "data": {
      "text/html": [
       "<div style='display: flex; width: 800px; flex-wrap: wrap;'><span style=\"display: inline; background-color: rgba(9, 221, 55,  0.9946427345275879); padding: 1px 5px; border: solid 3px ; border-color: rgba(9, 221, 55,  1); #EFEFEF\">Platelet-Rich Plasma and Adipose-Derived Mesenchymal Stem Cells in Association with Arthroscopic Microfracture of Knee Articular Cartilage Defects: A Pilot Randomized Controlled Trial This study aims to compare the effects of platelet-rich plasma (PRP) alone or in combination with adipose-derived mesenchymal stem cells (AD-MSCs) in patients affected by cartilage defects, undergoing knee arthroscopic microfracture.Thirty-eight patients diagnosed with a knee monocompartmental cartilage defect (Outerbridge grade IV) on the MRI, underwent an arthroscopic procedure.</span><span style=\"display: inline; background-color: rgba(0, 0, 0, 0.0); padding: 1px 5px; border: solid 3px ; border-color: rgba(0, 0, 0, 0.0); #EFEFEF\">After the confirmation of the lesion, they all received the same bone marrow stimulation technique (microfracture) and were randomized into two groups: the first one had additional PRP injection (group A), while the second received PRP and AD-MSC injection (group B).</span><span style=\"display: inline; background-color: rgba(0, 0, 0, 0.0); padding: 1px 5px; border: solid 3px ; border-color: rgba(0, 0, 0, 0.0); #EFEFEF\">Knee assessment and pain score were documented with Knee Injury Osteoarthritis Outcome Score (KOOS), International Knee Documentation Committee (IKDC) score, Short-Form (SF) 12, and Visual Analogue Scale (VAS) before the treatment and at 1, 3, 6, and 12 months of follow-up postoperatively.</span><span style=\"display: inline; background-color: rgba(0, 0, 0, 0.0); padding: 1px 5px; border: solid 3px ; border-color: rgba(0, 0, 0, 0.0); #EFEFEF\">An additional arthroscopic procedure, performed in four patients for a subsequent meniscal lesion, let us evaluate cartilage evolution by performing a macro/microscopical assessment on cartilage biopsy specimens.At the 12-month follow-up, both groups showed a comparable functional improvement.</span><span style=\"display: inline; background-color: rgba(0, 0, 0, 0.0); padding: 1px 5px; border: solid 3px ; border-color: rgba(0, 0, 0, 0.0); #EFEFEF\">The scores on the IKDC form, KOOS, pain VAS, and SF-12 significantly improved from baseline (p < 0.05) to 12 months postoperatively in both treatment groups.</span><span style=\"display: inline; background-color: rgba(0, 0, 0, 0.0); padding: 1px 5px; border: solid 3px ; border-color: rgba(0, 0, 0, 0.0); #EFEFEF\">The four second-look arthroscopies showed a complete repair of the articular defects by smooth solid cartilage layer, with a good chondrocytic population, in both groups.</span><span style=\"display: inline; background-color: rgba(0, 0, 0, 0.0); padding: 1px 5px; border: solid 3px ; border-color: rgba(0, 0, 0, 0.0); #EFEFEF\">A thick smooth hyaline-like cartilage with a predominantly viable cell population and normal mineralization (a form closely resembling native tissue) was observed in group B.Modern regenerative medicine techniques, such as PRP and AD-MSC, associated with traditional arthroscopic bone marrow stimulating techniques, seem to enhance cartilage restoration ability.</span><span style=\"display: inline; background-color: rgba(0, 0, 0, 0.0); padding: 1px 5px; border: solid 3px ; border-color: rgba(0, 0, 0, 0.0); #EFEFEF\">The preliminary results of this pilot study encourage the synergic use of these regenerative modulating systems to improve the quality of the regenerated cartilage.</span> </div>"
      ],
      "text/plain": [
       "<IPython.core.display.HTML object>"
      ]
     },
     "metadata": {},
     "output_type": "display_data"
    },
    {
     "name": "stdout",
     "output_type": "stream",
     "text": [
      "record_id = 29\n"
     ]
    },
    {
     "data": {
      "text/html": [
       "<div style='display: flex; width: 400px; flex-wrap: wrap;'><span style=\"background-color: rgba(9, 221, 55,  0.5); margin: 7px; padding: 1px 5px; border: solid 3px ; border-color: rgba(9, 221, 55,  1); #EFEFEF\">concept_3 </span> <span style=\"background-color: rgba(9, 175, 221,  0.5); margin: 7px; padding: 1px 5px; border: solid 3px ; border-color: rgba(9, 175, 221,  1); #EFEFEF\">concept_6 </span> </div>"
      ],
      "text/plain": [
       "<IPython.core.display.HTML object>"
      ]
     },
     "metadata": {},
     "output_type": "display_data"
    },
    {
     "data": {
      "text/html": [
       "<div style='display: flex; width: 800px; flex-wrap: wrap;'><span style=\"display: inline; background-color: rgba(0, 0, 0, 0.0); padding: 1px 5px; border: solid 3px ; border-color: rgba(0, 0, 0, 0.0); #EFEFEF\">Microfracture combined with osteochondral paste implantation was more effective than microfracture alone for full-thickness cartilage repair PURPOSE: The aim of this study was to evaluate whether the microfracture combined with osteochondral paste implantation could promote the quality of the regenerated tissue in the knee joints of rabbits.</span><span style=\"display: inline; background-color: rgba(0, 0, 0, 0.0); padding: 1px 5px; border: solid 3px ; border-color: rgba(0, 0, 0, 0.0); #EFEFEF\">METHODS: Sixty-six New Zealand white rabbits were used.</span><span style=\"display: inline; background-color: rgba(0, 0, 0, 0.0); padding: 1px 5px; border: solid 3px ; border-color: rgba(0, 0, 0, 0.0); #EFEFEF\">Bilateral knee joints from the same rabbit were randomly divided into experimental group and microfracture group.</span><span style=\"display: inline; background-color: rgba(0, 0, 0, 0.0); padding: 1px 5px; border: solid 3px ; border-color: rgba(0, 0, 0, 0.0); #EFEFEF\">An articular cartilage defect was established in the femoral trochlear groove.</span><span style=\"display: inline; background-color: rgba(0, 0, 0, 0.0); padding: 1px 5px; border: solid 3px ; border-color: rgba(0, 0, 0, 0.0); #EFEFEF\">In the experimental group, the defect was microfractured and covered with osteochondral paste harvested from the intercondylar notch.</span><span style=\"display: inline; background-color: rgba(0, 0, 0, 0.0); padding: 1px 5px; border: solid 3px ; border-color: rgba(0, 0, 0, 0.0); #EFEFEF\">The regenerated tissues were harvested for gross morphology, histology, biochemistry and gene expression analysis at 4, 8 and 12 weeks postoperatively.</span><span style=\"display: inline; background-color: rgba(0, 0, 0, 0.0); padding: 1px 5px; border: solid 3px ; border-color: rgba(0, 0, 0, 0.0); #EFEFEF\">RESULTS: The regenerated tissue had a slowly mature process in both groups.</span><span style=\"display: inline; background-color: rgba(0, 0, 0, 0.0); padding: 1px 5px; border: solid 3px ; border-color: rgba(0, 0, 0, 0.0); #EFEFEF\">At 12 weeks, the regenerated tissue in the experimental group appeared much more thicker and white with higher percentages of defect filling macroscopically.</span><span style=\"display: inline; background-color: rgba(0, 0, 0, 0.0); padding: 1px 5px; border: solid 3px ; border-color: rgba(0, 0, 0, 0.0); #EFEFEF\">In histology, the experimental group found a majority of hyaline-like regenerate tissue with intense Safranin-O and collagen type II staining, while fibrocartilage-like tissue was mostly seen in the microfracture group with poor Safranin-O and collagen type II staining.</span><span style=\"display: inline; background-color: rgba(0, 0, 0, 0.0); padding: 1px 5px; border: solid 3px ; border-color: rgba(0, 0, 0, 0.0); #EFEFEF\">The experimental group had higher Wakitani scores and narrower acellular zones than those in the microfracture group (P \\textbackslashtextless 0.05).</span><span style=\"display: inline; background-color: rgba(0, 0, 0, 0.0); padding: 1px 5px; border: solid 3px ; border-color: rgba(0, 0, 0, 0.0); #EFEFEF\">For biochemical analysis, both the GAG content and the DNA-normalized GAG content saw a time-dependent increase with a much higher value found in the experimental group at 8 and 12 weeks (P \\textbackslashtextless 0.05).</span><span style=\"display: inline; background-color: rgba(0, 0, 0, 0.0); padding: 1px 5px; border: solid 3px ; border-color: rgba(0, 0, 0, 0.0); #EFEFEF\">On the contrary, the total DNA content decreased with time in both groups, and the difference between the two groups was only found at 4 and 8 weeks (P \\textbackslashtextless 0.05).</span><span style=\"display: inline; background-color: rgba(0, 0, 0, 0.0); padding: 1px 5px; border: solid 3px ; border-color: rgba(0, 0, 0, 0.0); #EFEFEF\">For gene expression analysis, the experimental group had much higher expression levels than the microfracture group as for collagen type II and aggrecan, but not for collagen type I.</span><span style=\"display: inline; background-color: rgba(0, 0, 0, 0.0); padding: 1px 5px; border: solid 3px ; border-color: rgba(0, 0, 0, 0.0); #EFEFEF\">CONCLUSION: Microfracture combined with paste implantation can result in improved quality of the reparative tissue and may have a positive effect on the integration to the surrounding cartilage in the rabbit model.</span><span style=\"display: inline; background-color: rgba(0, 0, 0, 0.0); padding: 1px 5px; border: solid 3px ; border-color: rgba(0, 0, 0, 0.0); #EFEFEF\">The technique offers a promising treatment option for cartilage defects and improves the regeneration of articular cartilage for patients with painful chondral lesions.</span> </div>"
      ],
      "text/plain": [
       "<IPython.core.display.HTML object>"
      ]
     },
     "metadata": {},
     "output_type": "display_data"
    },
    {
     "name": "stdout",
     "output_type": "stream",
     "text": [
      "record_id = 30\n"
     ]
    },
    {
     "data": {
      "text/html": [
       "<div style='display: flex; width: 400px; flex-wrap: wrap;'><span style=\"background-color: rgba(9, 221, 55,  0.5); margin: 7px; padding: 1px 5px; border: solid 3px ; border-color: rgba(9, 221, 55,  1); #EFEFEF\">concept_3 </span> <span style=\"background-color: rgba(9, 175, 221,  0.5); margin: 7px; padding: 1px 5px; border: solid 3px ; border-color: rgba(9, 175, 221,  1); #EFEFEF\">concept_6 </span> </div>"
      ],
      "text/plain": [
       "<IPython.core.display.HTML object>"
      ]
     },
     "metadata": {},
     "output_type": "display_data"
    },
    {
     "data": {
      "text/html": [
       "<div style='display: flex; width: 800px; flex-wrap: wrap;'><span style=\"display: inline; background-color: rgba(9, 221, 55,  0.2428804486989975); padding: 1px 5px; border: solid 3px ; border-color: rgba(9, 221, 55,  1); #EFEFEF\">AUTOLOGOUS CHONDROCYTE IMPLANTATION AND OSTEOCHONDRAL CYLINDER TRANSPLANTATION IN CARTILAGE REPAIR OF THE KNEE JOINT Current methods used to restore the joint surface in patients with localized articular cartilage defects include transplantation of an autologous osteochondral cylinder and implantation of autologous chondrocytes.</span><span style=\"display: inline; background-color: rgba(9, 221, 55,  0.297763854265213); padding: 1px 5px; border: solid 3px ; border-color: rgba(9, 221, 55,  1); #EFEFEF\">The purpose of this study was to evaluate the clinical and histological outcomes of these two techniques.We performed a prospective clinical study to investigate the two-year outcomes in forty patients with an articular cartilage lesion of the femoral condyle who had been randomly treated with either transplantation of an autologous osteochondral cylinder or implantation of autologous chondrocytes.</span><span style=\"display: inline; background-color: rgba(0, 0, 0, 0.0); padding: 1px 5px; border: solid 3px ; border-color: rgba(0, 0, 0, 0.0); #EFEFEF\">Biopsy specimens from representative patients of both groups were evaluated with histological staining, immunohistochemistry, and scanning electron microscopy.According to the postoperative Lysholm score, the recovery after autologous chondrocyte implantation was slower than that after osteochondral transplantation at six months (p < or = 0.015), twelve months (p < or = 0.001), and twenty-four months (p < or = 0.012).</span><span style=\"display: inline; background-color: rgba(0, 0, 0, 0.0); padding: 1px 5px; border: solid 3px ; border-color: rgba(0, 0, 0, 0.0); #EFEFEF\">On the basis of the Meyers score and the Tegner activity score, the results were equally good with the two methods two years after treatment.</span><span style=\"display: inline; background-color: rgba(0, 0, 0, 0.0); padding: 1px 5px; border: solid 3px ; border-color: rgba(0, 0, 0, 0.0); #EFEFEF\">Histomorphological evaluation of biopsy specimens within two years after autologous chondrocyte implantation demonstrated a complete, mechanically stable resurfacing of the defect in all patients.</span><span style=\"display: inline; background-color: rgba(0, 0, 0, 0.0); padding: 1px 5px; border: solid 3px ; border-color: rgba(0, 0, 0, 0.0); #EFEFEF\">The tissue consisted mainly of fibrocartilage, while localized areas of hyaline-like regenerative cartilage could be detected close to the subchondral bone.</span><span style=\"display: inline; background-color: rgba(0, 0, 0, 0.0); padding: 1px 5px; border: solid 3px ; border-color: rgba(0, 0, 0, 0.0); #EFEFEF\">Although a gap remained at the site of the transplantation in all five biopsy specimens examined as long as two years after osteochondral cylinder transplantation, histomorphological analysis and scanning electron microscopy revealed no differences between the osteochondral transplants and the surrounding original cartilage.Both treatments resulted in a decrease in symptoms.</span><span style=\"display: inline; background-color: rgba(0, 0, 0, 0.0); padding: 1px 5px; border: solid 3px ; border-color: rgba(0, 0, 0, 0.0); #EFEFEF\">However, the improvement provided by the autologous chondrocyte implantation lagged behind that provided by the osteochondral cylinder transplantation.</span><span style=\"display: inline; background-color: rgba(0, 0, 0, 0.0); padding: 1px 5px; border: solid 3px ; border-color: rgba(0, 0, 0, 0.0); #EFEFEF\">Histologically, the defects treated with autologous chondrocyte implantation were primarily filled with fibrocartilage, whereas the osteochondral cylinder transplants retained their hyaline character, although there was a persistent interface between the transplant and the surrounding original cartilage.</span><span style=\"display: inline; background-color: rgba(0, 0, 0, 0.0); padding: 1px 5px; border: solid 3px ; border-color: rgba(0, 0, 0, 0.0); #EFEFEF\">Limitations of our study included the small number of patients, the relatively short (two-year) follow-up, and the absence of a control group.</span> </div>"
      ],
      "text/plain": [
       "<IPython.core.display.HTML object>"
      ]
     },
     "metadata": {},
     "output_type": "display_data"
    },
    {
     "name": "stdout",
     "output_type": "stream",
     "text": [
      "record_id = 31\n"
     ]
    },
    {
     "data": {
      "text/html": [
       "<div style='display: flex; width: 400px; flex-wrap: wrap;'><span style=\"background-color: rgba(9, 221, 55,  0.5); margin: 7px; padding: 1px 5px; border: solid 3px ; border-color: rgba(9, 221, 55,  1); #EFEFEF\">concept_3 </span> <span style=\"background-color: rgba(9, 175, 221,  0.5); margin: 7px; padding: 1px 5px; border: solid 3px ; border-color: rgba(9, 175, 221,  1); #EFEFEF\">concept_6 </span> </div>"
      ],
      "text/plain": [
       "<IPython.core.display.HTML object>"
      ]
     },
     "metadata": {},
     "output_type": "display_data"
    },
    {
     "data": {
      "text/html": [
       "<div style='display: flex; width: 800px; flex-wrap: wrap;'><span style=\"display: inline; background-color: rgba(0, 0, 0, 0.0); padding: 1px 5px; border: solid 3px ; border-color: rgba(0, 0, 0, 0.0); #EFEFEF\">Osteochondral Allograft Transplantation of the Knee in Adolescent Patients and the Effect of Physeal Closure Purpose The primary aim was to compare osteochondral allograft (OCA) transplantation outcomes between adolescent patients aged 16 years or younger and those older than 16 years.</span><span style=\"display: inline; background-color: rgba(0, 0, 0, 0.0); padding: 1px 5px; border: solid 3px ; border-color: rgba(0, 0, 0, 0.0); #EFEFEF\">A secondary aim was to analyze the association between physeal closure status and outcomes.</span><span style=\"display: inline; background-color: rgba(0, 0, 0, 0.0); padding: 1px 5px; border: solid 3px ; border-color: rgba(0, 0, 0, 0.0); #EFEFEF\">Methods Consecutive patients aged 18 years or younger who underwent OCA transplantation with a minimum 2-year follow-up were identified from a prospectively collected database.</span><span style=\"display: inline; background-color: rgba(9, 221, 55,  0.2274193912744522); padding: 1px 5px; border: solid 3px ; border-color: rgba(9, 221, 55,  1); #EFEFEF\">Patients were divided into 2 groups: those aged 16 years or younger (group 1) and those aged 17 to 18 years (group 2).</span><span style=\"display: inline; background-color: rgba(9, 175, 221,  0.9678029417991638); padding: 1px 5px; border: solid 3px ; border-color: rgba(9, 175, 221,  1); #EFEFEF\">Outcomes included patient-reported outcomes (PROs), complications, reoperations, and cartilage revision surgery.</span><span style=\"display: inline; background-color: rgba(0, 0, 0, 0.0); padding: 1px 5px; border: solid 3px ; border-color: rgba(0, 0, 0, 0.0); #EFEFEF\">Outcomes were compared between groups, and physeal status was analyzed as a prognostic indicator.</span><span style=\"display: inline; background-color: rgba(0, 0, 0, 0.0); padding: 1px 5px; border: solid 3px ; border-color: rgba(0, 0, 0, 0.0); #EFEFEF\">Results A total of 36 patients met the inclusion criteria: 18 in group 1 and 18 in group 2.</span><span style=\"display: inline; background-color: rgba(9, 175, 221,  0.6528613567352295); padding: 1px 5px; border: solid 3px ; border-color: rgba(9, 175, 221,  1); #EFEFEF\">There were no significant differences between the groups in terms of demographic characteristics, prior surgical procedures, and surgical details, including concomitant procedures.</span><span style=\"display: inline; background-color: rgba(0, 0, 0, 0.0); padding: 1px 5px; border: solid 3px ; border-color: rgba(0, 0, 0, 0.0); #EFEFEF\">The mean overall follow-up period was 4.6 ± 2.5 years (range, 2-10.3 years), with no significant difference between the groups (P = .21).</span><span style=\"display: inline; background-color: rgba(9, 175, 221,  0.514157235622406); padding: 1px 5px; border: solid 3px ; border-color: rgba(9, 175, 221,  1); #EFEFEF\">There were 10 reoperations (28.8%), 4 in group 1 and 6 in group 2 (P = .47).</span><span style=\"display: inline; background-color: rgba(9, 175, 221,  0.5149998068809509); padding: 1px 5px; border: solid 3px ; border-color: rgba(9, 175, 221,  1); #EFEFEF\">The overall time to reoperation was 2.8 years and did not significantly differ between groups (P = .75).</span><span style=\"display: inline; background-color: rgba(0, 0, 0, 0.0); padding: 1px 5px; border: solid 3px ; border-color: rgba(0, 0, 0, 0.0); #EFEFEF\">The failure rate was 5.6%, with 1 patient in each group undergoing either graft debridement or revision OCA transplantation.</span><span style=\"display: inline; background-color: rgba(9, 175, 221,  0.5119022727012634); padding: 1px 5px; border: solid 3px ; border-color: rgba(9, 175, 221,  1); #EFEFEF\">All PROs were significantly improved postoperatively (P Conclusions OCA transplantation in adolescents results in significant PRO score improvement and a low failure rate, albeit reoperations are not uncommon.</span><span style=\"display: inline; background-color: rgba(0, 0, 0, 0.0); padding: 1px 5px; border: solid 3px ; border-color: rgba(0, 0, 0, 0.0); #EFEFEF\">Patients with closed physes show greater PRO score improvement than those with open physes.</span><span style=\"display: inline; background-color: rgba(0, 0, 0, 0.0); padding: 1px 5px; border: solid 3px ; border-color: rgba(0, 0, 0, 0.0); #EFEFEF\">Level of Evidence Level III, retrospective comparative study.</span> </div>"
      ],
      "text/plain": [
       "<IPython.core.display.HTML object>"
      ]
     },
     "metadata": {},
     "output_type": "display_data"
    },
    {
     "name": "stdout",
     "output_type": "stream",
     "text": [
      "record_id = 32\n"
     ]
    },
    {
     "data": {
      "text/html": [
       "<div style='display: flex; width: 400px; flex-wrap: wrap;'><span style=\"background-color: rgba(9, 221, 55,  0.5); margin: 7px; padding: 1px 5px; border: solid 3px ; border-color: rgba(9, 221, 55,  1); #EFEFEF\">concept_3 </span> <span style=\"background-color: rgba(9, 175, 221,  0.5); margin: 7px; padding: 1px 5px; border: solid 3px ; border-color: rgba(9, 175, 221,  1); #EFEFEF\">concept_6 </span> </div>"
      ],
      "text/plain": [
       "<IPython.core.display.HTML object>"
      ]
     },
     "metadata": {},
     "output_type": "display_data"
    },
    {
     "data": {
      "text/html": [
       "<div style='display: flex; width: 800px; flex-wrap: wrap;'><span style=\"display: inline; background-color: rgba(9, 175, 221,  0.9931195974349976); padding: 1px 5px; border: solid 3px ; border-color: rgba(9, 175, 221,  1); #EFEFEF\">Matrix-Applied Characterized Autologous Cultured Chondrocytes Versus Microfracture Background: Randomized controlled trials studying the efficacy and safety of matrix-applied characterized autologous cultured chondrocytes (MACI) versus microfracture (MFX) for treating cartilage defects are limited.</span><span style=\"display: inline; background-color: rgba(9, 175, 221,  0.41993197798728943); padding: 1px 5px; border: solid 3px ; border-color: rgba(9, 175, 221,  1); #EFEFEF\">Purpose: To compare the clinical efficacy and safety of MACI versus MFX in the treatment of patients with symptomatic cartilage defects of the knee.</span><span style=\"display: inline; background-color: rgba(9, 175, 221,  0.2918998599052429); padding: 1px 5px; border: solid 3px ; border-color: rgba(9, 175, 221,  1); #EFEFEF\">Study Design: Randomized controlled clinical trial; Level of evidence, 1.</span><span style=\"display: inline; background-color: rgba(9, 221, 55,  0.21014998853206635); padding: 1px 5px; border: solid 3px ; border-color: rgba(9, 221, 55,  1); #EFEFEF\">Methods: Patients enrolled in the SUMMIT (Demonstrate the Superiority of MACI implant to Microfracture Treatment) trial had ≥1 symptomatic focal cartilage defect (Outerbridge grade III or IV; ≥3 cm 2 ) of the femoral condyles or trochlea, with a baseline Knee Injury and Osteoarthritis Outcome Score (KOOS) pain value &lt;55.</span><span style=\"display: inline; background-color: rgba(0, 0, 0, 0.0); padding: 1px 5px; border: solid 3px ; border-color: rgba(0, 0, 0, 0.0); #EFEFEF\">The co–primary efficacy endpoint was the change in the KOOS pain and function subscores from baseline to 2 years.</span><span style=\"display: inline; background-color: rgba(0, 0, 0, 0.0); padding: 1px 5px; border: solid 3px ; border-color: rgba(0, 0, 0, 0.0); #EFEFEF\">Histological evaluation and magnetic resonance imaging (MRI) assessments of structural repair tissue, treatment failure, the remaining 3 KOOS subscales, and safety were also assessed.</span><span style=\"display: inline; background-color: rgba(0, 0, 0, 0.0); padding: 1px 5px; border: solid 3px ; border-color: rgba(0, 0, 0, 0.0); #EFEFEF\">Results: Of the 144 patients treated, 137 (95%) completed the 2-year assessment.</span><span style=\"display: inline; background-color: rgba(0, 0, 0, 0.0); padding: 1px 5px; border: solid 3px ; border-color: rgba(0, 0, 0, 0.0); #EFEFEF\">Patients had a mean age of 33.8 years and a mean lesion size of 4.8 cm 2 .</span><span style=\"display: inline; background-color: rgba(0, 0, 0, 0.0); padding: 1px 5px; border: solid 3px ; border-color: rgba(0, 0, 0, 0.0); #EFEFEF\">The mean KOOS pain and function subscores from baseline to 2 years were significantly more improved with MACI than with MFX (pain: MACI, 37.0 to 82.5 vs MFX, 35.5 to 70.9; function: MACI, 14.9 to 60.9 vs MFX, 12.6 to 48.7; P = .001).</span><span style=\"display: inline; background-color: rgba(0, 0, 0, 0.0); padding: 1px 5px; border: solid 3px ; border-color: rgba(0, 0, 0, 0.0); #EFEFEF\">A significant improvement in scores was also observed on the KOOS subscales of activities of daily living (MACI, 43.5 to 87.2 vs MFX, 42.6 to 75.8; P &lt; .001), knee-related quality of life (MACI, 18.8 to 56.2 vs MFX, 17.2 to 47.3; P = .029), and other symptoms (MACI, 48.3 to 83.7 vs MFX, 44.4 to 72.2; P &lt; .001) for patients treated with MACI compared with MFX.</span><span style=\"display: inline; background-color: rgba(0, 0, 0, 0.0); padding: 1px 5px; border: solid 3px ; border-color: rgba(0, 0, 0, 0.0); #EFEFEF\">Repair tissue quality was good as assessed by histology/MRI, but no difference was shown between treatments.</span><span style=\"display: inline; background-color: rgba(0, 0, 0, 0.0); padding: 1px 5px; border: solid 3px ; border-color: rgba(0, 0, 0, 0.0); #EFEFEF\">A low number of treatment failures (nonresponders: MACI, 12.5% vs MFX, 31.9%; P = .016) and no unexpected safety findings were reported.</span><span style=\"display: inline; background-color: rgba(0, 0, 0, 0.0); padding: 1px 5px; border: solid 3px ; border-color: rgba(0, 0, 0, 0.0); #EFEFEF\">Conclusion: The treatment of symptomatic cartilage knee defects ≥3 cm 2 in size using MACI was clinically and statistically significantly better than with MFX, with similar structural repair tissue and safety, in this heterogeneous patient population.</span><span style=\"display: inline; background-color: rgba(0, 0, 0, 0.0); padding: 1px 5px; border: solid 3px ; border-color: rgba(0, 0, 0, 0.0); #EFEFEF\">Moreover, MACI offers a more efficacious alternative than MFX with a similar safety profile for the treatment of symptomatic articular cartilage defects of the knee.</span> </div>"
      ],
      "text/plain": [
       "<IPython.core.display.HTML object>"
      ]
     },
     "metadata": {},
     "output_type": "display_data"
    },
    {
     "name": "stdout",
     "output_type": "stream",
     "text": [
      "record_id = 33\n"
     ]
    },
    {
     "data": {
      "text/html": [
       "<div style='display: flex; width: 400px; flex-wrap: wrap;'><span style=\"background-color: rgba(9, 221, 55,  0.5); margin: 7px; padding: 1px 5px; border: solid 3px ; border-color: rgba(9, 221, 55,  1); #EFEFEF\">concept_3 </span> <span style=\"background-color: rgba(9, 175, 221,  0.5); margin: 7px; padding: 1px 5px; border: solid 3px ; border-color: rgba(9, 175, 221,  1); #EFEFEF\">concept_6 </span> </div>"
      ],
      "text/plain": [
       "<IPython.core.display.HTML object>"
      ]
     },
     "metadata": {},
     "output_type": "display_data"
    },
    {
     "data": {
      "text/html": [
       "<div style='display: flex; width: 800px; flex-wrap: wrap;'><span style=\"display: inline; background-color: rgba(0, 0, 0, 0.0); padding: 1px 5px; border: solid 3px ; border-color: rgba(0, 0, 0, 0.0); #EFEFEF\">A Randomized Trial Comparing Accelerated and Traditional Approaches to Postoperative Weightbearing Rehabilitation After Matrix-Induced Autologous Chondrocyte Implantation Background: While structured postoperative rehabilitation after matrix-induced autologous chondrocyte implantation (MACI) is considered critical, very little has been made available on how best to progressively increase weightbearing and exercise after surgery.</span><span style=\"display: inline; background-color: rgba(0, 0, 0, 0.0); padding: 1px 5px; border: solid 3px ; border-color: rgba(0, 0, 0, 0.0); #EFEFEF\">Hypothesis: A significant improvement will exist in clinical and magnetic resonance imaging (MRI)–based scoring measures to 5 years after surgery.</span><span style=\"display: inline; background-color: rgba(0, 0, 0, 0.0); padding: 1px 5px; border: solid 3px ; border-color: rgba(0, 0, 0, 0.0); #EFEFEF\">Furthermore, there will be no significant differences in outcomes in MACI patients at 5 years when comparing a traditional and an accelerated postoperative weightbearing regimen.</span><span style=\"display: inline; background-color: rgba(9, 175, 221,  0.2427896112203598); padding: 1px 5px; border: solid 3px ; border-color: rgba(9, 175, 221,  1); #EFEFEF\">Finally, patient demographics, cartilage defect parameters, and injury/surgery history will be associated with graft outcome.</span><span style=\"display: inline; background-color: rgba(0, 0, 0, 0.0); padding: 1px 5px; border: solid 3px ; border-color: rgba(0, 0, 0, 0.0); #EFEFEF\">Study Design: Randomized controlled trial; Level of evidence, 1.</span><span style=\"display: inline; background-color: rgba(0, 0, 0, 0.0); padding: 1px 5px; border: solid 3px ; border-color: rgba(0, 0, 0, 0.0); #EFEFEF\">Methods: Clinical and radiological outcomes were studied in 70 patients who underwent MACI to the medial or lateral femoral condyle, in conjunction with either an “accelerated” or a “traditional” approach to postoperative weightbearing rehabilitation.</span><span style=\"display: inline; background-color: rgba(0, 0, 0, 0.0); padding: 1px 5px; border: solid 3px ; border-color: rgba(0, 0, 0, 0.0); #EFEFEF\">Under the accelerated protocol, patients reached full weightbearing at 8 weeks after surgery, compared with 11 weeks for the traditional group.</span><span style=\"display: inline; background-color: rgba(9, 175, 221,  0.2756008505821228); padding: 1px 5px; border: solid 3px ; border-color: rgba(9, 175, 221,  1); #EFEFEF\">Clinical measures (Knee Injury and Osteoarthritis Outcome Score [KOOS], Short-Form Health Survey [SF-36], visual analog scale [VAS], 6-minute walk test, and knee range of motion) were assessed before surgery and at 3, 6, 12, and 24 months and 5 years after surgery.</span><span style=\"display: inline; background-color: rgba(9, 175, 221,  0.27422699332237244); padding: 1px 5px; border: solid 3px ; border-color: rgba(9, 175, 221,  1); #EFEFEF\">High-resolution MRI was undertaken at 3, 12, and 24 months and 5 years after surgery and assessed 8 previously defined pertinent parameters of graft repair as well as a combined MRI composite score.</span><span style=\"display: inline; background-color: rgba(0, 0, 0, 0.0); padding: 1px 5px; border: solid 3px ; border-color: rgba(0, 0, 0, 0.0); #EFEFEF\">The association between clinical and MRI-based outcomes, patient demographics, chondral defect parameters, and injury/surgery history was investigated.</span><span style=\"display: inline; background-color: rgba(9, 175, 221,  0.24305814504623413); padding: 1px 5px; border: solid 3px ; border-color: rgba(9, 175, 221,  1); #EFEFEF\">Results: Of the 70 patients recruited, 63 (31 accelerated, 32 traditional) underwent clinical follow-up at 5 years; 58 (29 accelerated, 29 traditional) also underwent radiological assessment.</span><span style=\"display: inline; background-color: rgba(0, 0, 0, 0.0); padding: 1px 5px; border: solid 3px ; border-color: rgba(0, 0, 0, 0.0); #EFEFEF\">A significant time effect ( P &lt; .05) was demonstrated for all clinical and MRI-based scores over the 5-year period.</span><span style=\"display: inline; background-color: rgba(0, 0, 0, 0.0); padding: 1px 5px; border: solid 3px ; border-color: rgba(0, 0, 0, 0.0); #EFEFEF\">While the VAS demonstrated significantly less frequent pain at 5 years in the accelerated group, there were no other significant differences between the 2 groups.</span><span style=\"display: inline; background-color: rgba(0, 0, 0, 0.0); padding: 1px 5px; border: solid 3px ; border-color: rgba(0, 0, 0, 0.0); #EFEFEF\">Between 24 months and 5 years, a significant improvement ( P &lt; .05) in both groups was observed for the sport and recreation subscale of the KOOS as well as a significant decrease ( P &lt; .05) in active knee extension for the traditional group.</span><span style=\"display: inline; background-color: rgba(0, 0, 0, 0.0); padding: 1px 5px; border: solid 3px ; border-color: rgba(0, 0, 0, 0.0); #EFEFEF\">There were no significant differences ( P &gt; .05) in the MRI-based scores between 24 months and 5 years after surgery.</span><span style=\"display: inline; background-color: rgba(0, 0, 0, 0.0); padding: 1px 5px; border: solid 3px ; border-color: rgba(0, 0, 0, 0.0); #EFEFEF\">Patient age and defect size exhibited significant negative correlations ( P &lt; .05) with several MRI-based outcomes at 5 years, while there were no significant correlations ( P &gt; .05) between clinical and MRI-based outcomes.</span><span style=\"display: inline; background-color: rgba(0, 0, 0, 0.0); padding: 1px 5px; border: solid 3px ; border-color: rgba(0, 0, 0, 0.0); #EFEFEF\">At 5 years after surgery, 94% and 95% were satisfied with the ability of MACI to relieve their knee pain and improve their ability to undertake daily activities, respectively.</span><span style=\"display: inline; background-color: rgba(0, 0, 0, 0.0); padding: 1px 5px; border: solid 3px ; border-color: rgba(0, 0, 0, 0.0); #EFEFEF\">Conclusion: The outcomes of this randomized trial demonstrate a safe and effective accelerated rehabilitation protocol as well as a regimen that provides comparable, if not superior, clinical outcomes to patients throughout the postoperative timeline.</span> </div>"
      ],
      "text/plain": [
       "<IPython.core.display.HTML object>"
      ]
     },
     "metadata": {},
     "output_type": "display_data"
    },
    {
     "name": "stdout",
     "output_type": "stream",
     "text": [
      "record_id = 34\n"
     ]
    },
    {
     "data": {
      "text/html": [
       "<div style='display: flex; width: 400px; flex-wrap: wrap;'><span style=\"background-color: rgba(9, 221, 55,  0.5); margin: 7px; padding: 1px 5px; border: solid 3px ; border-color: rgba(9, 221, 55,  1); #EFEFEF\">concept_3 </span> <span style=\"background-color: rgba(9, 175, 221,  0.5); margin: 7px; padding: 1px 5px; border: solid 3px ; border-color: rgba(9, 175, 221,  1); #EFEFEF\">concept_6 </span> </div>"
      ],
      "text/plain": [
       "<IPython.core.display.HTML object>"
      ]
     },
     "metadata": {},
     "output_type": "display_data"
    },
    {
     "data": {
      "text/html": [
       "<div style='display: flex; width: 800px; flex-wrap: wrap;'><span style=\"display: inline; background-color: rgba(9, 221, 55,  0.9970965385437012); padding: 1px 5px; border: solid 3px ; border-color: rgba(9, 221, 55,  1); #EFEFEF\">One-step surgery with multipotent stem cells and Hyaluronan-based scaffold for the treatment of full-thickness chondral defects of the knee in patients older than 45 years The aim of this study is to prospectively evaluate the medium-term effectiveness and regenerative capability of autologous adult mesenchymal stem cells, harvested as bone marrow aspirate concentrate (BMAC), along with a hyaluronan-based scaffold (Hyalofast) in the treatment of ICRS grade 4 chondral lesions of the knee joint, in patients older than 45 years.A study group of 20 patients with an age >45 years (mean 50.0 ± 4.1 years) was compared to a control group of 20 patients with an age <45 years (mean 36.6 ± 5.0).</span><span style=\"display: inline; background-color: rgba(0, 0, 0, 0.0); padding: 1px 5px; border: solid 3px ; border-color: rgba(0, 0, 0, 0.0); #EFEFEF\">Patients were prospectively evaluated for 4 years.</span><span style=\"display: inline; background-color: rgba(0, 0, 0, 0.0); padding: 1px 5px; border: solid 3px ; border-color: rgba(0, 0, 0, 0.0); #EFEFEF\">All patients were evaluated with MRI, KOOS, IKDC, VAS and Tegner scores preoperatively and at two-year and final follow-up.At final follow-up, all scores significantly improved (P < 0.001) as follows: all KOOS score categories; Tegner 2 (range 0-4) to 6 (range 4-8) and 3 (range 0-6) to 6 (range 3-10); IKDC subjective (39.2 ± 16.5 to 82.2 ± 8.9) and (40.8 ± 13.9 to 79.4 ± 14.6), in the study and control group respectively.</span><span style=\"display: inline; background-color: rgba(0, 0, 0, 0.0); padding: 1px 5px; border: solid 3px ; border-color: rgba(0, 0, 0, 0.0); #EFEFEF\">In addition, we show that results are affected by lesion size and number but not from concomitant surgical procedures.</span><span style=\"display: inline; background-color: rgba(0, 0, 0, 0.0); padding: 1px 5px; border: solid 3px ; border-color: rgba(0, 0, 0, 0.0); #EFEFEF\">MRI showed complete filling in 80 % of patients in the study group and 71 % of patients in the control group.</span><span style=\"display: inline; background-color: rgba(0, 0, 0, 0.0); padding: 1px 5px; border: solid 3px ; border-color: rgba(0, 0, 0, 0.0); #EFEFEF\">Histological analysis conducted in three patients from the study and two patients from the control group revealed good tissue repair with a variable amount of hyaline-like tissue.Treatment of cartilage lesions with BMAC and Hyalofast is a viable and effective option that is mainly affected by lesion size and number and not by age.</span><span style=\"display: inline; background-color: rgba(0, 0, 0, 0.0); padding: 1px 5px; border: solid 3px ; border-color: rgba(0, 0, 0, 0.0); #EFEFEF\">In particular, it allows to address the >45 years population with functional outcomes that are comparable to younger patients at final follow-up.Prospective cohort study, Level II.</span> </div>"
      ],
      "text/plain": [
       "<IPython.core.display.HTML object>"
      ]
     },
     "metadata": {},
     "output_type": "display_data"
    },
    {
     "name": "stdout",
     "output_type": "stream",
     "text": [
      "record_id = 35\n"
     ]
    },
    {
     "data": {
      "text/html": [
       "<div style='display: flex; width: 400px; flex-wrap: wrap;'><span style=\"background-color: rgba(9, 221, 55,  0.5); margin: 7px; padding: 1px 5px; border: solid 3px ; border-color: rgba(9, 221, 55,  1); #EFEFEF\">concept_3 </span> <span style=\"background-color: rgba(9, 175, 221,  0.5); margin: 7px; padding: 1px 5px; border: solid 3px ; border-color: rgba(9, 175, 221,  1); #EFEFEF\">concept_6 </span> </div>"
      ],
      "text/plain": [
       "<IPython.core.display.HTML object>"
      ]
     },
     "metadata": {},
     "output_type": "display_data"
    },
    {
     "data": {
      "text/html": [
       "<div style='display: flex; width: 800px; flex-wrap: wrap;'><span style=\"display: inline; background-color: rgba(0, 0, 0, 0.0); padding: 1px 5px; border: solid 3px ; border-color: rgba(0, 0, 0, 0.0); #EFEFEF\">Penehyclidine hydrochloride postconditioning ameliorates cerebral ischemia-reperfusion injury: critical role of mitochondrial ATP sensitive potassium channel.</span><span style=\"display: inline; background-color: rgba(9, 175, 221,  0.5527310967445374); padding: 1px 5px; border: solid 3px ; border-color: rgba(9, 175, 221,  1); #EFEFEF\">Cerebral ischemia/reperfusion (CI/R) leads to disability and death worldwide.</span><span style=\"display: inline; background-color: rgba(0, 0, 0, 0.0); padding: 1px 5px; border: solid 3px ; border-color: rgba(0, 0, 0, 0.0); #EFEFEF\">However, limited approaches have been made in developing therapies to decrease the detrimental effects of CI/R.</span><span style=\"display: inline; background-color: rgba(9, 175, 221,  0.2134019136428833); padding: 1px 5px; border: solid 3px ; border-color: rgba(9, 175, 221,  1); #EFEFEF\">In the present study, we evaluated the effects of penehyclidine hydrochloride (PHC) postconditioning on CI/R injury and elucidated the underlying mechanisms.</span><span style=\"display: inline; background-color: rgba(9, 175, 221,  0.4053289294242859); padding: 1px 5px; border: solid 3px ; border-color: rgba(9, 175, 221,  1); #EFEFEF\">In CI/R rats, we showed that PHC postconditioning could effectively inhibit I/R-induced brain infarction and edema, and deficit of neurological function.</span><span style=\"display: inline; background-color: rgba(9, 221, 55,  0.5894951820373535); padding: 1px 5px; border: solid 3px ; border-color: rgba(9, 221, 55,  1); #EFEFEF\">In addition, PHC postconditioning significantly inhibited I/R-induced increase of proinflammatory cytokines and TUNEL-positive cell numbers.</span><span style=\"display: inline; background-color: rgba(9, 175, 221,  0.9789708256721497); padding: 1px 5px; border: solid 3px ; border-color: rgba(9, 175, 221,  1); #EFEFEF\">Moreover, the opening of mitochondrial permeability transition pore (mPTP) and oxidative stress resulting from I/R were suppressed notably by PHC postconditioning, as evidenced by increased absorbance at 540 nm in Ca2+-induced mitochondrial swelling test and increased SOD activity and decreased ROS and MDA level.</span><span style=\"display: inline; background-color: rgba(9, 221, 55,  0.2439247965812683); padding: 1px 5px; border: solid 3px ; border-color: rgba(9, 221, 55,  1); #EFEFEF\">5-hydroxydecanoate (5-HD), a specific inhibitor of MitoKATP, was used to evaluate the role of MitoKATP in the neuroprotective effect of PHC postconditioning.</span><span style=\"display: inline; background-color: rgba(0, 0, 0, 0.0); padding: 1px 5px; border: solid 3px ; border-color: rgba(0, 0, 0, 0.0); #EFEFEF\">The results showed that 5-HD could markedly suppress PHC postconditioning-caused inhibition of brain infarction and edema, deficit of neurological function, inflammation, apoptosis, opening of mPTP and oxidative stress induced by CI/R.</span><span style=\"display: inline; background-color: rgba(0, 0, 0, 0.0); padding: 1px 5px; border: solid 3px ; border-color: rgba(0, 0, 0, 0.0); #EFEFEF\">The results demonstrated that PHC postconditioning could protect against I/R injury in brain through the inhibition of oxidative stress, mPTP opening, apoptosis and inflammation.</span><span style=\"display: inline; background-color: rgba(0, 0, 0, 0.0); padding: 1px 5px; border: solid 3px ; border-color: rgba(0, 0, 0, 0.0); #EFEFEF\">Activation of MitoKATP was critical for PHC postconditioning-exhibited neuro-protective effects against I/R injury.</span><span style=\"display: inline; background-color: rgba(0, 0, 0, 0.0); padding: 1px 5px; border: solid 3px ; border-color: rgba(0, 0, 0, 0.0); #EFEFEF\">These findings may provide a novel foundation for therapeutic strategies targeting cerebral protection against I/R damage.</span> </div>"
      ],
      "text/plain": [
       "<IPython.core.display.HTML object>"
      ]
     },
     "metadata": {},
     "output_type": "display_data"
    },
    {
     "name": "stdout",
     "output_type": "stream",
     "text": [
      "record_id = 36\n"
     ]
    },
    {
     "data": {
      "text/html": [
       "<div style='display: flex; width: 400px; flex-wrap: wrap;'><span style=\"background-color: rgba(9, 221, 55,  0.5); margin: 7px; padding: 1px 5px; border: solid 3px ; border-color: rgba(9, 221, 55,  1); #EFEFEF\">concept_3 </span> <span style=\"background-color: rgba(9, 175, 221,  0.5); margin: 7px; padding: 1px 5px; border: solid 3px ; border-color: rgba(9, 175, 221,  1); #EFEFEF\">concept_6 </span> </div>"
      ],
      "text/plain": [
       "<IPython.core.display.HTML object>"
      ]
     },
     "metadata": {},
     "output_type": "display_data"
    },
    {
     "data": {
      "text/html": [
       "<div style='display: flex; width: 800px; flex-wrap: wrap;'><span style=\"display: inline; background-color: rgba(9, 175, 221,  0.9228271842002869); padding: 1px 5px; border: solid 3px ; border-color: rgba(9, 175, 221,  1); #EFEFEF\">Magnetic resonance imaging appearance of cartilage repair in the knee.</span><span style=\"display: inline; background-color: rgba(0, 0, 0, 0.0); padding: 1px 5px; border: solid 3px ; border-color: rgba(0, 0, 0, 0.0); #EFEFEF\">Assessment of surgically repaired cartilage lesions with standardized cartilage sensitive magnetic resonance imaging was done to evaluate the integrity, morphologic features, and signal of the articular surface, thereby obtaining information about the natural history of these procedures in the knee.</span><span style=\"display: inline; background-color: rgba(0, 0, 0, 0.0); padding: 1px 5px; border: solid 3px ; border-color: rgba(0, 0, 0, 0.0); #EFEFEF\">Magnetic resonance imaging also assessed the interface between the repaired and native cartilage, changes in the subchondral bone, and the appearance of cartilage over the opposite and adjacent (native) surfaces.</span><span style=\"display: inline; background-color: rgba(0, 0, 0, 0.0); padding: 1px 5px; border: solid 3px ; border-color: rgba(0, 0, 0, 0.0); #EFEFEF\">One hundred eighty magnetic resonance imaging examinations were obtained in 112 patients who had cartilage-resurfacing procedures, including 86 microfractures and 35 autologous chondrocyte implantations, at a mean of 15 and 13 months after surgery, respectively.</span><span style=\"display: inline; background-color: rgba(9, 175, 221,  0.9378213286399841); padding: 1px 5px; border: solid 3px ; border-color: rgba(9, 175, 221,  1); #EFEFEF\">Autologous chondrocyte implantations showed consistently better fill of the defects at all times compared with microfracture.</span><span style=\"display: inline; background-color: rgba(9, 175, 221,  0.5942749381065369); padding: 1px 5px; border: solid 3px ; border-color: rgba(9, 175, 221,  1); #EFEFEF\">The graft hypertrophied in 63% of surgeries.</span><span style=\"display: inline; background-color: rgba(9, 175, 221,  0.2817811369895935); padding: 1px 5px; border: solid 3px ; border-color: rgba(9, 175, 221,  1); #EFEFEF\">The repair cartilage over the microfracture generally was depressed with respect to native cartilage.</span><span style=\"display: inline; background-color: rgba(0, 0, 0, 0.0); padding: 1px 5px; border: solid 3px ; border-color: rgba(0, 0, 0, 0.0); #EFEFEF\">Propensity for bony overgrowth was most marked in the microfracture group, with loss of adjacent cartilage evident with progressive followup.</span> </div>"
      ],
      "text/plain": [
       "<IPython.core.display.HTML object>"
      ]
     },
     "metadata": {},
     "output_type": "display_data"
    },
    {
     "name": "stdout",
     "output_type": "stream",
     "text": [
      "record_id = 37\n"
     ]
    },
    {
     "data": {
      "text/html": [
       "<div style='display: flex; width: 400px; flex-wrap: wrap;'><span style=\"background-color: rgba(9, 221, 55,  0.5); margin: 7px; padding: 1px 5px; border: solid 3px ; border-color: rgba(9, 221, 55,  1); #EFEFEF\">concept_3 </span> <span style=\"background-color: rgba(9, 175, 221,  0.5); margin: 7px; padding: 1px 5px; border: solid 3px ; border-color: rgba(9, 175, 221,  1); #EFEFEF\">concept_6 </span> </div>"
      ],
      "text/plain": [
       "<IPython.core.display.HTML object>"
      ]
     },
     "metadata": {},
     "output_type": "display_data"
    },
    {
     "data": {
      "text/html": [
       "<div style='display: flex; width: 800px; flex-wrap: wrap;'><span style=\"display: inline; background-color: rgba(9, 175, 221,  0.9794992804527283); padding: 1px 5px; border: solid 3px ; border-color: rgba(9, 175, 221,  1); #EFEFEF\">Prospective Assessment of Outcomes After Primary Unipolar, Multisurface, and Bipolar Osteochondral Allograft Transplantations in the Knee: A Comparison of 2 Preservation Methods Background: Articular cartilage lesions in the knee remain a challenging clinical problem.</span><span style=\"display: inline; background-color: rgba(0, 0, 0, 0.0); padding: 1px 5px; border: solid 3px ; border-color: rgba(0, 0, 0, 0.0); #EFEFEF\">Hypothesis: A novel graft preservation method combined with surgical technique and patient management improvements would lead to consistently successful outcomes after osteochondral allograft (OCA) transplantation.</span><span style=\"display: inline; background-color: rgba(0, 0, 0, 0.0); padding: 1px 5px; border: solid 3px ; border-color: rgba(0, 0, 0, 0.0); #EFEFEF\">Study Design: Cohort study; Level of evidence, 3.</span><span style=\"display: inline; background-color: rgba(0, 0, 0, 0.0); padding: 1px 5px; border: solid 3px ; border-color: rgba(0, 0, 0, 0.0); #EFEFEF\">Methods: With institutional review board approval and informed consent, patients were prospectively enrolled into a registry to follow outcomes after OCA transplantation.</span><span style=\"display: inline; background-color: rgba(0, 0, 0, 0.0); padding: 1px 5px; border: solid 3px ; border-color: rgba(0, 0, 0, 0.0); #EFEFEF\">Patients were included when ≥1-year follow-up data were available, including complications and reoperations, patient-reported outcome measures (PROMs), compliance with rehabilitation, revisions, and failures.</span><span style=\"display: inline; background-color: rgba(0, 0, 0, 0.0); padding: 1px 5px; border: solid 3px ; border-color: rgba(0, 0, 0, 0.0); #EFEFEF\">Results: For patients meeting inclusion criteria (N = 194), mean ± SD age was 37.9 ± 12.2 years and mean BMI was 28.9 ± 5; 38% received unipolar transplants (44% multisurface) and 62% received bipolar transplants.</span><span style=\"display: inline; background-color: rgba(0, 0, 0, 0.0); padding: 1px 5px; border: solid 3px ; border-color: rgba(0, 0, 0, 0.0); #EFEFEF\">OCAs were preserved by standard tissue bank methods (standard preservation [SP]; 29%) or the novel method (Missouri Osteochondral Preservation System [MOPS]; 71%).</span><span style=\"display: inline; background-color: rgba(0, 0, 0, 0.0); padding: 1px 5px; border: solid 3px ; border-color: rgba(0, 0, 0, 0.0); #EFEFEF\">Initial success rates were 79% for all cases combined, 60% for SP, and 84% for MOPS.</span><span style=\"display: inline; background-color: rgba(0, 0, 0, 0.0); padding: 1px 5px; border: solid 3px ; border-color: rgba(0, 0, 0, 0.0); #EFEFEF\">MOPS cases were significantly ( P = .028) more likely to be associated with successful outcomes when compared with SP cases.</span><span style=\"display: inline; background-color: rgba(9, 175, 221,  0.26390010118484497); padding: 1px 5px; border: solid 3px ; border-color: rgba(9, 175, 221,  1); #EFEFEF\">PROMs improved significantly ( P &lt; .05) for all cohorts through 3 to 4 years of follow-up.</span><span style=\"display: inline; background-color: rgba(0, 0, 0, 0.0); padding: 1px 5px; border: solid 3px ; border-color: rgba(0, 0, 0, 0.0); #EFEFEF\">Revisions were performed in 19 cases (10%).</span><span style=\"display: inline; background-color: rgba(9, 175, 221,  0.21254993975162506); padding: 1px 5px; border: solid 3px ; border-color: rgba(9, 175, 221,  1); #EFEFEF\">MOPS grafts were associated with a significantly ( P = .0014) lower revision rate (5%) than SP grafts (21%).</span><span style=\"display: inline; background-color: rgba(0, 0, 0, 0.0); padding: 1px 5px; border: solid 3px ; border-color: rgba(0, 0, 0, 0.0); #EFEFEF\">Failures occurred in 26 patients (13%), with all undergoing total knee arthroplasty.</span><span style=\"display: inline; background-color: rgba(0, 0, 0, 0.0); padding: 1px 5px; border: solid 3px ; border-color: rgba(0, 0, 0, 0.0); #EFEFEF\">Bipolar cases were significantly ( P = .008) more likely to be associated with failure.</span><span style=\"display: inline; background-color: rgba(0, 0, 0, 0.0); padding: 1px 5px; border: solid 3px ; border-color: rgba(0, 0, 0, 0.0); #EFEFEF\">MOPS grafts were associated with a significantly ( P = .048) lower failure rate (11%) than were SP grafts (19%).</span><span style=\"display: inline; background-color: rgba(0, 0, 0, 0.0); padding: 1px 5px; border: solid 3px ; border-color: rgba(0, 0, 0, 0.0); #EFEFEF\">Noncompliance with the prescribed rehabilitation protocol was significantly ( P = .00008) more likely to be associated with failure.</span><span style=\"display: inline; background-color: rgba(0, 0, 0, 0.0); padding: 1px 5px; border: solid 3px ; border-color: rgba(0, 0, 0, 0.0); #EFEFEF\">Conclusion: Prospective data for 194 cases revealed that OCA transplantation for unipolar, multisurface, and bipolar cartilage restoration can be associated with consistently successful outcomes.</span><span style=\"display: inline; background-color: rgba(0, 0, 0, 0.0); padding: 1px 5px; border: solid 3px ; border-color: rgba(0, 0, 0, 0.0); #EFEFEF\">The 5% revision rate, 11% failure rate, 82%-94% survival probability estimates, and continually improving PROMs through postoperative 3 to 4 years underscore major advances in outcomes as compared with previous reports.</span><span style=\"display: inline; background-color: rgba(0, 0, 0, 0.0); padding: 1px 5px; border: solid 3px ; border-color: rgba(0, 0, 0, 0.0); #EFEFEF\">These encouraging results were realized with the use of a novel graft preservation method; autogenous bone marrow concentrate pretreatment of donor bone; advancements in graft cutting, implantation, and stabilization techniques; and procedure-specific rehabilitation protocols.</span> </div>"
      ],
      "text/plain": [
       "<IPython.core.display.HTML object>"
      ]
     },
     "metadata": {},
     "output_type": "display_data"
    },
    {
     "name": "stdout",
     "output_type": "stream",
     "text": [
      "record_id = 38\n"
     ]
    },
    {
     "data": {
      "text/html": [
       "<div style='display: flex; width: 400px; flex-wrap: wrap;'><span style=\"background-color: rgba(9, 221, 55,  0.5); margin: 7px; padding: 1px 5px; border: solid 3px ; border-color: rgba(9, 221, 55,  1); #EFEFEF\">concept_3 </span> <span style=\"background-color: rgba(9, 175, 221,  0.5); margin: 7px; padding: 1px 5px; border: solid 3px ; border-color: rgba(9, 175, 221,  1); #EFEFEF\">concept_6 </span> </div>"
      ],
      "text/plain": [
       "<IPython.core.display.HTML object>"
      ]
     },
     "metadata": {},
     "output_type": "display_data"
    },
    {
     "data": {
      "text/html": [
       "<div style='display: flex; width: 800px; flex-wrap: wrap;'><span style=\"display: inline; background-color: rgba(9, 221, 55,  0.6757333278656006); padding: 1px 5px; border: solid 3px ; border-color: rgba(9, 221, 55,  1); #EFEFEF\">Comparison of two different matrix-based autologous chondrocyte transplantation systems: 1 year follow-up results Purpose The treatment of full-thickness cartilage defects of the knee is a common problem in orthopaedic surgery.</span><span style=\"display: inline; background-color: rgba(9, 175, 221,  0.41358429193496704); padding: 1px 5px; border: solid 3px ; border-color: rgba(9, 175, 221,  1); #EFEFEF\">Autologous chondrocyte transplantation (ACT) is one of the few reliable treatment options of cartilage defects with good long-term outcomes.</span><span style=\"display: inline; background-color: rgba(9, 175, 221,  0.6796037554740906); padding: 1px 5px; border: solid 3px ; border-color: rgba(9, 175, 221,  1); #EFEFEF\">The improvement of ACT led to the matrix-based ACT (MACT).</span><span style=\"display: inline; background-color: rgba(9, 175, 221,  0.49767521023750305); padding: 1px 5px; border: solid 3px ; border-color: rgba(9, 175, 221,  1); #EFEFEF\">The purpose of the study was to compare two different commercially available MACT systems.</span><span style=\"display: inline; background-color: rgba(9, 175, 221,  0.9781360030174255); padding: 1px 5px; border: solid 3px ; border-color: rgba(9, 175, 221,  1); #EFEFEF\">Methods Eleven patients with a cartilage defect of the knee were treated with the MACI(A (R)) system and another nine patients with the CaRes(A (R)) implant.</span><span style=\"display: inline; background-color: rgba(0, 0, 0, 0.0); padding: 1px 5px; border: solid 3px ; border-color: rgba(0, 0, 0, 0.0); #EFEFEF\">The patients were prospectively followed and re-examined after one year.</span><span style=\"display: inline; background-color: rgba(0, 0, 0, 0.0); padding: 1px 5px; border: solid 3px ; border-color: rgba(0, 0, 0, 0.0); #EFEFEF\">Results One year after surgery all but one patient have significantly improved in their clinical outcome.</span><span style=\"display: inline; background-color: rgba(9, 175, 221,  0.42476126551628113); padding: 1px 5px; border: solid 3px ; border-color: rgba(9, 175, 221,  1); #EFEFEF\">Both types of MACT revealed similar results in terms of increase in level of activity, pain relief and knee function.</span><span style=\"display: inline; background-color: rgba(0, 0, 0, 0.0); padding: 1px 5px; border: solid 3px ; border-color: rgba(0, 0, 0, 0.0); #EFEFEF\">Conclusion The study showed that MACT is a good therapeutic option for full-size defects of the femoral condyle.</span><span style=\"display: inline; background-color: rgba(9, 175, 221,  0.45498934388160706); padding: 1px 5px; border: solid 3px ; border-color: rgba(9, 175, 221,  1); #EFEFEF\">The MACI(A (R)) implant seems to be easier to handle which is reflected by smaller incisions and a shorter operation time.</span> </div>"
      ],
      "text/plain": [
       "<IPython.core.display.HTML object>"
      ]
     },
     "metadata": {},
     "output_type": "display_data"
    },
    {
     "name": "stdout",
     "output_type": "stream",
     "text": [
      "record_id = 39\n"
     ]
    },
    {
     "data": {
      "text/html": [
       "<div style='display: flex; width: 400px; flex-wrap: wrap;'><span style=\"background-color: rgba(9, 221, 55,  0.5); margin: 7px; padding: 1px 5px; border: solid 3px ; border-color: rgba(9, 221, 55,  1); #EFEFEF\">concept_3 </span> <span style=\"background-color: rgba(9, 175, 221,  0.5); margin: 7px; padding: 1px 5px; border: solid 3px ; border-color: rgba(9, 175, 221,  1); #EFEFEF\">concept_6 </span> </div>"
      ],
      "text/plain": [
       "<IPython.core.display.HTML object>"
      ]
     },
     "metadata": {},
     "output_type": "display_data"
    },
    {
     "data": {
      "text/html": [
       "<div style='display: flex; width: 800px; flex-wrap: wrap;'><span style=\"display: inline; background-color: rgba(9, 175, 221,  0.994670569896698); padding: 1px 5px; border: solid 3px ; border-color: rgba(9, 175, 221,  1); #EFEFEF\">Die MRT in der Verlaufskontrolle nach matrixgest�tzer autologer Chondrozytenimplantation (MACI�) und Mikrofrakturierung Aim.</span><span style=\"display: inline; background-color: rgba(9, 175, 221,  0.3913978934288025); padding: 1px 5px; border: solid 3px ; border-color: rgba(9, 175, 221,  1); #EFEFEF\">Matrix-guided autologous chondrocyte implantation (MACI(R)) was compared with microfracture (MFX) to demonstrate the reconstitution of cartilage over a two-year period using the morphological capabilities of MRI.</span><span style=\"display: inline; background-color: rgba(0, 0, 0, 0.0); padding: 1px 5px; border: solid 3px ; border-color: rgba(0, 0, 0, 0.0); #EFEFEF\">Patients and methods.</span><span style=\"display: inline; background-color: rgba(0, 0, 0, 0.0); padding: 1px 5px; border: solid 3px ; border-color: rgba(0, 0, 0, 0.0); #EFEFEF\">27 patients (9 females and 18 males, mean age 33 years) underwent MACI on the knee joint.</span><span style=\"display: inline; background-color: rgba(9, 175, 221,  0.24478009343147278); padding: 1px 5px; border: solid 3px ; border-color: rgba(9, 175, 221,  1); #EFEFEF\">The defects originated from trauma (15 cases), osteochondritis dissecans (8 cases) and chronic repetitive trauma (4 cases) and were localized at the condyles (24 cases) or patella (3 cases).</span><span style=\"display: inline; background-color: rgba(0, 0, 0, 0.0); padding: 1px 5px; border: solid 3px ; border-color: rgba(0, 0, 0, 0.0); #EFEFEF\">All patients were examined postoperatively after 1, 3,6,12 and 24 months with a 1,5 T unit (Gyroscan, Philips) using proton- and T2w spinecho and T1w fatsuppressed 3D gradientecho sequences.</span><span style=\"display: inline; background-color: rgba(0, 0, 0, 0.0); padding: 1px 5px; border: solid 3px ; border-color: rgba(0, 0, 0, 0.0); #EFEFEF\">We measured the signal intensities of the implant and neighbouring cartilage to calculate the contrast-to-noise ratio (CNR), and the thickness of cartilage and implant layers to define the defect filling rate.</span><span style=\"display: inline; background-color: rgba(0, 0, 0, 0.0); padding: 1px 5px; border: solid 3px ; border-color: rgba(0, 0, 0, 0.0); #EFEFEF\">Finally, partial and complete remission was defined on MRI and compared with clinical data and morphology on MRI.</span><span style=\"display: inline; background-color: rgba(0, 0, 0, 0.0); padding: 1px 5px; border: solid 3px ; border-color: rgba(0, 0, 0, 0.0); #EFEFEF\">Additionally, 7 patients were treated with MFX and, subsequently examined on MRI with the same protocol.</span><span style=\"display: inline; background-color: rgba(0, 0, 0, 0.0); padding: 1px 5px; border: solid 3px ; border-color: rgba(0, 0, 0, 0.0); #EFEFEF\">Results.</span><span style=\"display: inline; background-color: rgba(0, 0, 0, 0.0); padding: 1px 5px; border: solid 3px ; border-color: rgba(0, 0, 0, 0.0); #EFEFEF\">After MACI, MRI showed a partial but no complete equilibration of signal intensities of implant and adjacent cartilage over the 1 and 2 year follow-up periods which was shown by reduction of CNR from 21 to 10 on 3D-GE and from 26 to 9 on T2w SE sequences.</span><span style=\"display: inline; background-color: rgba(0, 0, 0, 0.0); padding: 1px 5px; border: solid 3px ; border-color: rgba(0, 0, 0, 0.0); #EFEFEF\">Continuous growth of the implants resulted in an increased filling of the defects starting at 40% after 0.5 year to 85% after 1 or 2 years.</span><span style=\"display: inline; background-color: rgba(0, 0, 0, 0.0); padding: 1px 5px; border: solid 3px ; border-color: rgba(0, 0, 0, 0.0); #EFEFEF\">Complete remission was found on MRI in 17/27 cases, and remission rate was influenced by etiology of cartilage defect but not by age and gender of patients or size and location of defects.</span><span style=\"display: inline; background-color: rgba(0, 0, 0, 0.0); padding: 1px 5px; border: solid 3px ; border-color: rgba(0, 0, 0, 0.0); #EFEFEF\">The Lysholm-Gillquist score improved from 49.7 to 97.3.</span><span style=\"display: inline; background-color: rgba(0, 0, 0, 0.0); padding: 1px 5px; border: solid 3px ; border-color: rgba(0, 0, 0, 0.0); #EFEFEF\">After MFX equilibration of signal intensities and growth of the regenerating fibrous cartilage was less pronounced and complete remission was found in only 2/7 cases.</span><span style=\"display: inline; background-color: rgba(0, 0, 0, 0.0); padding: 1px 5px; border: solid 3px ; border-color: rgba(0, 0, 0, 0.0); #EFEFEF\">In addition, the clinical score improved from 45.5 to 74.2.</span><span style=\"display: inline; background-color: rgba(0, 0, 0, 0.0); padding: 1px 5px; border: solid 3px ; border-color: rgba(0, 0, 0, 0.0); #EFEFEF\">Conclusion.</span><span style=\"display: inline; background-color: rgba(0, 0, 0, 0.0); padding: 1px 5px; border: solid 3px ; border-color: rgba(0, 0, 0, 0.0); #EFEFEF\">Direct imaging of cartilage with MRI and assessment of clinical scores allowed improved documentation of the outcome after MACI and MFX.</span><span style=\"display: inline; background-color: rgba(0, 0, 0, 0.0); padding: 1px 5px; border: solid 3px ; border-color: rgba(0, 0, 0, 0.0); #EFEFEF\">MRI showed that MACI is superior to MFX concerning rate of complete remissions and filling of the defect with regenerating tissue.</span><span style=\"display: inline; background-color: rgba(0, 0, 0, 0.0); padding: 1px 5px; border: solid 3px ; border-color: rgba(0, 0, 0, 0.0); #EFEFEF\">Clinical examinations showed better scores for MACI than for MFX.</span> </div>"
      ],
      "text/plain": [
       "<IPython.core.display.HTML object>"
      ]
     },
     "metadata": {},
     "output_type": "display_data"
    }
   ],
   "source": [
    "for record_id in range(50):\n",
    "    print(f\"{record_id = }\")\n",
    "    alignment = occlude_concepts(df.iloc[record_id], top_cids)\n",
    "    visualize_concepts(alignment, 0.2)"
   ]
  },
  {
   "cell_type": "markdown",
   "metadata": {},
   "source": [
    "<div style='display: flex; width: 800px; flex-wrap: wrap; font-size: 14px;'><span style=\"display: inline; background-color: rgba(9, 221, 55,  0.7380246520042419); padding: 1px 5px; border: solid 3px ; border-color: rgba(9, 221, 55,  1); #EFEFEF\">Comparative Clinical Observation of Arthroscopic Microfracture in the Presence and Absence of a Stromal Vascular Fraction Injection for Osteoarthritis Abstract Osteoarthritis (OA) is a degenerative cartilage disease that is characterized by a local inflammatory reaction.</span><span style=\"display: inline; background-color: rgba(9, 221, 161,  0.4463752508163452); padding: 1px 5px; border: solid 3px ; border-color: rgba(9, 221, 161,  1); #EFEFEF\">Consequently, many studies have been performed to identify suitable prevention and treatment interventions.</span><span style=\"display: inline; background-color: rgba(9, 221, 55,  0.9877069592475891); padding: 1px 5px; border: solid 3px ; border-color: rgba(9, 221, 55,  1); #EFEFEF\">In recent years, both arthroscopic microfracture (AM) and stem cell therapy have been used clinically to treat OA.</span><span style=\"display: inline; background-color: rgba(0, 0, 0, 0); padding: 1px 5px; border: solid 3px ; border-color: rgba(0, 0, 0, 0); #EFEFEF\">This study aimed to evaluate the clinical effects of AM in the presence and absence of a stromal vascular fraction (SVF) injection in the management of patients with OA.</span><span style=\"display: inline; background-color: rgba(9, 221, 55,  0.2114211767911911); padding: 1px 5px; border: solid 3px ; border-color: rgba(9, 221, 55,  1); #EFEFEF\">Thirty patients with grade 2 or 3 (Lawrence scale) OA of the knee participated in this study.</span><span style=\"display: inline; background-color: rgba(0, 0, 0, 0); padding: 1px 5px; border: solid 3px ; border-color: rgba(0, 0, 0, 0); #EFEFEF\">Placebo group patients (n = 15) received AM alone; treatment group patients (n = 15) received AM and an adipose tissue-derived SVF injection.</span><span style=\"display: inline; background-color: rgba(9, 221, 55,  0.31701868772506714); padding: 1px 5px; border: solid 3px ; border-color: rgba(9, 221, 55,  1); #EFEFEF\">The SVF was suspended in platelet-rich plasma (PRP) before injection into the joint.</span><span style=\"display: inline; background-color: rgba(0, 0, 0, 0); padding: 1px 5px; border: solid 3px ; border-color: rgba(0, 0, 0, 0); #EFEFEF\">Patient groups were monitored and scored with the Western Ontario and McMaster Universities Arthritis Index (WOMAC), Lysholm, Visual Analog Pain Scale (VAS), and modified Outerbridge classifications before treatment and at 6, 12, and 18 months post-treatment.</span><span style=\"display: inline; background-color: rgba(0, 0, 0, 0); padding: 1px 5px; border: solid 3px ; border-color: rgba(0, 0, 0, 0); #EFEFEF\">Bone marrow edema was also assessed at these time points.</span><span style=\"display: inline; background-color: rgba(0, 0, 0, 0); padding: 1px 5px; border: solid 3px ; border-color: rgba(0, 0, 0, 0); #EFEFEF\">Patients were evaluated for knee activity (joint motion amplitude) and adverse effects relating to surgery and stem cell injection.</span><span style=\"display: inline; background-color: rgba(0, 0, 0, 0); padding: 1px 5px; border: solid 3px ; border-color: rgba(0, 0, 0, 0); #EFEFEF\">Treatment efficacy was significantly different between placebo and treatment groups.</span><span style=\"display: inline; background-color: rgba(9, 221, 161,  0.2329147607088089); padding: 1px 5px; border: solid 3px ; border-color: rgba(9, 221, 161,  1); #EFEFEF\">All treatment group patients had significantly reduced pain and WOMAC scores, and increased Lysholm and VAS scores compared with the placebo group.</span><span style=\"display: inline; background-color: rgba(9, 221, 161,  0.31319883465766907); padding: 1px 5px; border: solid 3px ; border-color: rgba(9, 221, 161,  1); #EFEFEF\">These findings suggest that the SVF/PRP injection efficiently improved OA for 18 months after treatment.</span><span style=\"display: inline; background-color: rgba(0, 0, 0, 0); padding: 1px 5px; border: solid 3px ; border-color: rgba(0, 0, 0, 0); #EFEFEF\">This study will be continuously monitored for additional 24 months.</span> </div>"
   ]
  }
 ],
 "metadata": {
  "kernelspec": {
   "display_name": ".venv",
   "language": "python",
   "name": "python3"
  },
  "language_info": {
   "codemirror_mode": {
    "name": "ipython",
    "version": 3
   },
   "file_extension": ".py",
   "mimetype": "text/x-python",
   "name": "python",
   "nbconvert_exporter": "python",
   "pygments_lexer": "ipython3",
   "version": "3.12.5"
  }
 },
 "nbformat": 4,
 "nbformat_minor": 2
}
