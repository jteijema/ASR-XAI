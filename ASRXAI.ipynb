{
 "cells": [
  {
   "cell_type": "code",
   "execution_count": 1,
   "metadata": {},
   "outputs": [
    {
     "name": "stdout",
     "output_type": "stream",
     "text": [
      "2025-08-07 17:10:54,742 SequenceTagger predicts: Dictionary with 47 tags: O, S-NP, B-NP, E-NP, I-NP, S-VP, B-VP, E-VP, I-VP, S-PP, B-PP, E-PP, I-PP, S-ADVP, B-ADVP, E-ADVP, I-ADVP, S-SBAR, B-SBAR, E-SBAR, I-SBAR, S-ADJP, B-ADJP, E-ADJP, I-ADJP, S-PRT, B-PRT, E-PRT, I-PRT, S-CONJP, B-CONJP, E-CONJP, I-CONJP, S-INTJ, B-INTJ, E-INTJ, I-INTJ, S-LST, B-LST, E-LST, I-LST, S-UCP, B-UCP, E-UCP, I-UCP, <START>, <STOP>\n"
     ]
    },
    {
     "name": "stderr",
     "output_type": "stream",
     "text": [
      "[nltk_data] Downloading package punkt to\n",
      "[nltk_data]     C:\\Users\\5927226\\AppData\\Roaming\\nltk_data...\n",
      "[nltk_data]   Package punkt is already up-to-date!\n",
      "[nltk_data] Downloading package punkt to\n",
      "[nltk_data]     C:\\Users\\5927226\\AppData\\Roaming\\nltk_data...\n",
      "[nltk_data]   Package punkt is already up-to-date!\n"
     ]
    }
   ],
   "source": [
    "import asreview as asr\n",
    "from asreview.models.balancers import Balanced\n",
    "from asreview.models.queriers import Max\n",
    "from asreview.models.classifiers import SVM\n",
    "from asreviewcontrib.dory.classifiers.neural_networks import DynamicNNClassifier  # noqa:F401\n",
    "from asreviewcontrib.dory.feature_extractors.transformer_embeddings import MXBAI\n",
    "from sklearn.decomposition import NMF\n",
    "from cockatiel.cockatiel.sampling import ScipySobolSequence\n",
    "from cockatiel.cockatiel.sobol import SobolEstimator\n",
    "import matplotlib.pyplot as plt\n",
    "import numpy as np\n",
    "import pandas as pd\n",
    "from dataclasses import dataclass, field\n",
    "import os\n",
    "import nltk\n",
    "from nltk.tokenize import sent_tokenize\n",
    "from nltk.corpus import stopwords\n",
    "from nltk.stem import PorterStemmer\n",
    "from nltk.tokenize.punkt import PunktSentenceTokenizer, PunktLanguageVars\n",
    "from collections import Counter\n",
    "import re\n",
    "import imgkit\n",
    "from imgkit.config import Config\n",
    "from IPython.core.display import HTML\n",
    "import spacy\n",
    "from tqdm import tqdm\n",
    "\n",
    "# nlp = spacy.load(\"en_core_web_sm\")\n",
    "# # python -m spacy download en_core_web_sm\n",
    "# nltk.download(info_or_id=\"punkt_tab\")\n",
    "# nltk.download(\"stopwords\")\n",
    "# stop_words = set(stopwords.words(\"english\"))"
   ]
  },
  {
   "cell_type": "code",
   "execution_count": 2,
   "metadata": {},
   "outputs": [],
   "source": [
    "# Load Data and Initialize Active Learning Cycle\n",
    "\n",
    "dataset = \"Hall_2012\"\n",
    "\n",
    "data = asr.load_dataset(f\"data/{dataset}.csv\")\n",
    "\n",
    "alc = asr.ActiveLearningCycle(\n",
    "    # classifier=DynamicNNClassifier(),\n",
    "    classifier=SVM(max_iter=5000, loss=\"squared_hinge\", C=0.067),  # classifier c(x)\n",
    "    feature_extractor=MXBAI(normalize=False),\n",
    "    balancer=Balanced(ratio=9.724),\n",
    "    querier=Max(),\n",
    ")"
   ]
  },
  {
   "cell_type": "code",
   "execution_count": 3,
   "metadata": {},
   "outputs": [],
   "source": [
    "# Load or create the embedding matrix\n",
    "\n",
    "embedding_path = f\"data/{dataset}_embedding_matrix.pkl\"\n",
    "\n",
    "if not os.path.exists(embedding_path):\n",
    "    embedding_matrix = alc.transform(data)\n",
    "    pd.DataFrame(embedding_matrix).to_pickle(embedding_path)\n",
    "    embedding_matrix = np.array(embedding_matrix)\n",
    "else:\n",
    "    embedding_matrix = pd.read_pickle(embedding_path)\n",
    "    embedding_matrix = np.array(embedding_matrix)\n"
   ]
  },
  {
   "cell_type": "code",
   "execution_count": 4,
   "metadata": {},
   "outputs": [],
   "source": [
    "# Normalize the embedding matrix\n",
    "\n",
    "def normalize_embedding(fm) -> np.ndarray:\n",
    "    return (fm - fm.min()) / (fm.max() - fm.min())\n",
    "\n",
    "\n",
    "@dataclass\n",
    "class EmbeddingNormalizer:\n",
    "    base_embedding: np.ndarray\n",
    "    embedding_min: float = field(init=False)\n",
    "    embedding_max: float = field(init=False)\n",
    "\n",
    "    def __post_init__(self):\n",
    "        self.embedding_min = float(self.base_embedding.min())\n",
    "        self.embedding_max = float(self.base_embedding.max())\n",
    "\n",
    "    def normalize(self, embedding=None) -> np.ndarray:\n",
    "        if embedding is None:\n",
    "            embedding = self.base_embedding\n",
    "        if self.embedding_max - self.embedding_min == 0:\n",
    "            return np.zeros_like(embedding)\n",
    "        return (embedding - self.embedding_min) / (\n",
    "            self.embedding_max - self.embedding_min\n",
    "        )\n",
    "\n",
    "\n",
    "embedding_normalizer = EmbeddingNormalizer(embedding_matrix)\n",
    "\n",
    "normalized_embedding_matrix: np.ndarray = embedding_normalizer.normalize(\n",
    "    embedding_matrix\n",
    ")"
   ]
  },
  {
   "cell_type": "code",
   "execution_count": 5,
   "metadata": {},
   "outputs": [
    {
     "name": "stderr",
     "output_type": "stream",
     "text": [
      "Relevant records found: 100%|██████████| 104/104 [15:39<00:00,  9.12s/it] \n",
      "Records labeled       :  13%|█▎        | 1124/8793 [15:39<1:57:17,  1.09it/s]"
     ]
    },
    {
     "name": "stdout",
     "output_type": "stream",
     "text": [
      "\n",
      "Loss: 0.005\n",
      "NDCG: 0.871\n"
     ]
    },
    {
     "name": "stderr",
     "output_type": "stream",
     "text": [
      "\n"
     ]
    }
   ],
   "source": [
    "# Run ASReview simulation\n",
    "simulate = asr.Simulate(  # c(A) in the cycler\n",
    "    X=normalized_embedding_matrix,\n",
    "    labels=list(data[\"included\"]),\n",
    "    cycles=[alc],\n",
    "    skip_transform=True,\n",
    ")\n",
    "\n",
    "simulate.label(list(range(100)))\n",
    "simulate.review()"
   ]
  },
  {
   "cell_type": "code",
   "execution_count": 6,
   "metadata": {},
   "outputs": [],
   "source": [
    "# Create helper functions and classes for Sobol sensitivity analysis\n",
    "\n",
    "class JansenEstimator(SobolEstimator):\n",
    "    def __call__(self, masks, outputs, nb_design):\n",
    "        nb_dim = self.masks_dim(masks)\n",
    "        sampling_a, _, replication_c = self.split_abc(outputs, nb_design, nb_dim)\n",
    "        mu_a = np.mean(sampling_a)\n",
    "        var = np.sum([(v - mu_a) ** 2 for v in sampling_a]) / (len(sampling_a) - 1)\n",
    "        eps = 1e-12\n",
    "        if var < eps:\n",
    "            return np.zeros(nb_dim)\n",
    "        stis = [\n",
    "            np.sum((sampling_a - replication_c[i]) ** 2.0) / (2 * nb_design * var)\n",
    "            for i in range(nb_dim)\n",
    "        ]\n",
    "        return self.post_process(stis, masks)\n",
    "\n",
    "def get_proba_from_cycle(X: np.ndarray, simulate: asr.Simulate = simulate):\n",
    "    try:\n",
    "        proba = simulate.cycles[0].classifier.predict_proba(X)\n",
    "        return proba\n",
    "\n",
    "    except AttributeError:\n",
    "        try:\n",
    "            scores = simulate.cycles[0].classifier.decision_function(X).reshape(-1, 1)\n",
    "            pos = np.maximum(scores, 0.0).reshape(-1, 1)\n",
    "            neg = np.maximum(-scores, 0.0).reshape(-1, 1)\n",
    "            return np.hstack([neg, pos])\n",
    "\n",
    "        except AttributeError:\n",
    "            raise AttributeError(\n",
    "                \"Not possible to compute probabilities or \"\n",
    "                \"decision function for this classifier.\"\n",
    "            )\n",
    "\n",
    "def sobol_importance(\n",
    "    activations: np.ndarray,\n",
    "    class_id: int,\n",
    "    W: np.ndarray,\n",
    "    components: int,\n",
    "):\n",
    "    sobol_nb_design: int = 64\n",
    "    n_samples = activations.shape[0]\n",
    "    masks = ScipySobolSequence()(components, nb_design=sobol_nb_design)\n",
    "    estimator = JansenEstimator()\n",
    "\n",
    "    importances = []\n",
    "\n",
    "    for i in range(n_samples):\n",
    "        act = activations[i]\n",
    "\n",
    "        perturbation = masks @ W\n",
    "        perturbated_activations = act[None, :] + perturbation * act[None, :]\n",
    "        y_pred = get_proba_from_cycle(perturbated_activations)[:, class_id]\n",
    "\n",
    "        stis = estimator(masks, y_pred, sobol_nb_design)\n",
    "        importances.append(stis)\n",
    "\n",
    "    global_importance = np.mean(importances, axis=0)\n",
    "\n",
    "    return global_importance"
   ]
  },
  {
   "cell_type": "code",
   "execution_count": 7,
   "metadata": {},
   "outputs": [],
   "source": [
    "# Get the positive class embedding matrix\n",
    "labels = np.array(simulate.labels)\n",
    "pos_normalized_embedding_matrix = normalized_embedding_matrix[np.array(simulate.labels) == 1]"
   ]
  },
  {
   "cell_type": "code",
   "execution_count": 8,
   "metadata": {},
   "outputs": [
    {
     "data": {
      "image/png": "[encoded data removed]",
      "text/plain": [
       "<Figure size 2200x400 with 1 Axes>"
      ]
     },
     "metadata": {},
     "output_type": "display_data"
    },
    {
     "name": "stdout",
     "output_type": "stream",
     "text": [
      "Number of concepts over mean + std: 2\n"
     ]
    }
   ],
   "source": [
    "# Init the NMF\n",
    "factorization = NMF(n_components=20, max_iter=10000)\n",
    "\n",
    "# Fit the NMF model to the positive normalized embedding matrix\n",
    "u_matrix: np.ndarray = factorization.fit_transform(\n",
    "    pos_normalized_embedding_matrix\n",
    ")  # concept coefficient matrix\n",
    "w_matrix: np.ndarray = factorization.components_  # concept base matrix\n",
    "\n",
    "# Compute the concept importance using Sobol's method\n",
    "pos_concept_importance = sobol_importance(\n",
    "    activations=pos_normalized_embedding_matrix,\n",
    "    class_id=1,\n",
    "    W=w_matrix,\n",
    "    components=factorization.n_components,\n",
    ")\n",
    "\n",
    "threshold = pos_concept_importance.mean() + pos_concept_importance.std()\n",
    "\n",
    "# Plot the results\n",
    "plt.figure(figsize=(22, 4))\n",
    "\n",
    "plt.subplot(122)\n",
    "plt.bar(\n",
    "    range(len(pos_concept_importance)),\n",
    "    pos_concept_importance,\n",
    "    color=plt.get_cmap(\"tab20\").colors,\n",
    "    tick_label=range(len(pos_concept_importance)),\n",
    ")\n",
    "plt.axhline(threshold)\n",
    "plt.title(\"concepts for positive classification\")\n",
    "\n",
    "# label axes\n",
    "plt.xlabel(\"Concept ID\")\n",
    "plt.ylabel(\"Importance Score\")\n",
    "\n",
    "plt.show()\n",
    "\n",
    "# calculate number of concepts over pos_concept_importance.std()\n",
    "num_concepts = np.sum(pos_concept_importance > (pos_concept_importance.std() + pos_concept_importance.mean()))\n",
    "print(f\"Number of concepts over mean + std: {num_concepts}\")"
   ]
  },
  {
   "cell_type": "code",
   "execution_count": 9,
   "metadata": {},
   "outputs": [],
   "source": [
    "df_concept_aligned = data.get_df()[[\"title\", \"abstract\"]]\n",
    "df_concept_aligned = df_concept_aligned[labels == 1]\n",
    "df_concept_aligned[\"text\"] = (\n",
    "    simulate.cycles[0]\n",
    "    .feature_extractor.steps[0][1]\n",
    "    .transform(df_concept_aligned[[\"title\", \"abstract\"]])\n",
    ")\n",
    "df_concept_aligned[\"u\"] = list(u_matrix)\n",
    "df_concept_aligned[\"a\"] = list(pos_normalized_embedding_matrix)"
   ]
  },
  {
   "cell_type": "code",
   "execution_count": 10,
   "metadata": {},
   "outputs": [],
   "source": [
    "# Get the top concepts based on the threshold\n",
    "top_cids = np.where(pos_concept_importance > threshold)[0]\n"
   ]
  },
  {
   "cell_type": "code",
   "execution_count": 11,
   "metadata": {},
   "outputs": [],
   "source": [
    "# rows = []\n",
    "# for cid in top_cids:\n",
    "#     best_ids = np.argsort(u_matrix[:, cid])[::-1][:10]\n",
    "#     for i in best_ids:\n",
    "#         rows.append({\"text\": df_concept_aligned.iloc[i][\"text\"], \"concept_id\": cid})\n",
    "\n",
    "# df_top_abs = pd.DataFrame(data=rows)\n",
    "\n",
    "# ps = PorterStemmer()\n",
    "# top_words_per_concept = {}\n",
    "\n",
    "# for concept in top_cids:\n",
    "#     texts = df_top_abs[df_top_abs[\"concept_id\"] == concept].text\n",
    "#     words = []\n",
    "#     for t in texts:\n",
    "#         words += [\n",
    "#             #ps.stem(w)\n",
    "#             w\n",
    "#             for w in re.findall(r\"\\b\\w+\\b\", t.lower())\n",
    "#             if w not in stop_words and not w.isdigit()\n",
    "#         ]\n",
    "#     counter = Counter(words)\n",
    "#     top_words = [w for w, _ in counter.most_common(20)]\n",
    "#     top_words_per_concept[concept] = top_words\n",
    "\n",
    "# pd.DataFrame(top_words_per_concept)"
   ]
  },
  {
   "cell_type": "markdown",
   "metadata": {},
   "source": [
    "# Occlusion"
   ]
  },
  {
   "cell_type": "code",
   "execution_count": 12,
   "metadata": {},
   "outputs": [],
   "source": [
    "class ClauseLangVars(PunktLanguageVars):\n",
    "    sent_end_chars = ('.', '?', '!', ',', ';', ':')\n",
    "\n",
    "clause_tokenizer = PunktSentenceTokenizer(lang_vars=ClauseLangVars())"
   ]
  },
  {
   "cell_type": "code",
   "execution_count": 13,
   "metadata": {},
   "outputs": [],
   "source": [
    "# Create occlusion function to analyze the concepts\n",
    "\n",
    "def occlude_concepts(\n",
    "    row,\n",
    "    concept_ids,\n",
    "    simulate=simulate,\n",
    "    factorization=factorization,\n",
    "    component_size : str = 'sentences',\n",
    ") -> pd.DataFrame:\n",
    "    \n",
    "    text = row[\"text\"]\n",
    "    abstract_components = []\n",
    "    \n",
    "    match component_size:\n",
    "        case 'sentences':\n",
    "            abstract_components = sent_tokenize(text)\n",
    "        case 'clauses':\n",
    "            abstract_components = clause_tokenizer.tokenize(text)\n",
    "        case 'n_words':\n",
    "            words = text.split()\n",
    "            n = 20\n",
    "            abstract_components = [\n",
    "                \" \".join(words[i : i + n]) for i in range(0, len(words), n)\n",
    "            ]\n",
    "\n",
    "    perturbed_texts = [\n",
    "        \" \".join(s for j, s in enumerate(abstract_components) if j != i)\n",
    "        for i in range(len(abstract_components))\n",
    "    ]\n",
    "\n",
    "    # Mute the transformer verbose output\n",
    "    simulate.cycles[0].feature_extractor.steps[1][1].verbose = False\n",
    "\n",
    "    # only use the transformer, not the text merger\n",
    "    A_occluded = (\n",
    "        simulate.cycles[0].feature_extractor.steps[1][1].fit_transform(perturbed_texts)\n",
    "    )\n",
    "\n",
    "    # Normalize using original min and max values, not the new ones!\n",
    "    A_norm = embedding_normalizer.normalize(embedding=A_occluded)\n",
    "\n",
    "    # project the whole batch to concept space\n",
    "    U_occ = factorization.transform(A_norm)\n",
    "\n",
    "    # ∆U: full – perturbed  (broadcasts row['u'])\n",
    "    delta = row[\"u\"] - U_occ\n",
    "\n",
    "    # Only keep the columns for the selected concept_ids\n",
    "    concept_cols = [f\"concept_{i}\" for i in concept_ids]\n",
    "    delta_selected = delta[:, concept_ids]\n",
    "\n",
    "    # normalize using the method cockatiel uses\n",
    "    delta_selected /= np.max(np.abs(delta_selected)) + 1e-5\n",
    "    delta_selected = np.clip(delta_selected, 0, 1)\n",
    "\n",
    "    out = pd.DataFrame(delta_selected, columns=concept_cols)\n",
    "    out.insert(0, \"sentence\", abstract_components)\n",
    "\n",
    "    return out"
   ]
  },
  {
   "cell_type": "markdown",
   "metadata": {},
   "source": [
    "## Visualization"
   ]
  },
  {
   "cell_type": "code",
   "execution_count": 64,
   "metadata": {},
   "outputs": [],
   "source": [
    "colors = np.array(\n",
    "    [\n",
    "        \"rgba(9, 221, 55, \",  # green\n",
    "        \"rgba(9, 175, 221, \",  # blue\n",
    "        \"rgba(221, 90, 9, \",  # orange\n",
    "        \"rgba(9, 34, 221, \",  # purple\n",
    "        \"rgba(221, 9, 34, \",  # red\n",
    "        \"rgba(221, 9, 140,\",  # pink\n",
    "        \"rgba(9, 221, 161, \",  # turquoise\n",
    "    ]\n",
    ")\n",
    "\n",
    "\n",
    "def visualize_concepts(df: pd.DataFrame, colors: np.array, threshold=0.2, print : bool = True) -> str:\n",
    "    html = []\n",
    "\n",
    "    concept_ids = df.columns[1:]\n",
    "\n",
    "    for i, concept_id in enumerate(concept_ids):\n",
    "        html.append(\n",
    "            f'<span style=\"background-color: {colors[i]} 0.5); margin: 7px; padding: 1px 5px; border: solid 3px ; border-color: {colors[i]} 1); #EFEFEF\">{concept_id} </span>'\n",
    "        )\n",
    "    if print:\n",
    "        display(\n",
    "            HTML(\n",
    "                \"<div style='display: flex; width: 400px; flex-wrap: wrap;'>\"\n",
    "                + \" \".join(html)\n",
    "                + \" </div>\"\n",
    "            )\n",
    "        )\n",
    "\n",
    "    html = []\n",
    "\n",
    "    # Sentence-level highlighting\n",
    "    for _, row in df.iterrows():\n",
    "        sentence = row[\"sentence\"]\n",
    "        phi_vals = [row[cid] for cid in concept_ids]\n",
    "        k = np.argmax(phi_vals)\n",
    "        max_phi = phi_vals[k]\n",
    "        if max_phi > threshold:\n",
    "            html.append(\n",
    "                f'<span style=\"display: inline; background-color: {colors[k]} {max_phi}); padding: 1px 5px; border: solid 3px ; border-color: {colors[k]} 1); #EFEFEF\">{sentence}</span>'\n",
    "            )\n",
    "        else:\n",
    "            html.append(\n",
    "                f'<span style=\"display: inline; background-color: rgba(0, 0, 0, 0.0); padding: 1px 5px; border: solid 3px ; border-color: rgba(0, 0, 0, 0.0); #EFEFEF\">{sentence}</span>'\n",
    "            )\n",
    "\n",
    "    formatted_sentence_display = \"<div style='display: flex; width: 1000px; flex-wrap: wrap; line-height: 2; text-align: justify;'>\" + \"\".join(html) + \" </div>\"\n",
    "    \n",
    "    if print:\n",
    "        display(\n",
    "            HTML(\n",
    "                formatted_sentence_display\n",
    "            )\n",
    "        )\n",
    "\n",
    "    return formatted_sentence_display\n"
   ]
  },
  {
   "cell_type": "code",
   "execution_count": 15,
   "metadata": {},
   "outputs": [
    {
     "name": "stdout",
     "output_type": "stream",
     "text": [
      "Embedding text...\n",
      "Model 'mixedbread-ai/mxbai-embed-large-v1' has been loaded.\n"
     ]
    },
    {
     "data": {
      "application/vnd.jupyter.widget-view+json": {
       "model_id": "739e41e1db16443cb59868b31733fe09",
       "version_major": 2,
       "version_minor": 0
      },
      "text/plain": [
       "Batches:   0%|          | 0/1 [00:00<?, ?it/s]"
      ]
     },
     "metadata": {},
     "output_type": "display_data"
    },
    {
     "data": {
      "text/html": [
       "<div style='display: flex; width: 400px; flex-wrap: wrap;'><span style=\"background-color: rgba(9, 221, 55,  0.5); margin: 7px; padding: 1px 5px; border: solid 3px ; border-color: rgba(9, 221, 55,  1); #EFEFEF\">concept_5 </span> <span style=\"background-color: rgba(9, 175, 221,  0.5); margin: 7px; padding: 1px 5px; border: solid 3px ; border-color: rgba(9, 175, 221,  1); #EFEFEF\">concept_7 </span> </div>"
      ],
      "text/plain": [
       "<IPython.core.display.HTML object>"
      ]
     },
     "metadata": {},
     "output_type": "display_data"
    },
    {
     "data": {
      "text/html": [
       "<div style='display: flex; width: 1000px; flex-wrap: wrap; line-height: 2; text-align: justify;'><span style=\"display: inline; background-color: rgba(9, 221, 55,  0.36491814255714417); padding: 1px 5px; border: solid 3px ; border-color: rgba(9, 221, 55,  1); #EFEFEF\">\n",
       "In this empirical study,</span><span style=\"display: inline; background-color: rgba(9, 221, 55,  0.3468596637248993); padding: 1px 5px; border: solid 3px ; border-color: rgba(9, 221, 55,  1); #EFEFEF\">we analyse revision and static-metric data from nine open-source Java projects.</span><span style=\"display: inline; background-color: rgba(9, 175, 221,  0.5773135423660278); padding: 1px 5px; border: solid 3px ; border-color: rgba(9, 175, 221,  1); #EFEFEF\">We train time-ordered machine-learning models to predict whether a given class will contain faults in its next release,</span><span style=\"display: inline; background-color: rgba(9, 175, 221,  0.22023436427116394); padding: 1px 5px; border: solid 3px ; border-color: rgba(9, 175, 221,  1); #EFEFEF\">thereby focusing squarely on fault prediction at the unit level of a software system.</span><span style=\"display: inline; background-color: rgba(9, 221, 55,  0.5383510589599609); padding: 1px 5px; border: solid 3px ; border-color: rgba(9, 221, 55,  1); #EFEFEF\">The sole dependent variable in every model is the post-release fault count for each class,</span><span style=\"display: inline; background-color: rgba(0, 0, 0, 0.0); padding: 1px 5px; border: solid 3px ; border-color: rgba(0, 0, 0, 0.0); #EFEFEF\">obtained from linked issue trackers.</span><span style=\"display: inline; background-color: rgba(0, 0, 0, 0.0); padding: 1px 5px; border: solid 3px ; border-color: rgba(0, 0, 0, 0.0); #EFEFEF\">These results show that empirically derived models can accurately flag the most fault-prone units.</span> </div>"
      ],
      "text/plain": [
       "<IPython.core.display.HTML object>"
      ]
     },
     "metadata": {},
     "output_type": "display_data"
    },
    {
     "data": {
      "text/plain": [
       "'<div style=\\'display: flex; width: 1000px; flex-wrap: wrap; line-height: 2; text-align: justify;\\'><span style=\"display: inline; background-color: rgba(9, 221, 55,  0.36491814255714417); padding: 1px 5px; border: solid 3px ; border-color: rgba(9, 221, 55,  1); #EFEFEF\">\\nIn this empirical study,</span><span style=\"display: inline; background-color: rgba(9, 221, 55,  0.3468596637248993); padding: 1px 5px; border: solid 3px ; border-color: rgba(9, 221, 55,  1); #EFEFEF\">we analyse revision and static-metric data from nine open-source Java projects.</span><span style=\"display: inline; background-color: rgba(9, 175, 221,  0.5773135423660278); padding: 1px 5px; border: solid 3px ; border-color: rgba(9, 175, 221,  1); #EFEFEF\">We train time-ordered machine-learning models to predict whether a given class will contain faults in its next release,</span><span style=\"display: inline; background-color: rgba(9, 175, 221,  0.22023436427116394); padding: 1px 5px; border: solid 3px ; border-color: rgba(9, 175, 221,  1); #EFEFEF\">thereby focusing squarely on fault prediction at the unit level of a software system.</span><span style=\"display: inline; background-color: rgba(9, 221, 55,  0.5383510589599609); padding: 1px 5px; border: solid 3px ; border-color: rgba(9, 221, 55,  1); #EFEFEF\">The sole dependent variable in every model is the post-release fault count for each class,</span><span style=\"display: inline; background-color: rgba(0, 0, 0, 0.0); padding: 1px 5px; border: solid 3px ; border-color: rgba(0, 0, 0, 0.0); #EFEFEF\">obtained from linked issue trackers.</span><span style=\"display: inline; background-color: rgba(0, 0, 0, 0.0); padding: 1px 5px; border: solid 3px ; border-color: rgba(0, 0, 0, 0.0); #EFEFEF\">These results show that empirically derived models can accurately flag the most fault-prone units.</span> </div>'"
      ]
     },
     "execution_count": 15,
     "metadata": {},
     "output_type": "execute_result"
    }
   ],
   "source": [
    "test_series = pd.Series(\n",
    "    df_concept_aligned.columns,\n",
    "    index=df_concept_aligned.columns,\n",
    ")\n",
    "\n",
    "test_series.title = \"\"\n",
    "test_series.abstract = \"\"\"\n",
    "In this empirical study, we analyse revision and static-metric data from nine open-source Java projects. We train time-ordered machine-learning models to predict whether a given class will contain faults in its next release, thereby focusing squarely on fault prediction at the unit level of a software system. The sole dependent variable in every model is the post-release fault count for each class, obtained from linked issue trackers. These results show that empirically derived models can accurately flag the most fault-prone units.\n",
    "\"\"\"\n",
    "test_series.text = test_series.abstract\n",
    "embed = embedding_normalizer.normalize(simulate.cycles[0].feature_extractor.steps[1][1].fit_transform(test_series.abstract))\n",
    "test_series.u = factorization.transform(embed.reshape(1, -1))[0]\n",
    "test_series.a = occlude_concepts(\n",
    "    row=test_series,\n",
    "    concept_ids=top_cids,\n",
    "    simulate=simulate,\n",
    "    factorization=factorization,\n",
    "    component_size=\"clauses\",\n",
    ")\n",
    "\n",
    "#alignment = occlude_concepts(df_concept_aligned.iloc[1], top_cids, component_size='clauses')\n",
    "visualize_concepts(test_series.a, 0.2, print=True)"
   ]
  },
  {
   "cell_type": "markdown",
   "metadata": {},
   "source": [
    "# Generate alignment highlighting images"
   ]
  },
  {
   "cell_type": "code",
   "execution_count": 16,
   "metadata": {},
   "outputs": [],
   "source": [
    "# make folder \n",
    "if not os.path.exists(f\"output/{dataset}\"):\n",
    "    os.makedirs(f\"output/{dataset}\")\n",
    "    os.makedirs(f\"output/{dataset}/clauses\")\n",
    "    os.makedirs(f\"output/{dataset}/sentences\")"
   ]
  },
  {
   "cell_type": "code",
   "execution_count": null,
   "metadata": {},
   "outputs": [],
   "source": [
    "html_data = []\n",
    "\n",
    "component_size = 'clauses'\n",
    "\n",
    "for record_id in tqdm(range(len(df_concept_aligned))):\n",
    "    alignment = occlude_concepts(df_concept_aligned.iloc[record_id], top_cids, component_size=component_size)\n",
    "    visualized_abstract = visualize_concepts(alignment, 0.25, print=False)\n",
    "    imgkit.from_string(visualized_abstract, f'output/{dataset}/{component_size}/abstract_{record_id}.png', config=Config(wkhtmltoimage=r\"C:\\Program Files\\wkhtmltopdf\\bin\\wkhtmltoimage.exe\"))\n",
    "    html_data.append(visualized_abstract)\n",
    "\n",
    "with open(f\"output/{dataset}/{component_size}/abstracts.html\", \"w\", encoding=\"utf-8\") as f:\n",
    "    for html in html_data:\n",
    "        f.write(html + \"\\n\")"
   ]
  },
  {
   "cell_type": "code",
   "execution_count": null,
   "metadata": {},
   "outputs": [],
   "source": [
    "html_data = []\n",
    "\n",
    "component_size = 'sentences'\n",
    "\n",
    "for record_id in tqdm(range(len(df_concept_aligned))):\n",
    "    alignment = occlude_concepts(df_concept_aligned.iloc[record_id], top_cids, component_size=component_size)\n",
    "    visualized_abstract = visualize_concepts(alignment, 0.25, print=False)\n",
    "    imgkit.from_string(visualized_abstract, f'output/{dataset}/{component_size}/abstract_{record_id}.png', config=Config(wkhtmltoimage=r\"C:\\Program Files\\wkhtmltopdf\\bin\\wkhtmltoimage.exe\"))\n",
    "    html_data.append(visualized_abstract)\n",
    "\n",
    "with open(f\"output/{dataset}/{component_size}/abstracts.html\", \"w\", encoding=\"utf-8\") as f:\n",
    "    for html in html_data:\n",
    "        f.write(html + \"\\n\")"
   ]
  },
  {
   "cell_type": "markdown",
   "metadata": {},
   "source": [
    "# Similarity scores"
   ]
  },
  {
   "cell_type": "code",
   "execution_count": 18,
   "metadata": {},
   "outputs": [],
   "source": [
    "from sklearn.metrics.pairwise import cosine_similarity"
   ]
  },
  {
   "cell_type": "code",
   "execution_count": 110,
   "metadata": {},
   "outputs": [],
   "source": [
    "inclusion_criteria = [\"This study is an empirical study\",\n",
    "\"This study is focused on predicting faults in units of a software system\",\n",
    "\"Faults in code is the main output of this study (dependent variable)\",\n",
    "\"Alpheus makes his way far under the deep with his waters\",\n",
    "\"Travels to Arethusa with bridal gifts, fair leaves and flowers\",\n",
    "\"Teacher of strange ways is Love, that knavish boy, makes of mischief\"]"
   ]
  },
  {
   "cell_type": "code",
   "execution_count": 113,
   "metadata": {},
   "outputs": [],
   "source": [
    "inclusion_criteria_embedded = simulate.cycles[0].feature_extractor.steps[1][1].fit_transform(inclusion_criteria)\n",
    "inclusion_criteria_normalized = embedding_normalizer.normalize(embedding = inclusion_criteria_embedded)\n",
    "\n",
    "similarity = cosine_similarity(inclusion_criteria_normalized, w_matrix)\n",
    "similarity_df = pd.DataFrame(similarity).filter(top_cids).assign(sentence = inclusion_criteria)\n",
    "\n",
    "for i, col in enumerate(similarity_df.columns[:-1]):\n",
    "    similarity_df[col] = EmbeddingNormalizer(similarity_df[col]).normalize()"
   ]
  },
  {
   "cell_type": "code",
   "execution_count": 114,
   "metadata": {},
   "outputs": [
    {
     "data": {
      "text/html": [
       "<div>\n",
       "<style scoped>\n",
       "    .dataframe tbody tr th:only-of-type {\n",
       "        vertical-align: middle;\n",
       "    }\n",
       "\n",
       "    .dataframe tbody tr th {\n",
       "        vertical-align: top;\n",
       "    }\n",
       "\n",
       "    .dataframe thead th {\n",
       "        text-align: right;\n",
       "    }\n",
       "</style>\n",
       "<table border=\"1\" class=\"dataframe\">\n",
       "  <thead>\n",
       "    <tr style=\"text-align: right;\">\n",
       "      <th></th>\n",
       "      <th>5</th>\n",
       "      <th>7</th>\n",
       "      <th>sentence</th>\n",
       "    </tr>\n",
       "  </thead>\n",
       "  <tbody>\n",
       "    <tr>\n",
       "      <th>0</th>\n",
       "      <td>1.000000</td>\n",
       "      <td>0.628365</td>\n",
       "      <td>This study is an empirical study</td>\n",
       "    </tr>\n",
       "    <tr>\n",
       "      <th>1</th>\n",
       "      <td>0.490552</td>\n",
       "      <td>1.000000</td>\n",
       "      <td>This study is focused on predicting faults in ...</td>\n",
       "    </tr>\n",
       "    <tr>\n",
       "      <th>2</th>\n",
       "      <td>0.886599</td>\n",
       "      <td>0.888122</td>\n",
       "      <td>Faults in code is the main output of this stud...</td>\n",
       "    </tr>\n",
       "    <tr>\n",
       "      <th>3</th>\n",
       "      <td>0.025708</td>\n",
       "      <td>0.000000</td>\n",
       "      <td>Alpheus makes his way far under the deep with ...</td>\n",
       "    </tr>\n",
       "    <tr>\n",
       "      <th>4</th>\n",
       "      <td>0.235639</td>\n",
       "      <td>0.066868</td>\n",
       "      <td>Travels to Arethusa with bridal gifts, fair le...</td>\n",
       "    </tr>\n",
       "    <tr>\n",
       "      <th>5</th>\n",
       "      <td>0.000000</td>\n",
       "      <td>0.281111</td>\n",
       "      <td>Teacher of strange ways is Love, that knavish ...</td>\n",
       "    </tr>\n",
       "  </tbody>\n",
       "</table>\n",
       "</div>"
      ],
      "text/plain": [
       "          5         7                                           sentence\n",
       "0  1.000000  0.628365                   This study is an empirical study\n",
       "1  0.490552  1.000000  This study is focused on predicting faults in ...\n",
       "2  0.886599  0.888122  Faults in code is the main output of this stud...\n",
       "3  0.025708  0.000000  Alpheus makes his way far under the deep with ...\n",
       "4  0.235639  0.066868  Travels to Arethusa with bridal gifts, fair le...\n",
       "5  0.000000  0.281111  Teacher of strange ways is Love, that knavish ..."
      ]
     },
     "execution_count": 114,
     "metadata": {},
     "output_type": "execute_result"
    }
   ],
   "source": [
    "similarity_df"
   ]
  },
  {
   "cell_type": "code",
   "execution_count": 120,
   "metadata": {},
   "outputs": [
    {
     "data": {
      "text/plain": [
       "<Figure size 2200x400 with 0 Axes>"
      ]
     },
     "metadata": {},
     "output_type": "display_data"
    },
    {
     "data": {
      "image/png": "[encoded data removed]",
      "text/plain": [
       "<Figure size 640x480 with 1 Axes>"
      ]
     },
     "metadata": {},
     "output_type": "display_data"
    }
   ],
   "source": [
    "colors = np.array([\n",
    "    (9/255, 221/255, 55/255, 1),     # green\n",
    "    (9/255, 175/255, 221/255, 1),    # blue\n",
    "    (221/255, 90/255, 9/255, 1),     # orange\n",
    "    (9/255, 34/255, 221/255, 1),     # purple\n",
    "    (221/255, 9/255, 34/255, 1),     # red\n",
    "    (221/255, 9/255, 140/255, 1),    # pink\n",
    "    (9/255, 221/255, 161/255, 1),    # turquoise\n",
    "])\n",
    "\n",
    "# plot similarity_df, using a bar chart with the concept ids on the x-axis and the similarity scores on the y-axis\n",
    "plt.figure(figsize=(22, 4))\n",
    "axes = similarity_df.iloc[:3].plot.bar(\n",
    "    y=similarity_df.iloc[:3].columns[:-1],\n",
    "    color=colors[:len(similarity_df.columns)-1],\n",
    "    rot=0,\n",
    "    title=\"Similarity of inclusion criteria to concepts\",\n",
    ")\n",
    "\n",
    "for i, col in enumerate(similarity_df.columns[:-1]):\n",
    "    axes.axhline(similarity_df[col][-3:].mean(), color=colors[i], linestyle='--', label=f\"Baseline {col}\")\n",
    "\n",
    "# add dashed lines to legend as baseline\n",
    "axes.legend(loc='upper left', bbox_to_anchor=(1, 1), title=\"Concepts\", fontsize='small')\n",
    "\n",
    "axes.set_xlabel(\"# Inclusion Criterion\")\n",
    "axes.set_ylabel(\"Normalized Similarity Score\")\n",
    "axes.set_ylim(similarity_df.min(numeric_only=True).min()-0.01, similarity_df.max(numeric_only=True).max()+0.01)\n",
    "\n",
    "# save plot in output folder\n",
    "plt.savefig(f\"output/{dataset}/{dataset}_similarity_plot.png\", bbox_inches='tight', dpi=300)"
   ]
  },
  {
   "cell_type": "markdown",
   "metadata": {},
   "source": [
    "# sentence occlusion without concepts"
   ]
  },
  {
   "cell_type": "code",
   "execution_count": null,
   "metadata": {},
   "outputs": [
    {
     "data": {
      "text/html": [
       "<div style='display: flex; width: 400px; flex-wrap: wrap;'><span style=\"background-color: rgba(9, 221, 55,  0.5); margin: 7px; padding: 1px 5px; border: solid 3px ; border-color: rgba(9, 221, 55,  1); #EFEFEF\">Positive Impact </span> <span style=\"background-color: rgba(221, 9, 34,  0.5); margin: 7px; padding: 1px 5px; border: solid 3px ; border-color: rgba(221, 9, 34,  1); #EFEFEF\">Negative Impact </span> </div>"
      ],
      "text/plain": [
       "<IPython.core.display.HTML object>"
      ]
     },
     "metadata": {},
     "output_type": "display_data"
    },
    {
     "data": {
      "text/html": [
       "<div style='display: flex; width: 1000px; flex-wrap: wrap; line-height: 2; text-align: justify;'><span style=\"display: inline; background-color: rgba(221, 9, 34,  0.27768447271990215); padding: 1px 5px; border: solid 3px ; border-color: rgba(221, 9, 34,  1); #EFEFEF\">Modeling the Effect of Size on Defect Proneness for Open-Source Software Quality is becoming increasingly important with the continuous adoption of open-source software.</span><span style=\"display: inline; background-color: rgba(9, 221, 55,  0.8647795733457739); padding: 1px 5px; border: solid 3px ; border-color: rgba(9, 221, 55,  1); #EFEFEF\">Previous research has found that there is generally a positive relationship between module size and defect proneness.</span><span style=\"display: inline; background-color: rgba(9, 221, 55,  0.515129014579979); padding: 1px 5px; border: solid 3px ; border-color: rgba(9, 221, 55,  1); #EFEFEF\">Therefore,</span><span style=\"display: inline; background-color: rgba(9, 221, 55,  0.7364078990130177); padding: 1px 5px; border: solid 3px ; border-color: rgba(9, 221, 55,  1); #EFEFEF\">in open-source software development,</span><span style=\"display: inline; background-color: rgba(0, 0, 0, 0.0); padding: 1px 5px; border: solid 3px ; border-color: rgba(0, 0, 0, 0.0); #EFEFEF\">it is important to monitor module size and understand its impact on defect proneness.</span><span style=\"display: inline; background-color: rgba(9, 221, 55,  0.6938580219802999); padding: 1px 5px; border: solid 3px ; border-color: rgba(9, 221, 55,  1); #EFEFEF\">However,</span><span style=\"display: inline; background-color: rgba(9, 221, 55,  0.9568039474242129); padding: 1px 5px; border: solid 3px ; border-color: rgba(9, 221, 55,  1); #EFEFEF\">traditional approaches to quality modeling,</span><span style=\"display: inline; background-color: rgba(9, 221, 55,  0.6375506890738772); padding: 1px 5px; border: solid 3px ; border-color: rgba(9, 221, 55,  1); #EFEFEF\">which measure specific system snapshots and obtain future defect counts,</span><span style=\"display: inline; background-color: rgba(9, 221, 55,  0.8094435436400208); padding: 1px 5px; border: solid 3px ; border-color: rgba(9, 221, 55,  1); #EFEFEF\">are not well suited because open-source modules usually evolve and their size changes over time.</span><span style=\"display: inline; background-color: rgba(9, 221, 55,  0.2538345719529812); padding: 1px 5px; border: solid 3px ; border-color: rgba(9, 221, 55,  1); #EFEFEF\">In this study,</span><span style=\"display: inline; background-color: rgba(221, 9, 34,  1.0); padding: 1px 5px; border: solid 3px ; border-color: rgba(221, 9, 34,  1); #EFEFEF\">we used Cox proportional hazards modeling with recurrent events to study the effect of class size on defect-proneness in the Mozilla product.</span><span style=\"display: inline; background-color: rgba(0, 0, 0, 0.0); padding: 1px 5px; border: solid 3px ; border-color: rgba(0, 0, 0, 0.0); #EFEFEF\">We found that the effect of size was significant,</span><span style=\"display: inline; background-color: rgba(9, 221, 55,  0.28597778366823234); padding: 1px 5px; border: solid 3px ; border-color: rgba(9, 221, 55,  1); #EFEFEF\">and we quantified this effect on defect proneness.</span> </div>"
      ],
      "text/plain": [
       "<IPython.core.display.HTML object>"
      ]
     },
     "metadata": {},
     "output_type": "display_data"
    },
    {
     "name": "stdout",
     "output_type": "stream",
     "text": [
      "Loading page (1/2)\n",
      "Rendering (2/2)                                                    \n",
      "Done                                                               \n"
     ]
    },
    {
     "data": {
      "text/html": [
       "<div>\n",
       "<style scoped>\n",
       "    .dataframe tbody tr th:only-of-type {\n",
       "        vertical-align: middle;\n",
       "    }\n",
       "\n",
       "    .dataframe tbody tr th {\n",
       "        vertical-align: top;\n",
       "    }\n",
       "\n",
       "    .dataframe thead th {\n",
       "        text-align: right;\n",
       "    }\n",
       "</style>\n",
       "<table border=\"1\" class=\"dataframe\">\n",
       "  <thead>\n",
       "    <tr style=\"text-align: right;\">\n",
       "      <th></th>\n",
       "      <th>sentence</th>\n",
       "      <th>Positive Impact</th>\n",
       "      <th>Negative Impact</th>\n",
       "    </tr>\n",
       "  </thead>\n",
       "  <tbody>\n",
       "    <tr>\n",
       "      <th>0</th>\n",
       "      <td>Modeling the Effect of Size on Defect Pronenes...</td>\n",
       "      <td>0.000000</td>\n",
       "      <td>0.277684</td>\n",
       "    </tr>\n",
       "    <tr>\n",
       "      <th>1</th>\n",
       "      <td>Previous research has found that there is gene...</td>\n",
       "      <td>0.864780</td>\n",
       "      <td>0.000000</td>\n",
       "    </tr>\n",
       "    <tr>\n",
       "      <th>2</th>\n",
       "      <td>Therefore,</td>\n",
       "      <td>0.515129</td>\n",
       "      <td>0.000000</td>\n",
       "    </tr>\n",
       "    <tr>\n",
       "      <th>3</th>\n",
       "      <td>in open-source software development,</td>\n",
       "      <td>0.736408</td>\n",
       "      <td>0.000000</td>\n",
       "    </tr>\n",
       "    <tr>\n",
       "      <th>4</th>\n",
       "      <td>it is important to monitor module size and und...</td>\n",
       "      <td>0.045873</td>\n",
       "      <td>0.000000</td>\n",
       "    </tr>\n",
       "    <tr>\n",
       "      <th>5</th>\n",
       "      <td>However,</td>\n",
       "      <td>0.693858</td>\n",
       "      <td>0.000000</td>\n",
       "    </tr>\n",
       "    <tr>\n",
       "      <th>6</th>\n",
       "      <td>traditional approaches to quality modeling,</td>\n",
       "      <td>0.956804</td>\n",
       "      <td>0.000000</td>\n",
       "    </tr>\n",
       "    <tr>\n",
       "      <th>7</th>\n",
       "      <td>which measure specific system snapshots and ob...</td>\n",
       "      <td>0.637551</td>\n",
       "      <td>0.000000</td>\n",
       "    </tr>\n",
       "    <tr>\n",
       "      <th>8</th>\n",
       "      <td>are not well suited because open-source module...</td>\n",
       "      <td>0.809444</td>\n",
       "      <td>0.000000</td>\n",
       "    </tr>\n",
       "    <tr>\n",
       "      <th>9</th>\n",
       "      <td>In this study,</td>\n",
       "      <td>0.253835</td>\n",
       "      <td>0.000000</td>\n",
       "    </tr>\n",
       "    <tr>\n",
       "      <th>10</th>\n",
       "      <td>we used Cox proportional hazards modeling with...</td>\n",
       "      <td>0.000000</td>\n",
       "      <td>1.000000</td>\n",
       "    </tr>\n",
       "    <tr>\n",
       "      <th>11</th>\n",
       "      <td>We found that the effect of size was significant,</td>\n",
       "      <td>0.173068</td>\n",
       "      <td>0.000000</td>\n",
       "    </tr>\n",
       "    <tr>\n",
       "      <th>12</th>\n",
       "      <td>and we quantified this effect on defect pronen...</td>\n",
       "      <td>0.285978</td>\n",
       "      <td>0.000000</td>\n",
       "    </tr>\n",
       "  </tbody>\n",
       "</table>\n",
       "</div>"
      ],
      "text/plain": [
       "                                             sentence  Positive Impact  \\\n",
       "0   Modeling the Effect of Size on Defect Pronenes...         0.000000   \n",
       "1   Previous research has found that there is gene...         0.864780   \n",
       "2                                          Therefore,         0.515129   \n",
       "3                in open-source software development,         0.736408   \n",
       "4   it is important to monitor module size and und...         0.045873   \n",
       "5                                            However,         0.693858   \n",
       "6         traditional approaches to quality modeling,         0.956804   \n",
       "7   which measure specific system snapshots and ob...         0.637551   \n",
       "8   are not well suited because open-source module...         0.809444   \n",
       "9                                      In this study,         0.253835   \n",
       "10  we used Cox proportional hazards modeling with...         0.000000   \n",
       "11  We found that the effect of size was significant,         0.173068   \n",
       "12  and we quantified this effect on defect pronen...         0.285978   \n",
       "\n",
       "    Negative Impact  \n",
       "0          0.277684  \n",
       "1          0.000000  \n",
       "2          0.000000  \n",
       "3          0.000000  \n",
       "4          0.000000  \n",
       "5          0.000000  \n",
       "6          0.000000  \n",
       "7          0.000000  \n",
       "8          0.000000  \n",
       "9          0.000000  \n",
       "10         1.000000  \n",
       "11         0.000000  \n",
       "12         0.000000  "
      ]
     },
     "execution_count": 135,
     "metadata": {},
     "output_type": "execute_result"
    }
   ],
   "source": [
    "text = df_concept_aligned.iloc[2].text\n",
    "\n",
    "abstract_components = clause_tokenizer.tokenize(text)\n",
    "\n",
    "perturbed_texts = [\n",
    "    \" \".join(s for j, s in enumerate(abstract_components) if j != i)\n",
    "    for i in range(len(abstract_components))\n",
    "]\n",
    "\n",
    "full_abstract_classification = get_proba_from_cycle(EmbeddingNormalizer(simulate.cycles[0].feature_extractor.steps[1][1].fit_transform(text)).normalize().reshape(1, -1))[:,1]\n",
    "\n",
    "embedded_texts = simulate.cycles[0].feature_extractor.steps[1][1].fit_transform(perturbed_texts)\n",
    "normalized_embedded_texts = EmbeddingNormalizer(embedded_texts).normalize()\n",
    "\n",
    "classification_alignment = - (get_proba_from_cycle(normalized_embedded_texts)[:, 1]) + full_abstract_classification\n",
    "classification_alignment = classification_alignment * (1 / np.abs(classification_alignment).max())\n",
    "\n",
    "# create dataframe with the perturbed texts and the classification alignment\n",
    "df = pd.DataFrame({\n",
    "    \"sentence\": abstract_components,\n",
    "    \"Positive Impact\": np.clip(classification_alignment, 0, None),\n",
    "    \"Negative Impact\": np.clip(-classification_alignment, 0, None),\n",
    "})\n",
    "\n",
    "colors = np.array(\n",
    "    [\n",
    "        \"rgba(9, 221, 55, \",  # green\n",
    "        \"rgba(221, 9, 34, \",  # red\n",
    "    ]\n",
    ")\n",
    "\n",
    "html = \"\"\n",
    "\n",
    "for i, concept in enumerate(df.columns[1:]):\n",
    "    html = html + f'<span style=\"background-color: {colors[i]} 0.5); margin: 7px; padding: 1px 5px; border: solid 3px ; border-color: {colors[i]} 1); #EFEFEF\">{concept} </span>'\n",
    "\n",
    "html = html + visualize_concepts(df, colors, 0.2, print=True)\n",
    "\n",
    "imgkit.from_string(html, f'output/{dataset}/{dataset}_example_last_layer.png', config=Config(wkhtmltoimage=r\"C:\\Program Files\\wkhtmltopdf\\bin\\wkhtmltoimage.exe\"))\n",
    "\n",
    "df"
   ]
  }
 ],
 "metadata": {
  "kernelspec": {
   "display_name": "asr-xai",
   "language": "python",
   "name": "python3"
  },
  "language_info": {
   "codemirror_mode": {
    "name": "ipython",
    "version": 3
   },
   "file_extension": ".py",
   "mimetype": "text/x-python",
   "name": "python",
   "nbconvert_exporter": "python",
   "pygments_lexer": "ipython3",
   "version": "3.12.5"
  }
 },
 "nbformat": 4,
 "nbformat_minor": 2
}
